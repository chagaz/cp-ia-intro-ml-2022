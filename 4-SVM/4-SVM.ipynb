{
 "cells": [
  {
   "cell_type": "markdown",
   "id": "2e838e98-86d2-468a-a1ae-a0a668f7cc7a",
   "metadata": {
    "tags": []
   },
   "source": [
    "# Notebook 4 : SVMs et noyaux"
   ]
  },
  {
   "cell_type": "markdown",
   "id": "ccf7198a-776a-4afc-9d3a-bcfe91f0b323",
   "metadata": {},
   "source": [
    "Notebook préparé par [Chloé-Agathe Azencott](http://cazencott.info) avec l'aide de Matthieu Najm.\n",
    "\n",
    "Dans ce notebook il s'agit de découvrir les SVM (machines à vecteur de support) linéaires et à noyaux (non-linéaires)."
   ]
  },
  {
   "cell_type": "code",
   "execution_count": null,
   "id": "d53c6b72-7399-4a08-9106-b2a2465e062f",
   "metadata": {},
   "outputs": [],
   "source": [
    "# charger numpy as np, matplotlib as plt\n",
    "%pylab inline "
   ]
  },
  {
   "cell_type": "code",
   "execution_count": null,
   "id": "dae22a25-f674-44d2-9a6a-2378edbc89fc",
   "metadata": {},
   "outputs": [],
   "source": [
    "plt.rc('font', **{'size': 12}) # règle la taille de police globalement pour les plots (en pt)"
   ]
  },
  {
   "cell_type": "code",
   "execution_count": null,
   "id": "304103cf-0107-4fdf-9015-c5c0c0949307",
   "metadata": {},
   "outputs": [],
   "source": [
    "import pandas as pd"
   ]
  },
  {
   "cell_type": "markdown",
   "id": "9551236a-0ed0-44de-87da-a1013e2ad34e",
   "metadata": {
    "tags": []
   },
   "source": [
    "## 1. Chargement des données"
   ]
  },
  {
   "cell_type": "markdown",
   "id": "3d752a5b-1e1e-42f6-9f84-0a5d28ef4eae",
   "metadata": {},
   "source": [
    "Nous allons essayer de prédire l'espèce d'un manchot à partir de ses caractéristiques physiques à l'aide de Support Vector Machines (SVM).\n",
    "\n",
    "Pour cela nous allons utiliser le dataset *palmerpenguins*, une alternative au desormais classique *iris* de scikit-learn.\n",
    "Pour plus d'informations, vous pouvez allez voir le site: https://allisonhorst.github.io/palmerpenguins/index.html\n",
    "\n",
    "Il contient les caractéristiques de trois espèces de manchots recensés sur l'archipel Palmer, au large de la côte nord-ouest de la peninsule Antarctique."
   ]
  },
  {
   "cell_type": "code",
   "execution_count": null,
   "id": "f6c8aa40-0da7-4770-abca-a64ee4790585",
   "metadata": {},
   "outputs": [],
   "source": [
    "palmerpenguins = pd.read_csv(\"data/penguins_data.csv\")"
   ]
  },
  {
   "cell_type": "markdown",
   "id": "4d1cbda5-d533-41e1-9c37-713a730a20f9",
   "metadata": {},
   "source": [
    "__Alternativement :__ Si vous avez besoin de télécharger le fichier (par exemple sur colab) :"
   ]
  },
  {
   "cell_type": "code",
   "execution_count": null,
   "id": "1298927f-449b-4922-bf70-0246226f805d",
   "metadata": {},
   "outputs": [],
   "source": [
    "!wget https://raw.githubusercontent.com/chagaz/cp-ia-intro-ml-2022/main/4-SVM/data/penguins_data.csv\n",
    "\n",
    "palmerpenguins = pd.read_csv(\"penguins_data.csv\")"
   ]
  },
  {
   "cell_type": "code",
   "execution_count": null,
   "id": "6ac4bcab-c017-46a9-b74c-9f4ac21baa07",
   "metadata": {},
   "outputs": [],
   "source": [
    "palmerpenguins.head()"
   ]
  },
  {
   "cell_type": "markdown",
   "id": "faabb531-cec9-449b-9ad1-69245055bf8f",
   "metadata": {},
   "source": [
    "### Description des données"
   ]
  },
  {
   "cell_type": "code",
   "execution_count": null,
   "id": "f9947f5f-d93d-4f5c-96af-80f4e70c4fa6",
   "metadata": {},
   "outputs": [],
   "source": [
    "print(palmerpenguins.shape)"
   ]
  },
  {
   "cell_type": "code",
   "execution_count": null,
   "id": "2ca5a3eb-1dab-446e-824e-76e17580532a",
   "metadata": {},
   "outputs": [],
   "source": [
    "import collections\n",
    "print(collections.Counter(palmerpenguins.species))"
   ]
  },
  {
   "cell_type": "markdown",
   "id": "493c8b2f-7488-4260-842d-f56b6a7e409b",
   "metadata": {},
   "source": [
    "**344** pingouins avec **8** attributs:\n",
    "- *species* (l'espèce): Adelie (152 pingouins), Gentoo (124 pingouins) et Ginstrap (68 pingouis)\n",
    "- *island* (l'île de recensement): Biscoe, Dream et Torgersen\n",
    "- *bill_length_mm* : la longueur du bec en mm\n",
    "- *bil_depth_mm*: largeur du bec en mm\n",
    "- *flipper_length_mm*: largeur des palmes en mm\n",
    "- *body_mass_g*: poids en g\n",
    "- *sex*: male et female\n",
    "- *year*: année du recensement"
   ]
  },
  {
   "cell_type": "markdown",
   "id": "6f60fdb5-9c4c-4ff8-930c-b0628d3094e9",
   "metadata": {},
   "source": [
    "### Données manquantes"
   ]
  },
  {
   "cell_type": "code",
   "execution_count": null,
   "id": "50d4e9c1-7bc3-455f-9279-8b626bf5ebf3",
   "metadata": {},
   "outputs": [],
   "source": [
    "palmerpenguins.isnull().sum()"
   ]
  },
  {
   "cell_type": "markdown",
   "id": "ee8b7b35-bb3c-4e7c-8404-d884f45279f3",
   "metadata": {},
   "source": [
    "Vous remarquez qu'il y a certaines observations pour lesquelles il manque des informations. C'est ce que l'on appelle des **données manquantes** (ou **missing values**). \n",
    "Nous décidons ici d'ignorer ces observations. "
   ]
  },
  {
   "cell_type": "code",
   "execution_count": null,
   "id": "cbcf0dcc-ba64-4334-a9c4-872ddb9e8b6a",
   "metadata": {},
   "outputs": [],
   "source": [
    "palmerpenguins = palmerpenguins[palmerpenguins['bill_depth_mm'].notna()]\n",
    "palmerpenguins = palmerpenguins.reset_index()\n",
    "palmerpenguins.shape"
   ]
  },
  {
   "cell_type": "markdown",
   "id": "cfcb07d1-b619-4454-9cd2-dba59b8769da",
   "metadata": {},
   "source": [
    "Nous n'avons donc plus que 342 échantillons."
   ]
  },
  {
   "cell_type": "markdown",
   "id": "81314377-8784-4116-a100-c9ffd319cc2a",
   "metadata": {},
   "source": [
    "Au lieu d'ignorer les observations incomplètes, une solution qui s'avère souvent meilleure (du point de vue des performances de modèles décisionnels construits à partir des données) consiste à **estimer** (ou **impute**) les données manquantes et à traiter les valeurs estimées comme des valeurs mesurées. \n",
    "\n",
    "Pour cela nous aurions pu utiliser la fonction *SimpleImputer* de *sklearn.impute*. Pour plus d'informations, vous pouvez aller voir le site: https://scikit-learn.org/stable/modules/impute.html#impute"
   ]
  },
  {
   "cell_type": "markdown",
   "id": "e5f2e780-5285-443b-9882-d7d47e5050e0",
   "metadata": {},
   "source": [
    "### Variables"
   ]
  },
  {
   "cell_type": "markdown",
   "id": "531bf458-738b-4707-a222-fca9b1a9fc8b",
   "metadata": {},
   "source": [
    "Par la suite, nous allons seulement nous intéresser aux variables numériques *bill_depth_mm*,  *bill_length_mm*, *flipper_length_mm* et *body_mass_g*."
   ]
  },
  {
   "cell_type": "code",
   "execution_count": null,
   "id": "f8e2403c-137c-4a4c-b4f1-a6380e5a3cbb",
   "metadata": {},
   "outputs": [],
   "source": [
    "penguins_features = palmerpenguins[[\"bill_length_mm\", \"bill_depth_mm\",\"body_mass_g\", \"flipper_length_mm\"]]"
   ]
  },
  {
   "cell_type": "markdown",
   "id": "9a272921-8828-46a5-b374-6b2aa4a1a4d0",
   "metadata": {},
   "source": [
    "### Etiquettes"
   ]
  },
  {
   "cell_type": "markdown",
   "id": "d560f4a8-6197-4799-bca4-e3bfca8fdd01",
   "metadata": {},
   "source": [
    "Nous allons essayer de prédire l'espèce, qui correspond à **species** mais sous forme d'entiers. Il sera alors plus facile de manier l'espèce sous forme d'entiers que de texte."
   ]
  },
  {
   "cell_type": "code",
   "execution_count": null,
   "id": "dd323ddd-205b-4d01-9eae-eb0810a97df5",
   "metadata": {},
   "outputs": [],
   "source": [
    "species_names, species_int = np.unique(palmerpenguins.species, return_inverse=True)\n",
    "print(species_names)"
   ]
  },
  {
   "cell_type": "code",
   "execution_count": null,
   "id": "128b66ff-b67b-4444-93ba-1d8d65d5a63d",
   "metadata": {},
   "outputs": [],
   "source": [
    "penguins_labels = pd.DataFrame(palmerpenguins[\"species\"])\n",
    "penguins_labels[\"species_int\"] = species_int"
   ]
  },
  {
   "cell_type": "code",
   "execution_count": null,
   "id": "46cf10ac-16de-4357-96f7-fa4935e2b23e",
   "metadata": {},
   "outputs": [],
   "source": [
    "penguins_labels"
   ]
  },
  {
   "cell_type": "markdown",
   "id": "66ce391e-8544-44e5-b919-aaa69b3cfab2",
   "metadata": {},
   "source": [
    "## 2. SVM linéaire (cas linéairement séparable)"
   ]
  },
  {
   "cell_type": "markdown",
   "id": "2b80470e-c710-48fc-945b-26a189b3b7e5",
   "metadata": {},
   "source": [
    "Nous allons ici nous limiter à deux espèces : *Adelie (0)* et *Gentoo (2)* et deux variables : *bill_length_mm* et *bill_depth_mm*."
   ]
  },
  {
   "cell_type": "markdown",
   "id": "26217bd0-06ac-4fbd-8b86-02e166d495ae",
   "metadata": {},
   "source": [
    "### Restriction des données aux deux variables et deux étiquettes choisies"
   ]
  },
  {
   "cell_type": "code",
   "execution_count": null,
   "id": "9ebe4cce-0415-4eac-9d56-aaf41755c3bb",
   "metadata": {},
   "outputs": [],
   "source": [
    "labels = penguins_labels[penguins_labels[\"species_int\"].isin([0,2])]\n",
    "labels = np.array(labels[\"species_int\"])\n",
    "print(\"shape de y:\", labels.shape)\n",
    "\n",
    "data = penguins_features[penguins_labels[\"species_int\"].isin([0,2])] \n",
    "data = np.array(data[[\"bill_depth_mm\", \"bill_length_mm\"]])\n",
    "print(\"shape de X:\", data.shape)"
   ]
  },
  {
   "cell_type": "markdown",
   "id": "4e8d0237-b872-44d6-9910-ec0b75c62007",
   "metadata": {
    "tags": []
   },
   "source": [
    "### Visualisation des données "
   ]
  },
  {
   "cell_type": "code",
   "execution_count": null,
   "id": "e728af83-69c0-4cea-94a6-3a51fbc4e460",
   "metadata": {},
   "outputs": [],
   "source": [
    "plt.figure(figsize=(8, 6))\n",
    "\n",
    "# afficher les données (pingouins Adelie)\n",
    "adelie_indices = np.where(labels==0)[0]\n",
    "adelie = plt.scatter(data[adelie_indices][:, 0], \n",
    "                    data[adelie_indices][:, 1], \n",
    "                    label = 'Adelie',\n",
    "                    cmap=plt.cm.Paired)\n",
    "\n",
    "# afficher les données (pingouins Gentoo)\n",
    "gentoo_indices = np.where(labels==2)[0]\n",
    "gentoo = plt.scatter(data[gentoo_indices][:, 0], \n",
    "                    data[gentoo_indices][:, 1], \n",
    "                    label = 'Gentoo',\n",
    "                    cmap=plt.cm.Paired)\n",
    "\n",
    "# Légende\n",
    "plt.legend()\n",
    "plt.xlabel(\"Bill depth (mm)\")\n",
    "plt.ylabel(\"Bill length (mm)\")\n",
    "plt.title(\"Données\")\n",
    "plt.tight_layout()"
   ]
  },
  {
   "cell_type": "markdown",
   "id": "84e389e0-501c-4ac3-9747-779265804f9b",
   "metadata": {},
   "source": [
    "__Question :__ Le problème de classification vous parait-il facile ou difficile ? Pourrez-vous entrainer un modèle linéaire ?"
   ]
  },
  {
   "cell_type": "markdown",
   "id": "eb515c8e-a9b0-4dc9-8d18-05b7d166f04f",
   "metadata": {},
   "source": [
    "### SVM linéaire"
   ]
  },
  {
   "cell_type": "markdown",
   "id": "1897ee4c-137e-4745-9789-1e1da4d729b2",
   "metadata": {},
   "source": [
    "Nous allons utiliser la classe [SVC](http://scikit-learn.org/stable/modules/generated/sklearn.svm.SVC.html#sklearn.svm.SVC) du module `svm` de scikit-learn pour entraîner une SVM linéaire sur ces données."
   ]
  },
  {
   "cell_type": "code",
   "execution_count": null,
   "id": "d11d81f8-33b0-408f-960b-f099079d81d8",
   "metadata": {},
   "outputs": [],
   "source": [
    "from sklearn import svm"
   ]
  },
  {
   "cell_type": "code",
   "execution_count": null,
   "id": "e57a34ab-5bad-4ce9-b331-e4e6190fdb28",
   "metadata": {},
   "outputs": [],
   "source": [
    "# initialisation\n",
    "model_svc = svm.SVC(kernel='linear', C=10)\n",
    "\n",
    "# entrainement\n",
    "model_svc.fit(data, labels)"
   ]
  },
  {
   "cell_type": "markdown",
   "id": "aeb289f0-891a-4a7c-b71d-1c1803bb6250",
   "metadata": {},
   "source": [
    "Affichons la performance du prédicteur :"
   ]
  },
  {
   "cell_type": "code",
   "execution_count": null,
   "id": "d58ebdd4-bf16-42ac-824e-d8842db64f6e",
   "metadata": {},
   "outputs": [],
   "source": [
    "print(\"Score de la SVM linéaire (C=10): %.2f\" % model_svc.score(data, labels))"
   ]
  },
  {
   "cell_type": "markdown",
   "id": "8a5a97f0-3b7f-4f7a-b7e1-642f9a5bfe82",
   "metadata": {},
   "source": [
    "__Question :__ De quel score s'agit-il ? Utilisez \n",
    "```\n",
    "help(model_svc.score)\n",
    "```"
   ]
  },
  {
   "cell_type": "code",
   "execution_count": null,
   "id": "dbf0563b-4b8d-4315-b865-6f27a21ef596",
   "metadata": {},
   "outputs": [],
   "source": [
    "help(model_svc.score)"
   ]
  },
  {
   "cell_type": "markdown",
   "id": "bbcd2762-8880-49da-b57f-964ed33b5740",
   "metadata": {},
   "source": [
    "__Question :__ Que signifie cette performance ?"
   ]
  },
  {
   "cell_type": "markdown",
   "id": "62273964-dcc0-4d1f-87c8-01373320d15c",
   "metadata": {},
   "source": [
    "Nous pouvons aussi afficher la matrice de confusion :"
   ]
  },
  {
   "cell_type": "code",
   "execution_count": null,
   "id": "97d44927-5aff-479e-8e7c-affe7265e200",
   "metadata": {},
   "outputs": [],
   "source": [
    "from sklearn import metrics"
   ]
  },
  {
   "cell_type": "code",
   "execution_count": null,
   "id": "337b6d25-9c26-4640-be32-4dba129b6c30",
   "metadata": {
    "tags": []
   },
   "outputs": [],
   "source": [
    "metrics.ConfusionMatrixDisplay.from_predictions(labels, model_svc.predict(data))"
   ]
  },
  {
   "cell_type": "markdown",
   "id": "8c145800-b2e9-41dd-9e3a-6a7b71f588cd",
   "metadata": {},
   "source": [
    "Alternativement :"
   ]
  },
  {
   "cell_type": "code",
   "execution_count": null,
   "id": "08cfd6c9-0165-425e-848e-e07808fee7a2",
   "metadata": {},
   "outputs": [],
   "source": [
    "metrics.confusion_matrix(labels, model_svc.predict(data))"
   ]
  },
  {
   "cell_type": "markdown",
   "id": "d5b44949-499d-4f90-9792-6a5131a2ca6e",
   "metadata": {
    "tags": []
   },
   "source": [
    "### Hyperplan séparateur"
   ]
  },
  {
   "cell_type": "markdown",
   "id": "f17a0a2f-1329-4fc8-83ac-cf2ea272af69",
   "metadata": {},
   "source": [
    "Nous pouvons maintenant visualiser la frontière de décision :"
   ]
  },
  {
   "cell_type": "code",
   "execution_count": null,
   "id": "520f1b59-dc9c-42d0-bfa1-5b541b2f6636",
   "metadata": {},
   "outputs": [],
   "source": [
    "plt.figure(figsize=(8, 6))\n",
    "\n",
    "# afficher les données (pingouins Adelie)\n",
    "adelie_indices = np.where(labels==0)[0]\n",
    "adelie = plt.scatter(data[adelie_indices][:, 0], \n",
    "                    data[adelie_indices][:, 1], \n",
    "                    label = 'Adelie',\n",
    "                    cmap=plt.cm.Paired)\n",
    "\n",
    "# afficher les données (pingouins Gentoo)\n",
    "gentoo_indices = np.where(labels==2)[0]\n",
    "gentoo = plt.scatter(data[gentoo_indices][:, 0], \n",
    "                    data[gentoo_indices][:, 1], \n",
    "                    label = 'Gentoo',\n",
    "                    cmap=plt.cm.Paired)\n",
    "\n",
    "# Limites du cadre\n",
    "ax = plt.gca()\n",
    "xlim = ax.get_xlim()\n",
    "ylim = ax.get_ylim()\n",
    "\n",
    "# Marquer les vecteurs de support d'une croix\n",
    "ax.scatter(model_svc.support_vectors_[:, 0], \n",
    "           model_svc.support_vectors_[:, 1], \n",
    "           linewidth=1, \n",
    "           marker='x', s=200,\n",
    "           color='k')\n",
    "\n",
    "# Grille de points sur lesquels appliquer le modèle\n",
    "xx = np.linspace(xlim[0], xlim[1], 30)\n",
    "yy = np.linspace(ylim[0], ylim[1], 30)\n",
    "YY, XX = np.meshgrid(yy, xx)\n",
    "xy = np.vstack([XX.ravel(), YY.ravel()]).T\n",
    "# Prédire pour les points de la grille\n",
    "Z = model_svc.decision_function(xy).reshape(XX.shape)\n",
    "\n",
    "# Afficher la frontière de décision et la marge\n",
    "ax.contour(XX, YY, Z, colors='k', levels=[-1, 0, 1], \n",
    "           alpha=0.5, linestyles=['--', '-', '--'])\n",
    "\n",
    "# Légende\n",
    "plt.legend()\n",
    "plt.xlabel(\"Bill depth (mm)\")\n",
    "plt.ylabel(\"Bill length (mm)\")\n",
    "plt.title(\"SVM linéaire (C=10)\")\n",
    "plt.tight_layout()"
   ]
  },
  {
   "cell_type": "markdown",
   "id": "f577da68-d52a-453f-8f8f-aed40d8e35cb",
   "metadata": {},
   "source": [
    "__Question :__ Quels points sont vecteurs de support ?"
   ]
  },
  {
   "cell_type": "markdown",
   "id": "a0f3b6a7-f3d8-49fb-83b8-ae22d9593714",
   "metadata": {},
   "source": [
    "### Avec C plus petit"
   ]
  },
  {
   "cell_type": "markdown",
   "id": "a232672d-89f2-455f-a912-95c05b4c63cd",
   "metadata": {},
   "source": [
    "__Question :__ À quoi peut-on s'attendre avec une valeur de C plus faible ?"
   ]
  },
  {
   "cell_type": "markdown",
   "id": "e5c9e990-466b-461d-a392-1608d5c4af0c",
   "metadata": {},
   "source": [
    "Vérifions cela en pratique :"
   ]
  },
  {
   "cell_type": "code",
   "execution_count": null,
   "id": "2958660d-6200-4ee3-9c0f-93030e8f19db",
   "metadata": {},
   "outputs": [],
   "source": [
    "# initialisation\n",
    "model_svc_01 = svm.SVC(kernel='linear', C=0.1)\n",
    "\n",
    "# entrainement\n",
    "model_svc_01.fit(data, labels)"
   ]
  },
  {
   "cell_type": "markdown",
   "id": "e992f054-0d00-4d1d-adc7-5ffae1d55a77",
   "metadata": {},
   "source": [
    "Affichons la performance du prédicteur :"
   ]
  },
  {
   "cell_type": "code",
   "execution_count": null,
   "id": "64521f70-ad3d-4fdd-9862-c91e784745b8",
   "metadata": {},
   "outputs": [],
   "source": [
    "print(\"Score de la SVM linéaire (C=0.1): %.2f\" % model_svc_01.score(data, labels))"
   ]
  },
  {
   "cell_type": "code",
   "execution_count": null,
   "id": "7ea50df3-c6e2-4db8-8431-a7620c82df44",
   "metadata": {},
   "outputs": [],
   "source": [
    "metrics.ConfusionMatrixDisplay.from_predictions(labels, model_svc_01.predict(data))"
   ]
  },
  {
   "cell_type": "markdown",
   "id": "d6647bf3-610b-4e96-97f6-a8cdc75b59da",
   "metadata": {},
   "source": [
    "Alternativement :"
   ]
  },
  {
   "cell_type": "code",
   "execution_count": null,
   "id": "f68dee1a-d993-404c-8515-3fd776d0a629",
   "metadata": {},
   "outputs": [],
   "source": [
    "metrics.confusion_matrix(labels, model_svc_01.predict(data))"
   ]
  },
  {
   "cell_type": "markdown",
   "id": "5d3ea73b-d218-4b20-b7f5-2136e870549a",
   "metadata": {},
   "source": [
    "Visualisons la nouvelle frontière de décision :"
   ]
  },
  {
   "cell_type": "code",
   "execution_count": null,
   "id": "ae2ba9eb-ee1a-476a-821d-00736769a41a",
   "metadata": {},
   "outputs": [],
   "source": [
    "plt.figure(figsize=(8, 6))\n",
    "\n",
    "# afficher les données (pingouins Adelie)\n",
    "adelie_indices = np.where(labels==0)[0]\n",
    "adelie = plt.scatter(data[adelie_indices][:, 0], \n",
    "                    data[adelie_indices][:, 1], \n",
    "                    label = 'Adelie',\n",
    "                    cmap=plt.cm.Paired)\n",
    "\n",
    "# afficher les données (pingouins Gentoo)\n",
    "gentoo_indices = np.where(labels==2)[0]\n",
    "gentoo = plt.scatter(data[gentoo_indices][:, 0], \n",
    "                    data[gentoo_indices][:, 1], \n",
    "                    label = 'Gentoo',\n",
    "                    cmap=plt.cm.Paired)\n",
    "\n",
    "# Limites du cadre\n",
    "ax = plt.gca()\n",
    "xlim = ax.get_xlim()\n",
    "ylim = ax.get_ylim()\n",
    "\n",
    "## Modèle précédent\n",
    "# Marquer les vecteurs de support d'une croix\n",
    "#ax.scatter(model_svc.support_vectors_[:, 0], \n",
    "#           model_svc.support_vectors_[:, 1], \n",
    "#           linewidth=1, \n",
    "#           marker='x', s=200,\n",
    "#           color='k')\n",
    "\n",
    "# Grille de points sur lesquels appliquer le modèle\n",
    "xx = np.linspace(xlim[0], xlim[1], 30)\n",
    "yy = np.linspace(ylim[0], ylim[1], 30)\n",
    "YY, XX = np.meshgrid(yy, xx)\n",
    "xy = np.vstack([XX.ravel(), YY.ravel()]).T\n",
    "# Prédire pour les points de la grille\n",
    "Z = model_svc.decision_function(xy).reshape(XX.shape)\n",
    "\n",
    "# Afficher la frontière de décision et la marge\n",
    "#ax.contour(XX, YY, Z, colors='k', levels=[-1, 0, 1], \n",
    "#           alpha=0.5, linestyles=['--', '-', '--'])\n",
    "\n",
    "## Nouveau modèle\n",
    "# Marquer les vecteurs de support d'une croix\n",
    "ax.scatter(model_svc_01.support_vectors_[:, 0], \n",
    "           model_svc_01.support_vectors_[:, 1], \n",
    "           linewidth=1, \n",
    "           marker='+', s=200,\n",
    "           color='k')\n",
    "\n",
    "# Grille de points sur lesquels appliquer le modèle\n",
    "xx = np.linspace(xlim[0], xlim[1], 30)\n",
    "yy = np.linspace(ylim[0], ylim[1], 30)\n",
    "YY, XX = np.meshgrid(yy, xx)\n",
    "xy = np.vstack([XX.ravel(), YY.ravel()]).T\n",
    "# Prédire pour les points de la grille\n",
    "Z = model_svc_01.decision_function(xy).reshape(XX.shape)\n",
    "\n",
    "# Afficher la frontière de décision et la marge\n",
    "ax.contour(XX, YY, Z, colors='g', levels=[-1, 0, 1], \n",
    "           alpha=0.5, linestyles=['--', '-', '--'])\n",
    "\n",
    "# Légende\n",
    "plt.legend()\n",
    "plt.xlabel(\"Bill depth (mm)\")\n",
    "plt.ylabel(\"Bill length (mm)\")\n",
    "plt.title(\"SVM linéaire (C=0.1)\")\n",
    "plt.tight_layout()"
   ]
  },
  {
   "cell_type": "markdown",
   "id": "21b1d6e4-11cc-4b6e-bc7e-4cc0bf6ed0be",
   "metadata": {
    "tags": []
   },
   "source": [
    "## 3. SVM linéaire (cas non-linéairement séparable)"
   ]
  },
  {
   "cell_type": "markdown",
   "id": "f71d6605-2805-42d3-8b2d-bc403a23e59c",
   "metadata": {},
   "source": [
    "Utilisons maintenant les deux variables *body_mass_g* et *bill_length_mm*."
   ]
  },
  {
   "cell_type": "markdown",
   "id": "1548251f-334c-45dc-8bd0-bd6c0504545d",
   "metadata": {},
   "source": [
    "### Restriction des données aux deux variables et deux étiquettes choisies"
   ]
  },
  {
   "cell_type": "code",
   "execution_count": null,
   "id": "975d9d4e-1b10-4046-b891-b4a53ef0b4b4",
   "metadata": {},
   "outputs": [],
   "source": [
    "labels = penguins_labels[penguins_labels[\"species_int\"].isin([0,2])]\n",
    "labels = np.array(labels[\"species_int\"])\n",
    "print(\"shape de y:\", labels.shape)\n",
    "\n",
    "data = penguins_features[penguins_labels[\"species_int\"].isin([0,2])] \n",
    "data = np.array(data[[\"body_mass_g\", \"bill_length_mm\"]])\n",
    "print(\"shape de X:\", data.shape)"
   ]
  },
  {
   "cell_type": "markdown",
   "id": "12a2bf93-ecf1-4d7b-a267-a6882dcfec57",
   "metadata": {
    "tags": []
   },
   "source": [
    "### Visualisation des données "
   ]
  },
  {
   "cell_type": "code",
   "execution_count": null,
   "id": "a3c6f409-1c6e-4953-a30e-43d16fc1bda7",
   "metadata": {},
   "outputs": [],
   "source": [
    "plt.figure(figsize=(8, 6))\n",
    "\n",
    "# afficher les données (pingouins Adelie)\n",
    "adelie_indices = np.where(labels==0)[0]\n",
    "adelie = plt.scatter(data[adelie_indices][:, 0], \n",
    "                    data[adelie_indices][:, 1], \n",
    "                    label = 'Adelie',\n",
    "                    cmap=plt.cm.Paired)\n",
    "\n",
    "# afficher les données (pingouins Gentoo)\n",
    "gentoo_indices = np.where(labels==2)[0]\n",
    "gentoo = plt.scatter(data[gentoo_indices][:, 0], \n",
    "                    data[gentoo_indices][:, 1], \n",
    "                    label = 'Gentoo',\n",
    "                    cmap=plt.cm.Paired)\n",
    "\n",
    "# Légende\n",
    "plt.legend()\n",
    "plt.xlabel(\"Body mass (g)\")\n",
    "plt.ylabel(\"Bill length (mm)\")\n",
    "plt.title(\"Données\")\n",
    "plt.tight_layout()"
   ]
  },
  {
   "cell_type": "markdown",
   "id": "1757c4e0-fd7d-4f65-8993-0baace22860b",
   "metadata": {},
   "source": [
    "__Question :__ Le problème de classification vous parait-il facile ou difficile ? Pourrez-vous entrainer un modèle linéaire ?"
   ]
  },
  {
   "cell_type": "markdown",
   "id": "0c32f36e-1746-4f63-bfbe-523d9fe4f27c",
   "metadata": {},
   "source": [
    "__Question :__ Que pensez-vous des échelles prises par les deux variables ?"
   ]
  },
  {
   "cell_type": "markdown",
   "id": "b874f241-449e-4a72-a57b-579357703109",
   "metadata": {},
   "source": [
    "### Transformation des variables\n",
    "\n",
    "Nous allons maintenant centrer-réduire les données."
   ]
  },
  {
   "cell_type": "code",
   "execution_count": null,
   "id": "4dc8076c-44eb-42e9-b7bc-992fa79ccebe",
   "metadata": {},
   "outputs": [],
   "source": [
    "from sklearn import preprocessing"
   ]
  },
  {
   "cell_type": "code",
   "execution_count": null,
   "id": "5fc7c96d-3580-4373-97f2-5af0cac02f00",
   "metadata": {},
   "outputs": [],
   "source": [
    "# standardisation (centrer-réduire)\n",
    "std_scaler = preprocessing.StandardScaler().fit(data)\n",
    "data_scaled = std_scaler.transform(data)"
   ]
  },
  {
   "cell_type": "code",
   "execution_count": null,
   "id": "d6513963-eea6-4a1e-a196-2ad5aa373ae3",
   "metadata": {},
   "outputs": [],
   "source": [
    "plt.figure(figsize=(8, 6))\n",
    "\n",
    "# afficher les données (pingouins Adelie)\n",
    "adelie_indices = np.where(labels==0)[0]\n",
    "adelie = plt.scatter(data_scaled[adelie_indices][:, 0], \n",
    "                    data_scaled[adelie_indices][:, 1], \n",
    "                    label = 'Adelie',\n",
    "                    cmap=plt.cm.Paired)\n",
    "\n",
    "# afficher les données (pingouins Gentoo)\n",
    "gentoo_indices = np.where(labels==2)[0]\n",
    "gentoo = plt.scatter(data_scaled[gentoo_indices][:, 0], \n",
    "                    data_scaled[gentoo_indices][:, 1], \n",
    "                    label = 'Gentoo',\n",
    "                    cmap=plt.cm.Paired)\n",
    "\n",
    "# Légende\n",
    "plt.legend()\n",
    "plt.xlabel(\"Body mass (centrée-réduite)\")\n",
    "plt.ylabel(\"Bill length (centrée-réduite)\")\n",
    "plt.title(\"Données centrées-réduites\")\n",
    "plt.tight_layout()"
   ]
  },
  {
   "cell_type": "markdown",
   "id": "25389c11-a130-4c56-9045-063e47c08afd",
   "metadata": {},
   "source": [
    "### SVM linéaire "
   ]
  },
  {
   "cell_type": "code",
   "execution_count": null,
   "id": "d9e34925-8122-4e19-a382-c9081c87d772",
   "metadata": {},
   "outputs": [],
   "source": [
    "# initialisation\n",
    "model_svc = svm.SVC(kernel='linear', C=10)\n",
    "\n",
    "# entrainement\n",
    "model_svc.fit(data_scaled, labels)"
   ]
  },
  {
   "cell_type": "markdown",
   "id": "9680ceb4-5d43-425c-b21c-d5c53d1c1a38",
   "metadata": {},
   "source": [
    "Affichons la performance du prédicteur :"
   ]
  },
  {
   "cell_type": "code",
   "execution_count": null,
   "id": "a52dd6e2-b83d-4fc0-b63e-fd90fc20adc5",
   "metadata": {},
   "outputs": [],
   "source": [
    "print(\"Score de la SVM linéaire (C=10): %.2f\" % model_svc.score(data_scaled, labels))"
   ]
  },
  {
   "cell_type": "code",
   "execution_count": null,
   "id": "2fe38d01-72e4-48c2-89c6-be8cdf733cbd",
   "metadata": {},
   "outputs": [],
   "source": [
    "metrics.ConfusionMatrixDisplay.from_predictions(labels, model_svc.predict(data_scaled))"
   ]
  },
  {
   "cell_type": "markdown",
   "id": "2ef6a9e9-dd99-4964-bd41-624bf12f2fe5",
   "metadata": {},
   "source": [
    "Alternativement :"
   ]
  },
  {
   "cell_type": "code",
   "execution_count": null,
   "id": "3acb2392-3d00-4bce-92b7-102e19acdef1",
   "metadata": {},
   "outputs": [],
   "source": [
    "metrics.confusion_matrix(labels, model_svc.predict(data_scaled))"
   ]
  },
  {
   "cell_type": "markdown",
   "id": "6e7d9bca-089a-43d5-905d-51afdf851f3b",
   "metadata": {},
   "source": [
    "__Question :__ Cette performance correspond-elle à vos attentes ?"
   ]
  },
  {
   "cell_type": "markdown",
   "id": "6b0b3c24-f504-4399-915d-1d46aef0f106",
   "metadata": {
    "tags": []
   },
   "source": [
    "### Hyperplan séparateur"
   ]
  },
  {
   "cell_type": "markdown",
   "id": "c1edbf64-d75e-4891-b123-b3b82bec5bcc",
   "metadata": {},
   "source": [
    "Nous pouvons maintenant visualiser la frontière de décision :"
   ]
  },
  {
   "cell_type": "code",
   "execution_count": null,
   "id": "25016b6a-6ea1-4944-ba52-87e9a5a75fe3",
   "metadata": {},
   "outputs": [],
   "source": [
    "plt.figure(figsize=(8, 6))\n",
    "\n",
    "# afficher les données (pingouins Adelie)\n",
    "adelie_indices = np.where(labels==0)[0]\n",
    "adelie = plt.scatter(data_scaled[adelie_indices][:, 0], \n",
    "                    data_scaled[adelie_indices][:, 1], \n",
    "                    label = 'Adelie',\n",
    "                    cmap=plt.cm.Paired)\n",
    "\n",
    "# afficher les données (pingouins Gentoo)\n",
    "gentoo_indices = np.where(labels==2)[0]\n",
    "gentoo = plt.scatter(data_scaled[gentoo_indices][:, 0], \n",
    "                    data_scaled[gentoo_indices][:, 1], \n",
    "                    label = 'Gentoo',\n",
    "                    cmap=plt.cm.Paired)\n",
    "\n",
    "\n",
    "# Limites du cadre\n",
    "ax = plt.gca()\n",
    "xlim = ax.get_xlim()\n",
    "ylim = ax.get_ylim()\n",
    "\n",
    "# Marquer les vecteurs de support d'une croix\n",
    "ax.scatter(model_svc.support_vectors_[:, 0], \n",
    "           model_svc.support_vectors_[:, 1], \n",
    "           linewidth=1, \n",
    "           marker='x', \n",
    "           color='k')\n",
    "\n",
    "# Grille de points sur lesquels appliquer le modèle\n",
    "xx = np.linspace(xlim[0], xlim[1], 30)\n",
    "yy = np.linspace(ylim[0], ylim[1], 30)\n",
    "YY, XX = np.meshgrid(yy, xx)\n",
    "xy = np.vstack([XX.ravel(), YY.ravel()]).T\n",
    "# Prédire pour les points de la grille\n",
    "Z = model_svc.decision_function(xy).reshape(XX.shape)\n",
    "\n",
    "# Afficher la frontière de décision et la marge\n",
    "ax.contour(XX, YY, Z, colors='k', levels=[-1, 0, 1], \n",
    "           alpha=0.5, linestyles=['--', '-', '--'])\n",
    "\n",
    "# Légende\n",
    "plt.legend()\n",
    "plt.xlabel(\"Body mass (centrée-réduite)\")\n",
    "plt.ylabel(\"Bill length (centrée-réduite)\")\n",
    "plt.title(\"Frontière de décision de la SVM linéaire (C=10)\")\n",
    "plt.tight_layout()"
   ]
  },
  {
   "cell_type": "markdown",
   "id": "7943e685-19a3-4b9f-872f-86a2fde734ac",
   "metadata": {},
   "source": [
    "__Question :__ Quels points sont vecteurs de support ?"
   ]
  },
  {
   "cell_type": "markdown",
   "id": "42d2a579-117d-408a-92e2-710bae223c40",
   "metadata": {},
   "source": [
    "### Avec C plus petit"
   ]
  },
  {
   "cell_type": "markdown",
   "id": "dd823827-dd6a-4c50-bb01-c41efaada0fe",
   "metadata": {},
   "source": [
    "__Question :__ À quoi peut-on s'attendre avec une valeur de C plus faible ?"
   ]
  },
  {
   "cell_type": "markdown",
   "id": "3a8e6a20-0071-4ecb-8231-af080507b4d0",
   "metadata": {},
   "source": [
    "Vérifions cela en pratique :"
   ]
  },
  {
   "cell_type": "code",
   "execution_count": null,
   "id": "0f1f2d72-eadd-42b7-b05c-d329b15b7327",
   "metadata": {},
   "outputs": [],
   "source": [
    "# initialisation\n",
    "model_svc_01 = svm.SVC(kernel='linear', C=0.01)\n",
    "\n",
    "# entrainement\n",
    "model_svc_01.fit(data_scaled, labels)"
   ]
  },
  {
   "cell_type": "code",
   "execution_count": null,
   "id": "a0e4155b-df14-418f-b6b9-391d7ac32cea",
   "metadata": {},
   "outputs": [],
   "source": [
    "print(\"Score de la SVM linéaire (données centrées-réduites, C=0.1): %.2f\" % model_svc_01.score(data_scaled, labels))"
   ]
  },
  {
   "cell_type": "code",
   "execution_count": null,
   "id": "2b342fbc-40b1-488b-a919-ab10273854b4",
   "metadata": {},
   "outputs": [],
   "source": [
    "metrics.ConfusionMatrixDisplay.from_predictions(labels, model_svc_01.predict(data_scaled))"
   ]
  },
  {
   "cell_type": "markdown",
   "id": "7320f83c-1715-4f94-aa10-143af141da53",
   "metadata": {},
   "source": [
    "Alternativement :"
   ]
  },
  {
   "cell_type": "code",
   "execution_count": null,
   "id": "c1adef50-8334-4657-a099-423481e2940e",
   "metadata": {},
   "outputs": [],
   "source": [
    "metrics.confusion_matrix(labels, model_svc_01.predict(data_scaled))"
   ]
  },
  {
   "cell_type": "markdown",
   "id": "320bd01d-12d5-4582-b426-8dd71b298383",
   "metadata": {},
   "source": [
    "__Question :__ Comment la performance a-t-elle évolué ?"
   ]
  },
  {
   "cell_type": "markdown",
   "id": "846f00bf-d1a9-4907-bc30-252f0315c2dd",
   "metadata": {},
   "source": [
    "Nous pouvons maintenant visualiser la frontière de décision :"
   ]
  },
  {
   "cell_type": "code",
   "execution_count": null,
   "id": "bc04da26-e8a7-4786-a2f1-17db3cd241f8",
   "metadata": {},
   "outputs": [],
   "source": [
    "plt.figure(figsize=(8, 6))\n",
    "\n",
    "# afficher les données (pingouins Adelie)\n",
    "adelie = plt.scatter(data_scaled[np.where(penguins_labels[\"species_int\"]==0),0], \n",
    "                    data_scaled[np.where(penguins_labels[\"species_int\"]==0),1], \n",
    "                    s=50, \n",
    "                    label = 'Adelie',\n",
    "                    cmap=plt.cm.Paired)\n",
    "\n",
    "# afficher les données (pingouins Gentoo)\n",
    "gentoo = plt.scatter(data_scaled[np.where(penguins_labels[\"species_int\"]==2),0], \n",
    "                    data_scaled[np.where(penguins_labels[\"species_int\"]==2),1], \n",
    "                    label = 'Gentoo',\n",
    "                    cmap=plt.cm.Paired)\n",
    "\n",
    "# Limites du cadre\n",
    "ax = plt.gca()\n",
    "xlim = ax.get_xlim()\n",
    "ylim = ax.get_ylim()\n",
    "\n",
    "# Marquer les vecteurs de support d'une croix\n",
    "ax.scatter(model_svc_01.support_vectors_[:, 0], \n",
    "           model_svc_01.support_vectors_[:, 1], \n",
    "           linewidth=1, \n",
    "           marker='x', \n",
    "           color='k')\n",
    "\n",
    "# Grille de points sur lesquels appliquer le modèle\n",
    "xx = np.linspace(xlim[0], xlim[1], 30)\n",
    "yy = np.linspace(ylim[0], ylim[1], 30)\n",
    "YY, XX = np.meshgrid(yy, xx)\n",
    "xy = np.vstack([XX.ravel(), YY.ravel()]).T\n",
    "# Prédire pour les points de la grille\n",
    "Z = model_svc_01.decision_function(xy).reshape(XX.shape)\n",
    "\n",
    "# Afficher la frontière de décision et la marge\n",
    "ax.contour(XX, YY, Z, colors='k', levels=[-1, 0, 1], \n",
    "           alpha=0.5, linestyles=['--', '-', '--'])\n",
    "\n",
    "# Frontière précédente\n",
    "# Grille de points sur lesquels appliquer le modèle\n",
    "xx = np.linspace(xlim[0], xlim[1], 30)\n",
    "yy = np.linspace(ylim[0], ylim[1], 30)\n",
    "YY, XX = np.meshgrid(yy, xx)\n",
    "xy = np.vstack([XX.ravel(), YY.ravel()]).T\n",
    "# Prédire pour les points de la grille\n",
    "Z = model_svc.decision_function(xy).reshape(XX.shape)\n",
    "\n",
    "# Afficher la frontière de décision et la marge\n",
    "ax.contour(XX, YY, Z, colors='g', levels=[-1, 0, 1], \n",
    "           alpha=0.5, linestyles=['--', '-', '--'])\n",
    "\n",
    "\n",
    "# Légende\n",
    "plt.legend()\n",
    "plt.xlabel(\"Body mass (g)\")\n",
    "plt.ylabel(\"Bill length (mm)\")\n",
    "plt.title(\"Frontière de décision de la SVM linéaire (C=0.01)\")\n",
    "plt.tight_layout()"
   ]
  },
  {
   "cell_type": "markdown",
   "id": "a5137801-bd30-437a-ad96-67658fc4fcd0",
   "metadata": {},
   "source": [
    "## 4. Matrice de Gram"
   ]
  },
  {
   "cell_type": "markdown",
   "id": "ed6c60c1-b1af-4c85-ae38-99036653da3e",
   "metadata": {},
   "source": [
    "On peut interpréter le **noyau** (ou **kernel** ou **matrice de Gram**) comme une matrice de similarité entre les différentes observations. On s'appuie alors sur la ressemblance de certaines observations pour pouvoir les classifier. \n",
    "\n",
    "Nous allons représenter la matrice de Gram associée au précédent classifieur. Dans le cas d'un SVM à noyau linéaire, il s'agit du produit scalaire des variables. Pour que vous puissiez intuiter de manière juste la similarité entre les observations, nous allons nous ramener à une matrice avec des 1 sur la diagonale grâce à la fonction *center_an_normalise_kernel()*."
   ]
  },
  {
   "cell_type": "code",
   "execution_count": null,
   "id": "1f1d7afd-a585-49d4-85c8-9f52ae7c4342",
   "metadata": {},
   "outputs": [],
   "source": [
    "def center_and_normalise_kernel(K_temp):\n",
    "    K_temp = preprocessing.KernelCenterer().fit_transform(K_temp)\n",
    "    nb_item = K_temp.shape[0]\n",
    "    K_norm = np.zeros((nb_item, nb_item))\n",
    "    for i in range(nb_item):\n",
    "        for j in range(i, nb_item):\n",
    "            K_norm[i, j] = K_temp[i, j] / np.sqrt(K_temp[i, i] * K_temp[j, j])\n",
    "            K_norm[j, i] = K_norm[i, j]\n",
    "\n",
    "    return K_norm"
   ]
  },
  {
   "cell_type": "code",
   "execution_count": null,
   "id": "a928e6e3-80ba-495f-8537-386ce0ede878",
   "metadata": {},
   "outputs": [],
   "source": [
    "GramMatrix = np.inner(data_scaled, data_scaled)\n",
    "GramMatrix_scaled = center_and_normalise_kernel(GramMatrix)\n",
    "\n",
    "# heatmap + color map\n",
    "fig, ax = plt.subplots(figsize=(5, 5))\n",
    "plot = ax.imshow(GramMatrix_scaled) \n",
    "\n",
    "# set axes boundaries\n",
    "ax.set_xlim([0, data.shape[0]]) ; ax.set_ylim([0, data_scaled.shape[0]])\n",
    "\n",
    "# flip the y-axis\n",
    "ax.invert_yaxis() ; ax.xaxis.tick_top()\n",
    "\n",
    "# plot colorbar to the right\n",
    "plt.colorbar(plot, pad=0.1, fraction=0.04)"
   ]
  },
  {
   "cell_type": "markdown",
   "id": "dea91691-1e02-4308-9592-9c4b66e5f356",
   "metadata": {},
   "source": [
    "__Question:__ Que remarquez-vous ? Est-ce vous auriez pu anticiper le fait que le classifieur sépare bien en ne regardant que la matrice de Gram ? Remarquez que les observations sont ordonnées par étiquettes (d'abord les manchots Adelie puis les Gentoo)."
   ]
  },
  {
   "cell_type": "markdown",
   "id": "af2975b0-4f87-433d-9203-6b87803b03c6",
   "metadata": {},
   "source": [
    "## 5. SVM linéaire (cas plus difficile)"
   ]
  },
  {
   "cell_type": "markdown",
   "id": "dd097a7f-77b0-40e3-afaf-c2b38f1f08f6",
   "metadata": {},
   "source": [
    "Considérons maintenant les deux espèces *Adelie (0)* et *Chinstrap (1)* et les variables *body_mass_g* et *bill_depth_mm*."
   ]
  },
  {
   "cell_type": "markdown",
   "id": "7713ca46-7b93-47ba-9308-573e9758bd1b",
   "metadata": {},
   "source": [
    "### Restriction des données aux deux variables et deux étiquettes choisies"
   ]
  },
  {
   "cell_type": "code",
   "execution_count": null,
   "id": "b1647b9e-e2a7-4778-b15b-7be10e52bc3e",
   "metadata": {},
   "outputs": [],
   "source": [
    "labels = penguins_labels[penguins_labels[\"species_int\"].isin([0,1])]\n",
    "labels = np.array(labels[\"species_int\"])\n",
    "print(\"shape de y:\", labels.shape)\n",
    "\n",
    "data = penguins_features[penguins_labels[\"species_int\"].isin([0,1])] \n",
    "data = np.array(data[[\"body_mass_g\", \"bill_depth_mm\"]])\n",
    "print(\"shape de X:\", data.shape)"
   ]
  },
  {
   "cell_type": "markdown",
   "id": "d4ff3269-c976-4de1-aceb-d65bf04a9898",
   "metadata": {},
   "source": [
    "### Transformation des variables\n",
    "\n",
    "Nous allons maintenant centrer-réduire les données."
   ]
  },
  {
   "cell_type": "code",
   "execution_count": null,
   "id": "4d696046-e16e-4414-bd62-dab0dbda60c7",
   "metadata": {},
   "outputs": [],
   "source": [
    "# standardisation (centrer-réduire)\n",
    "std_scaler = preprocessing.StandardScaler().fit(data)\n",
    "data_scaled = std_scaler.transform(data)"
   ]
  },
  {
   "cell_type": "markdown",
   "id": "a6bc6e1a-6187-4995-b4b2-5bbd8145461a",
   "metadata": {
    "tags": []
   },
   "source": [
    "### Visualisation des données "
   ]
  },
  {
   "cell_type": "code",
   "execution_count": null,
   "id": "59ca9454-8a1b-4fad-91b0-6600e96073de",
   "metadata": {},
   "outputs": [],
   "source": [
    "plt.figure(figsize=(8, 6))\n",
    "\n",
    "# afficher les données (pingouins Adelie)\n",
    "adelie_indices = np.where(labels==0)[0]\n",
    "adelie = plt.scatter(data_scaled[adelie_indices][:, 0], \n",
    "                    data_scaled[adelie_indices][:, 1], \n",
    "                    label = 'Adelie',\n",
    "                    cmap=plt.cm.Paired)\n",
    "\n",
    "# afficher les données (pingouins Chinstrap)\n",
    "gentoo_indices = np.where(labels==1)[0]\n",
    "gentoo = plt.scatter(data_scaled[gentoo_indices][:, 0], \n",
    "                    data_scaled[gentoo_indices][:, 1], \n",
    "                    label = 'Chinstrap',\n",
    "                    cmap=plt.cm.Paired)\n",
    "\n",
    "# Légende\n",
    "plt.legend()\n",
    "plt.xlabel(\"Body mass (centrée-réduite)\")\n",
    "plt.ylabel(\"Bill depth (centrée-réduite)\")\n",
    "plt.title(\"Données centrées-réduites\")\n",
    "plt.tight_layout()"
   ]
  },
  {
   "cell_type": "markdown",
   "id": "7ba2c3b8-ff3a-4950-b3e0-8775cbb2868f",
   "metadata": {},
   "source": [
    "__Question :__ Le problème de classification vous parait-il facile ou difficile ? Pourrez-vous entrainer un modèle linéaire ?"
   ]
  },
  {
   "cell_type": "markdown",
   "id": "e83391c5-d433-42d1-aa55-745007398701",
   "metadata": {},
   "source": [
    "### SVM linéaire "
   ]
  },
  {
   "cell_type": "code",
   "execution_count": null,
   "id": "6f61707f-b6fb-4a3c-8fa9-ee2d04576c4b",
   "metadata": {},
   "outputs": [],
   "source": [
    "# initialisation\n",
    "model_svc = svm.SVC(kernel='linear', C=10)\n",
    "\n",
    "# entrainement\n",
    "model_svc.fit(data_scaled, labels)"
   ]
  },
  {
   "cell_type": "markdown",
   "id": "4e2dc8e4-34d7-4527-8502-a01742cc02de",
   "metadata": {},
   "source": [
    "Affichons la performance du prédicteur :"
   ]
  },
  {
   "cell_type": "code",
   "execution_count": null,
   "id": "1cf3baa7-0b15-4d3c-b3fe-bbab6a7bc2e3",
   "metadata": {},
   "outputs": [],
   "source": [
    "print(\"Score de la SVM linéaire (C=10): %.2f\" % model_svc.score(data_scaled, labels))"
   ]
  },
  {
   "cell_type": "markdown",
   "id": "74e6ad5b-f3d2-42b4-b596-89d9fc95f16a",
   "metadata": {},
   "source": [
    "__Question :__ Cette performance correspond-elle à vos attentes ?"
   ]
  },
  {
   "cell_type": "code",
   "execution_count": null,
   "id": "ab22431a-5be3-468e-b1a9-72f873bd81c7",
   "metadata": {},
   "outputs": [],
   "source": [
    "metrics.ConfusionMatrixDisplay.from_predictions(labels, model_svc.predict(data_scaled))"
   ]
  },
  {
   "cell_type": "markdown",
   "id": "df5bfe85-ddd0-46a6-a034-15961f8e3b98",
   "metadata": {},
   "source": [
    "Alternativement :"
   ]
  },
  {
   "cell_type": "code",
   "execution_count": null,
   "id": "42c4357d-1996-4c3d-9bb0-8cc957a5ee94",
   "metadata": {},
   "outputs": [],
   "source": [
    "metrics.confusion_matrix(labels, model_svc.predict(data_scaled))"
   ]
  },
  {
   "cell_type": "markdown",
   "id": "3653c2fc-c4b1-4c8f-a666-7d4c53c345ad",
   "metadata": {},
   "source": [
    "__Question :__ Qu'a-t-on vraiment appris ici ?"
   ]
  },
  {
   "cell_type": "markdown",
   "id": "4384c388-4dc4-4ea3-9d4f-8eb27eb1f88f",
   "metadata": {},
   "source": [
    "Nous pouvons maintenant visualiser la frontière de décision :"
   ]
  },
  {
   "cell_type": "code",
   "execution_count": null,
   "id": "ebf2bf9a-e7f8-4472-9c92-f70e3f88d4b4",
   "metadata": {},
   "outputs": [],
   "source": [
    "plt.figure(figsize=(8, 6))\n",
    "\n",
    "# afficher les données (pingouins Adelie)\n",
    "adelie_indices = np.where(labels==0)[0]\n",
    "adelie = plt.scatter(data_scaled[adelie_indices][:, 0], \n",
    "                    data_scaled[adelie_indices][:, 1], \n",
    "                    label = 'Adelie',\n",
    "                    cmap=plt.cm.Paired)\n",
    "\n",
    "# afficher les données (pingouins Chinstrap)\n",
    "gentoo_indices = np.where(labels==1)[0]\n",
    "gentoo = plt.scatter(data_scaled[gentoo_indices][:, 0], \n",
    "                    data_scaled[gentoo_indices][:, 1], \n",
    "                    label = 'Chinstrap',\n",
    "                    cmap=plt.cm.Paired)\n",
    "\n",
    "\n",
    "# Limites du cadre\n",
    "ax = plt.gca()\n",
    "xlim = ax.get_xlim()\n",
    "ylim = ax.get_ylim()\n",
    "\n",
    "# Marquer les vecteurs de support d'une croix\n",
    "ax.scatter(model_svc.support_vectors_[:, 0], \n",
    "           model_svc.support_vectors_[:, 1], \n",
    "           linewidth=1, \n",
    "           marker='x', \n",
    "           color='k')\n",
    "\n",
    "# Grille de points sur lesquels appliquer le modèle\n",
    "xx = np.linspace(xlim[0], xlim[1], 30)\n",
    "yy = np.linspace(ylim[0], ylim[1], 30)\n",
    "YY, XX = np.meshgrid(yy, xx)\n",
    "xy = np.vstack([XX.ravel(), YY.ravel()]).T\n",
    "# Prédire pour les points de la grille\n",
    "Z = model_svc.decision_function(xy).reshape(XX.shape)\n",
    "\n",
    "# Afficher la frontière de décision et la marge\n",
    "ax.contour(XX, YY, Z, colors='k', levels=[-1, 0, 1], \n",
    "           alpha=0.5, linestyles=['--', '-', '--'])\n",
    "\n",
    "# Légende\n",
    "plt.legend()\n",
    "plt.xlabel(\"Body mass (centrée-réduite)\")\n",
    "plt.ylabel(\"Bill depth (centrée-réduite)\")\n",
    "plt.title(\"Frontière de décision de la SVM linéaire (C=10)\")\n",
    "plt.tight_layout()"
   ]
  },
  {
   "cell_type": "markdown",
   "id": "4588892b-34ab-4d13-8d6d-d29c2089d668",
   "metadata": {},
   "source": [
    "### Matrice de Gram"
   ]
  },
  {
   "cell_type": "code",
   "execution_count": null,
   "id": "af742960-7808-49e0-8d10-0fceb980b02c",
   "metadata": {},
   "outputs": [],
   "source": [
    "GramMatrix = np.inner(data_scaled, data_scaled)\n",
    "GramMatrix_scaled = center_and_normalise_kernel(GramMatrix)\n",
    "\n",
    "# heatmap + color map\n",
    "fig, ax = plt.subplots(figsize=(5, 5))\n",
    "plot = ax.imshow(GramMatrix_scaled) \n",
    "\n",
    "# set axes boundaries\n",
    "ax.set_xlim([0, data.shape[0]]) ; ax.set_ylim([0, data_scaled.shape[0]])\n",
    "\n",
    "# flip the y-axis\n",
    "ax.invert_yaxis() ; ax.xaxis.tick_top()\n",
    "\n",
    "# plot colorbar to the right\n",
    "plt.colorbar(plot, pad=0.1, fraction=0.04)"
   ]
  },
  {
   "cell_type": "markdown",
   "id": "dd6cc0ea-a84c-47d2-8854-e11a0c8d83cb",
   "metadata": {},
   "source": [
    "__Question :__ Qu'observez-vous maintenant ?"
   ]
  },
  {
   "cell_type": "markdown",
   "id": "c6a723cb-8f63-4372-b1ad-76c1908aa5f5",
   "metadata": {},
   "source": [
    "## 6. SVM à noyau non-linéaire"
   ]
  },
  {
   "cell_type": "markdown",
   "id": "5da151e9-8f3c-4af6-a172-fb1eb726e5e5",
   "metadata": {},
   "source": [
    "### Noyau RBF gaussien\n",
    "\n",
    "Nous allons utiliser un **noyau RBF** ou **radial gaussien**, pour plusieurs valeurs du paramètre gamma. En classe nous avons donné la formule du noyau gaussien :\n",
    "\n",
    "$k(x, x') = \\exp\\bigg[-\\frac{||x - x'||^2}{2 \\sigma^2}\\bigg]$\n",
    "\n",
    "Une autre définition implique le paramètre gamma, $\\gamma=\\frac{1}{2 \\sigma^{2}}$ : \n",
    "\n",
    "$k(x,x')=\\exp\\bigg[(-\\gamma\\||x - x'||^2\\bigg]$"
   ]
  },
  {
   "cell_type": "markdown",
   "id": "4d27664c-31e3-4386-bb7b-e5ccd20122f6",
   "metadata": {
    "jp-MarkdownHeadingCollapsed": true,
    "tags": []
   },
   "source": [
    "Gamma est proportionnel à l'inverse du carré de sigma, qui correspond à *la bande passante* du noyau, ou plus intuitivement le rayon d'influence des observations du train set.\n",
    "Si **sigma est grand** (donc **gamma petit**) alors les observations du train set vont avoir une influence de longue  portée, et la majorité d'entre eux vont avoir une influence sur la frontière de décision.\n",
    "Celle ci va donc être \"grossière\" et lisse (smooth en anglais), quitte à ce que certaines prédictions soient fausses. \n",
    "\n",
    "Si **sigma est petit** (donc **gamma grand**) alors les observations du train set vont avoir une influence de courte portée, et seules celles proches de la frontière de décision auront une influence localement.\n",
    "La frontière de décision va donc être \"précise\" mais on aura tendance à surapprendre.\n",
    "\n",
    "Vous trouverez une explication claire et détaillée (mais en anglais) ici: https://scikit-learn.org/stable/auto_examples/svm/plot_rbf_parameters.html"
   ]
  },
  {
   "cell_type": "markdown",
   "id": "f84f376c-d9df-418c-a04f-d730f8a5ee95",
   "metadata": {},
   "source": [
    "### SVM à noyau gaussien (gamma=100)"
   ]
  },
  {
   "cell_type": "code",
   "execution_count": null,
   "id": "e7c91f30-bda4-46c2-969e-d859ab17499c",
   "metadata": {},
   "outputs": [],
   "source": [
    "# initialisation\n",
    "model_svc_rbf = svm.SVC(kernel='rbf', C=10, gamma=100)\n",
    "\n",
    "# entrainement\n",
    "model_svc_rbf.fit(data_scaled, labels)"
   ]
  },
  {
   "cell_type": "markdown",
   "id": "1477e84e-3f2d-413d-b52e-01495813fd0d",
   "metadata": {},
   "source": [
    "Affichons la performance du prédicteur :"
   ]
  },
  {
   "cell_type": "code",
   "execution_count": null,
   "id": "11ca4974-026f-46dc-89bf-c7c1a274e240",
   "metadata": {},
   "outputs": [],
   "source": [
    "print(\"Score de la SVM à noyau gaussien (C=10, gamma=100): %.2f\" % model_svc_rbf.score(data_scaled, labels))"
   ]
  },
  {
   "cell_type": "code",
   "execution_count": null,
   "id": "189dad2d-2250-448f-ae16-36c722587482",
   "metadata": {},
   "outputs": [],
   "source": [
    "metrics.ConfusionMatrixDisplay.from_predictions(labels, model_svc_rbf.predict(data_scaled))"
   ]
  },
  {
   "cell_type": "markdown",
   "id": "d813d9cb-7da6-4bdf-b3e1-aee38a474db8",
   "metadata": {},
   "source": [
    "Alternativement :"
   ]
  },
  {
   "cell_type": "code",
   "execution_count": null,
   "id": "75a4320f-fbe2-4859-a719-96c8915047ce",
   "metadata": {},
   "outputs": [],
   "source": [
    "metrics.confusion_matrix(labels, model_svc_rbf.predict(data_scaled))"
   ]
  },
  {
   "cell_type": "markdown",
   "id": "c9d719c5-727c-4e47-b351-5e4600f93232",
   "metadata": {},
   "source": [
    "__Question :__ Cette performance correspond-elle à vos attentes ?"
   ]
  },
  {
   "cell_type": "markdown",
   "id": "41b47828-66f0-48d3-8dab-e7b213a791c1",
   "metadata": {},
   "source": [
    "#### Frontière de décision"
   ]
  },
  {
   "cell_type": "markdown",
   "id": "6de79b0b-1374-4fb7-87a0-5b0aa0141917",
   "metadata": {},
   "source": [
    "Nous pouvons maintenant visualiser la frontière de décision :"
   ]
  },
  {
   "cell_type": "code",
   "execution_count": null,
   "id": "6f224844-7e58-4287-8cc3-84a9ade9dc8e",
   "metadata": {},
   "outputs": [],
   "source": [
    "plt.figure(figsize=(8, 6))\n",
    "\n",
    "# afficher les données (pingouins Adelie)\n",
    "adelie_indices = np.where(labels==0)[0]\n",
    "adelie = plt.scatter(data_scaled[adelie_indices][:, 0], \n",
    "                    data_scaled[adelie_indices][:, 1], \n",
    "                    label = 'Adelie',\n",
    "                    cmap=plt.cm.Paired)\n",
    "\n",
    "# afficher les données (pingouins Chinstrap)\n",
    "gentoo_indices = np.where(labels==1)[0]\n",
    "gentoo = plt.scatter(data_scaled[gentoo_indices][:, 0], \n",
    "                    data_scaled[gentoo_indices][:, 1], \n",
    "                    label = 'Chinstrap',\n",
    "                    cmap=plt.cm.Paired)\n",
    "\n",
    "\n",
    "# Limites du cadre\n",
    "ax = plt.gca()\n",
    "xlim = ax.get_xlim()\n",
    "ylim = ax.get_ylim()\n",
    "\n",
    "# Marquer les vecteurs de support d'une croix\n",
    "ax.scatter(model_svc_rbf.support_vectors_[:, 0], \n",
    "           model_svc_rbf.support_vectors_[:, 1], \n",
    "           linewidth=1, \n",
    "           marker='x', \n",
    "           color='k')\n",
    "\n",
    "# Grille de points sur lesquels appliquer le modèle\n",
    "xx = np.linspace(xlim[0], xlim[1], 30)\n",
    "yy = np.linspace(ylim[0], ylim[1], 30)\n",
    "YY, XX = np.meshgrid(yy, xx)\n",
    "xy = np.vstack([XX.ravel(), YY.ravel()]).T\n",
    "# Prédire pour les points de la grille\n",
    "Z = model_svc_rbf.decision_function(xy).reshape(XX.shape)\n",
    "\n",
    "# Afficher la frontière de décision et la marge\n",
    "ax.contour(XX, YY, Z, colors='k', levels=[-1, 0, 1], \n",
    "           alpha=0.5, linestyles=['--', '-', '--'])\n",
    "\n",
    "# Légende\n",
    "plt.legend()\n",
    "plt.xlabel(\"Body mass (centrée-réduite)\")\n",
    "plt.ylabel(\"Bill depth (centrée-réduite)\")\n",
    "plt.title(\"Frontière de décision de la SVM à noyau gaussien (C=10, Gamma=100)\")\n",
    "plt.tight_layout()"
   ]
  },
  {
   "cell_type": "markdown",
   "id": "ad9ebf9a-6f13-417e-a8ae-eadb84e33dfa",
   "metadata": {},
   "source": [
    "__Question :__ Que pensez-vous de cette frontière de décision ? Y-a-t'il un risque de surapprentissage ?"
   ]
  },
  {
   "cell_type": "markdown",
   "id": "971cf2fb-5154-4aea-ad78-2d2ad95da79e",
   "metadata": {},
   "source": [
    "#### Matrice de Gram"
   ]
  },
  {
   "cell_type": "code",
   "execution_count": null,
   "id": "7657a013-4532-416c-a5db-3ea7afebc8d0",
   "metadata": {},
   "outputs": [],
   "source": [
    "GramMatrix = metrics.pairwise.rbf_kernel(data_scaled, gamma=100)\n",
    "GramMatrix_scaled = center_and_normalise_kernel(GramMatrix)\n",
    "\n",
    "# heatmap + color map\n",
    "fig, ax = plt.subplots(figsize=(5, 5))\n",
    "plot = ax.imshow(GramMatrix_scaled) \n",
    "\n",
    "# set axes boundaries\n",
    "ax.set_xlim([0, data.shape[0]]) ; ax.set_ylim([0, data_scaled.shape[0]])\n",
    "\n",
    "# flip the y-axis\n",
    "ax.invert_yaxis() ; ax.xaxis.tick_top()\n",
    "\n",
    "# plot colorbar to the right\n",
    "plt.colorbar(plot, pad=0.1, fraction=0.04)"
   ]
  },
  {
   "cell_type": "markdown",
   "id": "ae86c1cf-22ed-4db5-891f-39ec5bb1b0cf",
   "metadata": {},
   "source": [
    "__Question :__ Que pensez-vous de cette matrice de Gram ? "
   ]
  },
  {
   "cell_type": "markdown",
   "id": "a8cb542b-8463-4633-b54b-dac9170f42b4",
   "metadata": {
    "tags": []
   },
   "source": [
    "### Généralisation\n",
    "\n",
    "Est-ce que ce modèle se __généralise__ bien, autrement dit, sera-t-il capable de faire de bonnes prédictions sur de nouvelles données que nous n'avons pas utilisées pour le construire ? \n",
    "\n",
    "Pour le savoir, nous allons séparer les données en un __jeu d'entraînement__ et un __jeu de test__. Nous allons entraîner nos SVMs sur le jeu d'entraînement seulement, et mesurer leur performance sur le jeu de test. Le jeu de test, étant inconnu au moment de l'entraînement, fait figure de nouvelles données. Pour cela nous allons utiliser la fonction [train_test_split](http://scikit-learn.org/stable/modules/generated/sklearn.model_selection.train_test_split.html) de scikit-learn.\n",
    "\n",
    "Nous devons faire le split sur les variables non standardisées, standardiser le jeu de train, puis standardiser le jeu de test en fonction de la variance et de la moyenne des variables du jeu de train."
   ]
  },
  {
   "cell_type": "code",
   "execution_count": null,
   "id": "daae8ed9-6003-4311-9539-8ca430a0cfcc",
   "metadata": {},
   "outputs": [],
   "source": [
    "from sklearn import model_selection"
   ]
  },
  {
   "cell_type": "code",
   "execution_count": null,
   "id": "de3926d5-bdb4-4eb7-bb58-c063ddd88a0b",
   "metadata": {},
   "outputs": [],
   "source": [
    "X_train, X_test, y_train, y_test = model_selection.train_test_split(data, \n",
    "                                                                    labels, \n",
    "                                                                    test_size=.2, \n",
    "                                                                    random_state=21)"
   ]
  },
  {
   "cell_type": "code",
   "execution_count": null,
   "id": "c7f7a145-982d-44b9-8e8d-93481dc2903b",
   "metadata": {},
   "outputs": [],
   "source": [
    "std_scaler = preprocessing.StandardScaler().fit(X_train)\n",
    "X_train_scaled = std_scaler.transform(X_train)\n",
    "X_test_scaled = std_scaler.transform(X_test)"
   ]
  },
  {
   "cell_type": "markdown",
   "id": "dc9d42d8-81e3-4a26-a6e2-f42878936a01",
   "metadata": {},
   "source": [
    "Nous allons maintenant calculer l'_accuracy_ d'une SVM sur le jeu d'entraînement et sur le jeu de test pour plusieurs valeurs de `gamma` :"
   ]
  },
  {
   "cell_type": "code",
   "execution_count": null,
   "id": "0a376ab3-7d59-46b9-8f43-63a7e85aa40a",
   "metadata": {},
   "outputs": [],
   "source": [
    "gamma_values = np.linspace(0.01, 200, 20)"
   ]
  },
  {
   "cell_type": "code",
   "execution_count": null,
   "id": "0c4903f1-e7de-4525-8b4f-ba048731e27c",
   "metadata": {},
   "outputs": [],
   "source": [
    "acc_train, acc_test = list(), list()\n",
    "\n",
    "for param in gamma_values:\n",
    "    # Initialisation\n",
    "    clf = svm.SVC(kernel='rbf', C=10, gamma=param)\n",
    "    # Entrainement\n",
    "    clf.fit(X_train_scaled, y_train)\n",
    "    # Accuracy sur le jeu d'entrainement\n",
    "    acc_train.append(clf.score(X_train_scaled, y_train))\n",
    "    # Accuracy sur le jeu de test\n",
    "    acc_test.append(clf.score(X_test_scaled, y_test))"
   ]
  },
  {
   "cell_type": "markdown",
   "id": "594f6a6f-6eab-4581-9cfa-f217becdbd71",
   "metadata": {},
   "source": [
    "Représentons la performance en fonction des valeurs de `gamma` testées"
   ]
  },
  {
   "cell_type": "code",
   "execution_count": null,
   "id": "d0c79662-1ae1-4f71-84ed-4aae9035f990",
   "metadata": {},
   "outputs": [],
   "source": [
    "plt.plot(gamma_values, acc_train, label='entrainement', lw=2)\n",
    "plt.plot(gamma_values, acc_test, label='test', lw=2)\n",
    "\n",
    "# add a legend\n",
    "plt.legend(loc='best')\n",
    "\n",
    "# format the plot\n",
    "plt.xlabel(\"Gamma\")\n",
    "plt.ylabel(\"Accuracy\")\n",
    "plt.tight_layout()\n",
    "\n",
    "plt.show()"
   ]
  },
  {
   "cell_type": "markdown",
   "id": "2eefd687-347a-42f7-8bc3-d5bb0016c141",
   "metadata": {},
   "source": [
    "__Question :__ Y-a-t'il surapprentissage ? Pour quelles valeurs de gamma ?"
   ]
  },
  {
   "cell_type": "markdown",
   "id": "9e835c66-282e-4d75-845a-859be41b419b",
   "metadata": {},
   "source": [
    "#### Sélection de gamma et C par validation croisée"
   ]
  },
  {
   "cell_type": "markdown",
   "id": "5a05bf33-c1a5-4f15-a700-44ab5238a83e",
   "metadata": {},
   "source": [
    "Nous allons maintenant sélectionner `gamma` et `C` par validation croisée sur le jeu d'entraînement."
   ]
  },
  {
   "cell_type": "markdown",
   "id": "bb9391fc-a965-4643-afd1-d1b7c545182c",
   "metadata": {
    "tags": []
   },
   "source": [
    "Commençons par définir la grille :"
   ]
  },
  {
   "cell_type": "code",
   "execution_count": null,
   "id": "1edf1428-7122-4caa-8bb4-95fa56cb5919",
   "metadata": {},
   "outputs": [],
   "source": [
    "gamma_values = np.logspace(-1, 3, 10)\n",
    "C_values = np.array([1., 10., 100., 500, 1000])"
   ]
  },
  {
   "cell_type": "markdown",
   "id": "77113b6e-6008-436e-8da3-25435944be8d",
   "metadata": {},
   "source": [
    "Nous pouvons maintenant utiliser [GridSearchCV](https://scikit-learn.org/stable/modules/generated/sklearn.model_selection.GridSearchCV.html)  :"
   ]
  },
  {
   "cell_type": "code",
   "execution_count": null,
   "id": "8df3c913-1ddb-435a-9e7a-43ff38df5037",
   "metadata": {},
   "outputs": [],
   "source": [
    "# Instanciation d'un objet GridSearchCV\n",
    "grid_svc = model_selection.GridSearchCV(svm.SVC(kernel='rbf'), # prédicteur à évaluer\n",
    "                                       {'gamma': gamma_values, 'C': C_values}, # dictionnaire de valeurs d'hyperparamètres\n",
    "                                       cv=5, # utiliser 5 folds de validation croisée\n",
    "                                       scoring='accuracy' # métrique d'évaluation de la performance\n",
    "                                       )"
   ]
  },
  {
   "cell_type": "code",
   "execution_count": null,
   "id": "62919b1e-3e26-43d9-84a6-489d6f27cff2",
   "metadata": {},
   "outputs": [],
   "source": [
    "%%time\n",
    "\n",
    "# Utilisation de cet objet sur les données d'entraînement\n",
    "grid_svc.fit(X_train_scaled, y_train)"
   ]
  },
  {
   "cell_type": "markdown",
   "id": "b71fb3d7-caa0-427c-8ed7-d976f04c653b",
   "metadata": {},
   "source": [
    "La valeur optimale des hyperparamètres est donnée par :"
   ]
  },
  {
   "cell_type": "code",
   "execution_count": null,
   "id": "50634637-618c-4688-b03c-a51517b39e40",
   "metadata": {},
   "outputs": [],
   "source": [
    "print(grid_svc.best_params_)"
   ]
  },
  {
   "cell_type": "markdown",
   "id": "029eac74-b0e0-4ec3-b104-aca034943cf9",
   "metadata": {},
   "source": [
    "Visualisons l'accuracy en fonction de `C` et `gamma` :"
   ]
  },
  {
   "cell_type": "code",
   "execution_count": null,
   "id": "20eaebbc-b532-4de8-972b-351bcda57606",
   "metadata": {},
   "outputs": [],
   "source": [
    "plt.figure(figsize=(8, 8))\n",
    "\n",
    "# réarrangement des résultats\n",
    "scores = grid_svc.cv_results_['mean_test_score'].reshape(len(C_values), len(gamma_values))\n",
    "\n",
    "# heatmap\n",
    "plt.imshow(scores, interpolation='none', cmap=\"RdBu_r\")\n",
    "\n",
    "# colorbar\n",
    "plt.colorbar()\n",
    "\n",
    "# Légende\n",
    "plt.title(\"Accuracy d'une SVM en validation croisée\")\n",
    "plt.ylabel(\"C\")\n",
    "plt.xlabel(\"Gamma\")\n",
    "plt.xlim((-0.5, 3.5))\n",
    "plt.yticks(np.arange(len(C_values)), C_values)\n",
    "plt.xticks(np.arange(len(gamma_values)), [\"%.2f\" % x for x in gamma_values], rotation=90)\n",
    "plt.tight_layout()"
   ]
  },
  {
   "cell_type": "markdown",
   "id": "e4492e79-b8cb-4d06-90b0-852c7d5792f9",
   "metadata": {
    "tags": []
   },
   "source": [
    "#### Performance de la SVM avec hyperparamètre optimaux sur le jeu de test"
   ]
  },
  {
   "cell_type": "code",
   "execution_count": null,
   "id": "8bcf7513-74a2-425b-80c1-3678aaafec1d",
   "metadata": {},
   "outputs": [],
   "source": [
    "svc_best = grid_svc.best_estimator_"
   ]
  },
  {
   "cell_type": "code",
   "execution_count": null,
   "id": "19c1ccbc-2172-48df-b3bc-7c1e8b98d50e",
   "metadata": {},
   "outputs": [],
   "source": [
    "print(\"Score sur le jeu de test de la SVM à noyau gaussien (C et gamma optimisés): %.2f\" % svc_best.score(X_test_scaled, y_test))"
   ]
  },
  {
   "cell_type": "code",
   "execution_count": null,
   "id": "56f85c54-3bd0-4919-93b9-d32d8ac66535",
   "metadata": {},
   "outputs": [],
   "source": [
    "metrics.ConfusionMatrixDisplay.from_predictions(y_test, svc_best.predict(X_test_scaled))"
   ]
  },
  {
   "cell_type": "markdown",
   "id": "15350a20-ad00-45e5-89b2-6a645efeb61d",
   "metadata": {},
   "source": [
    "Alternativement :"
   ]
  },
  {
   "cell_type": "code",
   "execution_count": null,
   "id": "f381c434-25c3-4edc-8d91-b9d5a7131afc",
   "metadata": {},
   "outputs": [],
   "source": [
    "metrics.confusion_matrix(y_test, svc_best.predict(X_test_scaled))"
   ]
  },
  {
   "cell_type": "markdown",
   "id": "0b9eed05-068a-4c4f-916f-b3bef716704b",
   "metadata": {},
   "source": [
    "## 7. SVM à noyau non-linéaire sur un problème plus simple"
   ]
  },
  {
   "cell_type": "code",
   "execution_count": null,
   "id": "3cb5b9fc-1051-4082-9c9d-c782527498b6",
   "metadata": {},
   "outputs": [],
   "source": [
    "labels = penguins_labels[penguins_labels[\"species_int\"].isin([0,1])]\n",
    "labels = np.array(labels[\"species_int\"])\n",
    "print(\"shape de y:\", labels.shape)\n",
    "\n",
    "data = penguins_features[penguins_labels[\"species_int\"].isin([0,1])] \n",
    "data = np.array(data[[\"body_mass_g\", \"bill_length_mm\"]])\n",
    "print(\"shape de X:\", data.shape)"
   ]
  },
  {
   "cell_type": "code",
   "execution_count": null,
   "id": "4f85c998-86de-4efa-8774-f0c9de67b529",
   "metadata": {},
   "outputs": [],
   "source": [
    "X_train, X_test, y_train, y_test = model_selection.train_test_split(data, \n",
    "                                                                    labels, \n",
    "                                                                    test_size=.2, \n",
    "                                                                    random_state=21)"
   ]
  },
  {
   "cell_type": "code",
   "execution_count": null,
   "id": "11035420-cf37-410f-8b57-b09ac268a8f2",
   "metadata": {},
   "outputs": [],
   "source": [
    "std_scaler = preprocessing.StandardScaler().fit(X_train)\n",
    "X_train_scaled = std_scaler.transform(X_train)\n",
    "X_test_scaled = std_scaler.transform(X_test)"
   ]
  },
  {
   "cell_type": "code",
   "execution_count": null,
   "id": "6a8bdbf0-5730-48e3-80e6-4a1f9f2f3434",
   "metadata": {},
   "outputs": [],
   "source": [
    "plt.figure(figsize=(8, 6))\n",
    "\n",
    "# afficher les données (pingouins Adelie)\n",
    "adelie_indices = np.where(y_train==0)[0]\n",
    "adelie = plt.scatter(X_train_scaled[adelie_indices][:, 0], \n",
    "                    X_train_scaled[adelie_indices][:, 1], \n",
    "                    label = 'Adelie',\n",
    "                    cmap=plt.cm.Paired)\n",
    "\n",
    "# afficher les données (pingouins Chinstrap)\n",
    "gentoo_indices = np.where(y_train==1)[0]\n",
    "gentoo = plt.scatter(X_train_scaled[gentoo_indices][:, 0], \n",
    "                    X_train_scaled[gentoo_indices][:, 1], \n",
    "                    label = 'Chinstrap',\n",
    "                    cmap=plt.cm.Paired)\n",
    "\n",
    "# Légende\n",
    "plt.legend()\n",
    "plt.xlabel(\"Body mass (centrée-réduite)\")\n",
    "plt.ylabel(\"Bill length (centrée-réduite)\")\n",
    "plt.title(\"Données centrées-réduites\")\n",
    "plt.tight_layout()"
   ]
  },
  {
   "cell_type": "code",
   "execution_count": null,
   "id": "525be798-2a44-4759-a12f-f6bcebc7cb29",
   "metadata": {},
   "outputs": [],
   "source": [
    "gamma_values = np.logspace(-1, 3, 10)\n",
    "C_values = np.array([1., 10., 100., 500, 1000])"
   ]
  },
  {
   "cell_type": "markdown",
   "id": "5a2133c9-feca-4b57-8a0d-f2b33176a6ef",
   "metadata": {},
   "source": [
    "Nous pouvons maintenant utiliser [GridSearchCV](https://scikit-learn.org/stable/modules/generated/sklearn.model_selection.GridSearchCV.html)  :"
   ]
  },
  {
   "cell_type": "code",
   "execution_count": null,
   "id": "77a375f3-5d8e-44b6-952e-e1610c026382",
   "metadata": {},
   "outputs": [],
   "source": [
    "# Instanciation d'un objet GridSearchCV\n",
    "grid_svc = model_selection.GridSearchCV(svm.SVC(kernel='rbf'), # prédicteur à évaluer\n",
    "                                       {'gamma': gamma_values, 'C': C_values}, # dictionnaire de valeurs d'hyperparamètres\n",
    "                                       cv=5, # utiliser 5 folds de validation croisée\n",
    "                                       scoring='accuracy' # métrique d'évaluation de la performance\n",
    "                                       )"
   ]
  },
  {
   "cell_type": "code",
   "execution_count": null,
   "id": "ca832642-0401-4cf3-9ea8-08c372e4f7fa",
   "metadata": {},
   "outputs": [],
   "source": [
    "%%time\n",
    "\n",
    "# Utilisation de cet objet sur les données d'entraînement\n",
    "grid_svc.fit(X_train_scaled, y_train)"
   ]
  },
  {
   "cell_type": "markdown",
   "id": "ad9ef91d-2d4c-46e5-b27d-2f79e12ea695",
   "metadata": {},
   "source": [
    "La valeur optimale des hyperparamètres est donnée par :"
   ]
  },
  {
   "cell_type": "code",
   "execution_count": null,
   "id": "4a4cc5bb-1337-4dd8-a92e-2014d80bb546",
   "metadata": {},
   "outputs": [],
   "source": [
    "print(grid_svc.best_params_)"
   ]
  },
  {
   "cell_type": "code",
   "execution_count": null,
   "id": "d078cb62-f360-43c6-8ed2-f0775e811028",
   "metadata": {},
   "outputs": [],
   "source": [
    "GramMatrix = metrics.pairwise.rbf_kernel(data_scaled, gamma=grid_svc.best_params_['gamma'])\n",
    "GramMatrix_scaled = center_and_normalise_kernel(GramMatrix)\n",
    "\n",
    "# heatmap + color map\n",
    "fig, ax = plt.subplots(figsize=(5, 5))\n",
    "plot = ax.imshow(GramMatrix_scaled) \n",
    "\n",
    "# set axes boundaries\n",
    "ax.set_xlim([0, data.shape[0]]) ; ax.set_ylim([0, data_scaled.shape[0]])\n",
    "\n",
    "# flip the y-axis\n",
    "ax.invert_yaxis() ; ax.xaxis.tick_top()\n",
    "\n",
    "# plot colorbar to the right\n",
    "plt.colorbar(plot, pad=0.1, fraction=0.04)"
   ]
  },
  {
   "cell_type": "markdown",
   "id": "0f09b47e-ca7a-424f-ac24-80dbbe543c6b",
   "metadata": {},
   "source": [
    "Visualisons l'accuracy en fonction de `C` et `gamma` :"
   ]
  },
  {
   "cell_type": "code",
   "execution_count": null,
   "id": "92b63700-8dfd-4007-b391-a3669886f6a7",
   "metadata": {},
   "outputs": [],
   "source": [
    "plt.figure(figsize=(8, 8))\n",
    "\n",
    "# réarrangement des résultats\n",
    "scores = grid_svc.cv_results_['mean_test_score'].reshape(len(C_values), len(gamma_values))\n",
    "\n",
    "# heatmap\n",
    "plt.imshow(scores, interpolation='none', cmap=\"RdBu_r\")\n",
    "\n",
    "# colorbar\n",
    "plt.colorbar()\n",
    "\n",
    "# Légende\n",
    "plt.title(\"Accuracy d'une SVM en validation croisée\")\n",
    "plt.ylabel(\"C\")\n",
    "plt.xlabel(\"Gamma\")\n",
    "plt.xlim((-0.5, 3.5))\n",
    "plt.yticks(np.arange(len(C_values)), C_values)\n",
    "plt.xticks(np.arange(len(gamma_values)), [\"%.2f\" % x for x in gamma_values], rotation=90)\n",
    "plt.tight_layout()"
   ]
  },
  {
   "cell_type": "code",
   "execution_count": null,
   "id": "762ed463-ce22-4b02-ac93-ded3696c22e9",
   "metadata": {},
   "outputs": [],
   "source": [
    "svc_best = grid_svc.best_estimator_"
   ]
  },
  {
   "cell_type": "code",
   "execution_count": null,
   "id": "3942b4a9-a508-4ca0-9902-5fa9161f207a",
   "metadata": {},
   "outputs": [],
   "source": [
    "plt.figure(figsize=(8, 6))\n",
    "\n",
    "# afficher les données (pingouins Adelie)\n",
    "adelie_indices = np.where(y_train==0)[0]\n",
    "adelie = plt.scatter(X_train_scaled[adelie_indices][:, 0], \n",
    "                    X_train_scaled[adelie_indices][:, 1], \n",
    "                    label = 'Adelie',\n",
    "                    cmap=plt.cm.Paired)\n",
    "\n",
    "# afficher les données (pingouins Chinstrap)\n",
    "gentoo_indices = np.where(y_train==1)[0]\n",
    "gentoo = plt.scatter(X_train_scaled[gentoo_indices][:, 0], \n",
    "                    X_train_scaled[gentoo_indices][:, 1], \n",
    "                    label = 'Chinstrap',\n",
    "                    cmap=plt.cm.Paired)\n",
    "\n",
    "\n",
    "# Limites du cadre\n",
    "ax = plt.gca()\n",
    "xlim = ax.get_xlim()\n",
    "ylim = ax.get_ylim()\n",
    "\n",
    "# Marquer les vecteurs de support d'une croix\n",
    "ax.scatter(svc_best.support_vectors_[:, 0], \n",
    "           svc_best.support_vectors_[:, 1], \n",
    "           linewidth=1, \n",
    "           marker='x', \n",
    "           color='k')\n",
    "\n",
    "# Grille de points sur lesquels appliquer le modèle\n",
    "xx = np.linspace(xlim[0], xlim[1], 30)\n",
    "yy = np.linspace(ylim[0], ylim[1], 30)\n",
    "YY, XX = np.meshgrid(yy, xx)\n",
    "xy = np.vstack([XX.ravel(), YY.ravel()]).T\n",
    "# Prédire pour les points de la grille\n",
    "Z = svc_best.decision_function(xy).reshape(XX.shape)\n",
    "\n",
    "# Afficher la frontière de décision et la marge\n",
    "ax.contour(XX, YY, Z, colors='k', levels=[-1, 0, 1], \n",
    "           alpha=0.5, linestyles=['--', '-', '--'])\n",
    "\n",
    "# Légende\n",
    "plt.legend()\n",
    "plt.xlabel(\"Body mass (centrée-réduite)\")\n",
    "plt.ylabel(\"Bill length (centrée-réduite)\")\n",
    "plt.title(f\"Frontière de décision de la SVM à noyau gaussien (C={svc_best.C}, Gamma={svc_best.gamma: .2f})\")\n",
    "plt.tight_layout()"
   ]
  },
  {
   "cell_type": "code",
   "execution_count": null,
   "id": "2cc45916-3528-4361-b01b-7d62444af114",
   "metadata": {},
   "outputs": [],
   "source": [
    "print(\"Score sur le jeu de test de la SVM à noyau gaussien (C et gamma optimisés): %.2f\" % svc_best.score(X_test_scaled, y_test))"
   ]
  },
  {
   "cell_type": "code",
   "execution_count": null,
   "id": "bb057d73-c010-4e5f-aae3-5ea7e943779d",
   "metadata": {},
   "outputs": [],
   "source": [
    "metrics.ConfusionMatrixDisplay.from_predictions(y_test, svc_best.predict(X_test_scaled))"
   ]
  },
  {
   "cell_type": "markdown",
   "id": "068b1de8-a6f8-4de6-848f-380dca59c373",
   "metadata": {},
   "source": [
    "Alternativement :"
   ]
  },
  {
   "cell_type": "code",
   "execution_count": null,
   "id": "4c43d9ba-db8f-47ea-976b-eea6661ab53a",
   "metadata": {},
   "outputs": [],
   "source": [
    "metrics.confusion_matrix(y_test, svc_best.predict(X_test_scaled))"
   ]
  },
  {
   "cell_type": "markdown",
   "id": "62988517-8474-4c24-ade3-0e5af89e1553",
   "metadata": {
    "tags": []
   },
   "source": [
    "## Supplément : Trouver le meilleur couple de variables"
   ]
  },
  {
   "cell_type": "markdown",
   "id": "9cc5d77a-6cb2-4730-83d5-e6dc8649b5f4",
   "metadata": {},
   "source": [
    "On peut utiliser le package `seaborn` pour examiner aisément les paires de variables deux à deux et en déduire lesquelles sont les plus utiles pour séparer les classes :"
   ]
  },
  {
   "cell_type": "code",
   "execution_count": null,
   "id": "8806e9e6-1864-4cdd-9975-d81471015221",
   "metadata": {},
   "outputs": [],
   "source": [
    "penguins_adelie_chinstrap = pd.concat([penguins_features[penguins_labels[\"species_int\"].isin([0,1])],\n",
    "                                    penguins_labels[penguins_labels[\"species_int\"].isin([0,1])]],\n",
    "                                     axis = 1)"
   ]
  },
  {
   "cell_type": "code",
   "execution_count": null,
   "id": "cc5b2aae-2190-4db0-91e3-9d959f1565f2",
   "metadata": {},
   "outputs": [],
   "source": [
    "import seaborn as sns\n",
    "sns.pairplot(penguins_adelie_chinstrap, hue=\"species_int\",palette=\"bright\")"
   ]
  }
 ],
 "metadata": {
  "kernelspec": {
   "display_name": "Python 3 (ipykernel)",
   "language": "python",
   "name": "python3"
  },
  "language_info": {
   "codemirror_mode": {
    "name": "ipython",
    "version": 3
   },
   "file_extension": ".py",
   "mimetype": "text/x-python",
   "name": "python",
   "nbconvert_exporter": "python",
   "pygments_lexer": "ipython3",
   "version": "3.9.9"
  }
 },
 "nbformat": 4,
 "nbformat_minor": 5
}
