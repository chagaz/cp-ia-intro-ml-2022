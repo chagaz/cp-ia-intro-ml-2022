{
 "cells": [
  {
   "cell_type": "markdown",
   "id": "02f0923b-321e-48ed-8f56-c8829f996dcf",
   "metadata": {
    "tags": []
   },
   "source": [
    "# Notebook 2 : Sélection et évaluation de modèles"
   ]
  },
  {
   "cell_type": "markdown",
   "id": "a81dc7fc-a115-4b26-b03c-b10f9db63e87",
   "metadata": {},
   "source": [
    "Notebook préparé par [Chloé-Agathe Azencott](http://cazencott.info) avec l'aide d'[Arthur Imbert](https://github.com/Henley13).\n",
    "\n",
    "Dans ce notebook il s'agit\n",
    "* d'évaluer un modèle sur un jeu de test\n",
    "* de choisir la valeur d'un hyperparamètre d'un algorithme d'apprentissage\n",
    "* de comprendre l'intérêt de la régression polynomiale et de la régularisation"
   ]
  },
  {
   "cell_type": "code",
   "execution_count": null,
   "id": "bc4b7e6d-b52a-4a74-bfed-0cd5a5cb523d",
   "metadata": {},
   "outputs": [],
   "source": [
    "# charger numpy as np, matplotlib as plt\n",
    "%pylab inline "
   ]
  },
  {
   "cell_type": "code",
   "execution_count": null,
   "id": "15672c11-3e61-473b-9092-9a86669f3e75",
   "metadata": {},
   "outputs": [],
   "source": [
    "plt.rc('font', **{'size': 12}) # règle la taille de police globalement pour les plots (en pt)"
   ]
  },
  {
   "cell_type": "code",
   "execution_count": null,
   "id": "dea6282c-ed0f-450a-9c89-11d9cc444e35",
   "metadata": {},
   "outputs": [],
   "source": [
    "import pandas as pd"
   ]
  },
  {
   "cell_type": "markdown",
   "id": "89290fd9-4b32-43f7-a00a-e8931b182fcb",
   "metadata": {
    "tags": []
   },
   "source": [
    "## 1. Chargement des données"
   ]
  },
  {
   "cell_type": "markdown",
   "id": "a8b8f04f-58ba-44d3-8e68-1ff8707c6581",
   "metadata": {
    "tags": []
   },
   "source": [
    "Nous allons travailler avec un jeu de données contenant des informations physico-chimiques sur un certain nombre de vins portugais (vinho verde), ainsi que les notes qui leur ont été attribuées par des gens qui les ont goûtés. Notre but est d'automatiser ce processus : nous voulons prédire directement la note des vins à partir de leurs caractéristiques physico-chimiques, afin d'assister les œnologues, améliorer la production de vin, et cibler les goûts de consomateurs de niche.\n",
    "\n",
    "Ce jeu de données est disponible sur l'archive UCI de jeux de données de machine learning, sur laquelle vous trouverez de nombreux jeux de données classiques : http://archive.ics.uci.edu/ml/machine-learning-databases/wine-quality/. Pas besoin de le télécharger, il est déjà dans votre répertoire, dans le fichier `data/winequality-white.csv`. Nous allons le charger avec pandas :"
   ]
  },
  {
   "cell_type": "code",
   "execution_count": null,
   "id": "3ac087b7-bc05-4b3e-a8bc-9c63cf863432",
   "metadata": {},
   "outputs": [],
   "source": [
    "df = pd.read_csv('data/winequality-white.csv', # nom du fichier\n",
    "                   sep=\";\" # séparateur de colonnes\n",
    "                   )"
   ]
  },
  {
   "cell_type": "markdown",
   "id": "4f2fc4f1-8c83-40a0-8f98-fba5f3076025",
   "metadata": {},
   "source": [
    "__Alternativement :__ Si vous avez besoin de télécharger le fichier (par exemple sur colab) :"
   ]
  },
  {
   "cell_type": "code",
   "execution_count": null,
   "id": "0044c30f-5e93-4d2f-b128-8ebaf565406b",
   "metadata": {},
   "outputs": [],
   "source": [
    "!wget https://raw.githubusercontent.com/chagaz/cp-ia-intro-ml-2022/main/2-Selection/data/winequality-white.csv\n",
    "\n",
    "df = pd.read_csv('winequality-white.csv', # nom du fichier\n",
    "                   sep=\";\" # séparateur de colonnes\n",
    "                   )"
   ]
  },
  {
   "cell_type": "markdown",
   "id": "1408ceb0-dd45-41c2-a4fb-2173528c564e",
   "metadata": {},
   "source": [
    "Nous pouvons maintenant examiner ce fichier directement dans notre notebook, par exemple en en regardant les premières lignes :"
   ]
  },
  {
   "cell_type": "code",
   "execution_count": null,
   "id": "81ea11cb-24fe-419a-8518-a0739dba1858",
   "metadata": {},
   "outputs": [],
   "source": [
    "df.head()"
   ]
  },
  {
   "cell_type": "markdown",
   "id": "f908dd50-0210-47d7-bf71-8d3a101ccc73",
   "metadata": {},
   "source": [
    "### Création des matrices X et y de données"
   ]
  },
  {
   "cell_type": "code",
   "execution_count": null,
   "id": "d50225f5-b4d6-4a64-a5d7-44c2bee2e31c",
   "metadata": {},
   "outputs": [],
   "source": [
    "X = np.array(df.drop(columns=['quality']))"
   ]
  },
  {
   "cell_type": "code",
   "execution_count": null,
   "id": "633ca499-65f2-41ef-b049-f864aa6c3fa1",
   "metadata": {},
   "outputs": [],
   "source": [
    "y = np.array(df['quality'])"
   ]
  },
  {
   "cell_type": "code",
   "execution_count": null,
   "id": "b904d580-dac0-4632-9af4-02926c1fa0b8",
   "metadata": {},
   "outputs": [],
   "source": [
    "print(X.shape, y.shape)"
   ]
  },
  {
   "cell_type": "markdown",
   "id": "185d42fb-a4e8-4b18-af1d-ad9685932710",
   "metadata": {},
   "source": [
    "__Question :__ Combien d'exemples d'apprentissage contiennent les données ? Combien de variables ?"
   ]
  },
  {
   "cell_type": "markdown",
   "id": "63969e19-8ce9-4417-8e00-a3d11ceba656",
   "metadata": {},
   "source": [
    "__Question :__ Que pensez-vous de l'utilisation d'une régression linéaire pour résoudre ce problème ?"
   ]
  },
  {
   "cell_type": "markdown",
   "id": "8fea985c-7c05-4f8f-8ca0-b18d9451079f",
   "metadata": {
    "tags": []
   },
   "source": [
    "### Transformation en un problème de classification binaire\n",
    "\n",
    "Nous allons essayer de classifier les vins entre vins de bonne qualité (score >= 6) et les autres."
   ]
  },
  {
   "cell_type": "code",
   "execution_count": null,
   "id": "d8aa8036-60a4-4a26-9d04-66e951536128",
   "metadata": {},
   "outputs": [],
   "source": [
    "y = np.where(y >= 6, 1, 0)"
   ]
  },
  {
   "cell_type": "markdown",
   "id": "1b85a75e-f8af-42e8-bbde-6667836caf28",
   "metadata": {},
   "source": [
    "## 2. Séparation des données en un jeu d'entraînement et un jeu de test"
   ]
  },
  {
   "cell_type": "markdown",
   "id": "6a8cde97-2b02-4397-948a-31152494487b",
   "metadata": {},
   "source": [
    "Pour pouvoir évaluer un modèle d'apprentissage de façon non-biaisée, nous avons besoin de créer un jeu de test contenant des données sur lequel le modèle n'a pas été entraîné. Ce jeu de test correspond à des données « nouvelles ».\n",
    "\n",
    "Pour ce faire, nous allons utiliser la fonction [train_test_split](http://scikit-learn.org/stable/modules/generated/sklearn.model_selection.train_test_split.html) du module `model_selection` de scikit-learn :"
   ]
  },
  {
   "cell_type": "code",
   "execution_count": null,
   "id": "151d30e5-8262-4b5a-a59b-2378cee6506b",
   "metadata": {},
   "outputs": [],
   "source": [
    "from sklearn import model_selection\n",
    "\n",
    "X_train, X_test, y_train, y_test = \\\n",
    "    model_selection.train_test_split(X, y,\n",
    "                                    test_size=0.3, # 30% des données dans le jeu de test\n",
    "                                    random_state=42 # graine du générateur aléatoire\n",
    "                                    )"
   ]
  },
  {
   "cell_type": "markdown",
   "id": "4737d34b-0fc4-4b43-b996-be6450919b04",
   "metadata": {},
   "source": [
    "Fixer la graine du générateur aléatoire nous permet d'obtenir les mêmes jeux d'entraînement et de test en relançant la commande."
   ]
  },
  {
   "cell_type": "code",
   "execution_count": null,
   "id": "cd60be3c-72bc-47b6-8c19-14c24d954ee1",
   "metadata": {},
   "outputs": [],
   "source": [
    "print(X_train.shape, X_test.shape, y_train.shape, y_test.shape)"
   ]
  },
  {
   "cell_type": "markdown",
   "id": "da304b04-632c-47e6-942a-9454cb87ac35",
   "metadata": {},
   "source": [
    "__Question :__ Combien d'échantillons le jeu d'entraînement (X_train, y_train) contient-il ? Et le jeu de test (X_test, y_test) ?"
   ]
  },
  {
   "cell_type": "markdown",
   "id": "42e892e8-9614-4727-a157-8ff1971756cf",
   "metadata": {
    "tags": []
   },
   "source": [
    "### Transformation des variables\n",
    "Nous avons vu dans le Notebook 1 qu'il est plus raisonnable de centrer-réduire les variables avant de procéder.\n",
    "\n",
    "N'oublions pas que le jeu de test est prétendu non-connu au moment de l'entraînement : il faut utiliser __uniquement le jeu d'entraînement__ pour centrer-réduire les données."
   ]
  },
  {
   "cell_type": "code",
   "execution_count": null,
   "id": "b9b833ae-a0a6-4933-959b-19610bdf83f8",
   "metadata": {},
   "outputs": [],
   "source": [
    "from sklearn import preprocessing"
   ]
  },
  {
   "cell_type": "code",
   "execution_count": null,
   "id": "017bb52a-f5ab-4087-b9e6-7283d6d28b7a",
   "metadata": {},
   "outputs": [],
   "source": [
    "# Créer un \"standardiseur\" et le calibrer sur les données d'entraînement\n",
    "std_scaler = preprocessing.StandardScaler().fit(X_train)\n",
    "\n",
    "# Appliquer la standardisation aux données d'entraînement\n",
    "X_train_scaled = std_scaler.transform(X_train)\n",
    "\n",
    "# Appliquer la standardisation aux données de test\n",
    "X_test_scaled = std_scaler.transform(X_test)"
   ]
  },
  {
   "cell_type": "markdown",
   "id": "5385d016-f768-4c33-b3a5-19e1f1faaeae",
   "metadata": {
    "tags": []
   },
   "source": [
    "## 3. Plus proches voisins"
   ]
  },
  {
   "cell_type": "markdown",
   "id": "41b1c641-bad9-431b-a17f-c7f9c775245e",
   "metadata": {},
   "source": [
    "Nous allons maintenant évaluer la capacité d'un algorithme des plus proches voisins à classifier les vins.\n",
    "\n",
    "Pour cela, nous faisons appel à la classe [KNeighborsClassifier](https://scikit-learn.org/stable/modules/generated/sklearn.neighbors.KNeighborsClassifier.html) du module `neighbors` de scikit-learn."
   ]
  },
  {
   "cell_type": "code",
   "execution_count": null,
   "id": "65e8e3ea-4670-402b-8641-817a0a1b3178",
   "metadata": {},
   "outputs": [],
   "source": [
    "from sklearn import neighbors"
   ]
  },
  {
   "cell_type": "markdown",
   "id": "bf8cfdad-823a-4bd7-9ef0-78796c10d24b",
   "metadata": {},
   "source": [
    "### Entrainement sur le jeu d'entrainement"
   ]
  },
  {
   "cell_type": "markdown",
   "id": "54a25ba8-3093-4e55-965a-246087f94db9",
   "metadata": {},
   "source": [
    "Comme dans le Notebook 1, on commence par instancier un objet de la classe qui nous intéresse :"
   ]
  },
  {
   "cell_type": "code",
   "execution_count": null,
   "id": "36257fdd-4ca5-4d28-995e-b0c4732472de",
   "metadata": {},
   "outputs": [],
   "source": [
    "model_knn = neighbors.KNeighborsClassifier()"
   ]
  },
  {
   "cell_type": "markdown",
   "id": "73b463cc-dfa6-4dd3-b8b6-385a467debe6",
   "metadata": {},
   "source": [
    "On peut ensuite l'entraîner sur les données d'entrainement centrées-réduites :"
   ]
  },
  {
   "cell_type": "code",
   "execution_count": null,
   "id": "f32d6d62-d2e2-493e-806f-252c565390e5",
   "metadata": {},
   "outputs": [],
   "source": [
    "model_knn.fit(X_train_scaled, y_train)"
   ]
  },
  {
   "cell_type": "markdown",
   "id": "6108d4cb-a9d2-4497-8a68-53e25565102a",
   "metadata": {},
   "source": [
    "### Prédictions sur le jeu de test"
   ]
  },
  {
   "cell_type": "markdown",
   "id": "4e374326-6518-435e-aded-6a9aeef73c0a",
   "metadata": {},
   "source": [
    "On peut maintenant utiliser le classifieur entraîné sur les données de test, toujours centrées-réduites :"
   ]
  },
  {
   "cell_type": "code",
   "execution_count": null,
   "id": "ba2738dc-c6ae-42d1-8e5c-8512b45f741f",
   "metadata": {},
   "outputs": [],
   "source": [
    "y_pred_knn = model_knn.predict(X_test_scaled)"
   ]
  },
  {
   "cell_type": "markdown",
   "id": "6120030b-d8b7-4c56-b803-75747e5e3049",
   "metadata": {},
   "source": [
    "### Évaluation de la performance\n",
    "\n",
    "De nombreuses métriques permettent d'évaluer la performance d'un algorithme de classification (voir [la doc de scikit-learn à ce sujet](https://scikit-learn.org/stable/modules/model_evaluation.html#classification-metrics)). La __matrice de confusion__ en particulier permet de visualiser combien d'exemple de chaque classe reçoivent chacune des étiquettes :"
   ]
  },
  {
   "cell_type": "code",
   "execution_count": null,
   "id": "d1859530-7a4e-4562-bdcb-aa3c16592e51",
   "metadata": {},
   "outputs": [],
   "source": [
    "from sklearn import metrics"
   ]
  },
  {
   "cell_type": "code",
   "execution_count": null,
   "id": "24d6bfb4-22b3-47f3-a5ea-6b5e88c6f673",
   "metadata": {},
   "outputs": [],
   "source": [
    "metrics.ConfusionMatrixDisplay.from_predictions(y_test, y_pred_knn)"
   ]
  },
  {
   "cell_type": "markdown",
   "id": "bcca4916-e143-4fe3-afde-b906b04315e1",
   "metadata": {},
   "source": [
    "Version alternative (ancienne version de scikit-learn) :"
   ]
  },
  {
   "cell_type": "code",
   "execution_count": null,
   "id": "58a204a1-a9b9-4713-8f56-4d7df5f79196",
   "metadata": {},
   "outputs": [],
   "source": [
    "# metrics.plot_confusion_matrix(model_knn, X_test_scaled, y_test)\n",
    "# ou (version encore plus ancienne)\n",
    "metrics.confusion_matrix(y_test, y_pred_knn)"
   ]
  },
  {
   "cell_type": "code",
   "execution_count": null,
   "id": "c56b6b8f-296f-4ae4-9f10-2316a4c175df",
   "metadata": {},
   "outputs": [],
   "source": [
    "help(metrics.confusion_matrix)"
   ]
  },
  {
   "cell_type": "markdown",
   "id": "798a72bc-8cf4-4b15-a541-a0102c7417a0",
   "metadata": {},
   "source": [
    "__Question :__ Combien il y-a-t'il de vrais positifs ? De faux négatifs ?"
   ]
  },
  {
   "cell_type": "markdown",
   "id": "5f7faa81-170b-4b49-af5c-98cd164fe6f0",
   "metadata": {},
   "source": [
    "La matrice de confusion peut être résumée par le [score F1 ](https://scikit-learn.org/stable/modules/generated/sklearn.metrics.f1_score.html#sklearn.metrics.f1_score) :"
   ]
  },
  {
   "cell_type": "code",
   "execution_count": null,
   "id": "fdd79bf6-8898-412f-a5e0-1aa88f93d0f3",
   "metadata": {
    "tags": []
   },
   "outputs": [],
   "source": [
    "print(\"F1 du kNN sur le jeu de test : %.2f\" % metrics.f1_score(y_test, y_pred_knn))"
   ]
  },
  {
   "cell_type": "markdown",
   "id": "25abb2ff-3dbc-47c2-a1d5-ae8f68f10988",
   "metadata": {
    "tags": []
   },
   "source": [
    "## 4. Sélection du nombre de plus proches voisins"
   ]
  },
  {
   "cell_type": "markdown",
   "id": "a1fbc9fc-7a2b-4f24-bad3-b1aadc02d141",
   "metadata": {},
   "source": [
    "__Question :__ Combien de plus proches voisins a-t-on utilisé dans la section précédente ? Appuyez-vous sur la documentation, par exemple en tapant\n",
    "```\n",
    " neighbors.KNeighborsClassifier?\n",
    " ```\n",
    "dans une cellule ci-dessous."
   ]
  },
  {
   "cell_type": "code",
   "execution_count": null,
   "id": "412a7107-8169-4809-bb87-348be2c73b1a",
   "metadata": {},
   "outputs": [],
   "source": [
    "neighbors.KNeighborsClassifier?"
   ]
  },
  {
   "cell_type": "markdown",
   "id": "7d3676c1-da52-48f4-b113-0de93242021e",
   "metadata": {
    "tags": []
   },
   "source": [
    "### Mise en place d'une validation croisée\n",
    "\n",
    "Le nombre de plus proches voisins (`n_neighbors`) est un __hyperparamètre__ de l'algorithme des plus proches voisins : il ne fait pas partie des paramètres du modèle appris par l'algorithme, mais nous devons le fixer nous-mêmes avant l'entraînement.\n",
    "\n",
    "Nous allons maintenant _choisir_ ce nombre de plus proches voisins par une procédure de __recherche en grille__ (_gridsearch_), qui consiste à _comparer_ les performances de modèles entraînés en utilisant des valeurs prédéfinies (la grille) de l'hyperparamètre. \n",
    "\n",
    "Attention ! Si nous voulons pouvoir utiliser le jeu de test pour évaluer l'erreur de généralisation du modèle utilisant la valeur optimale du nombre de plus proches voisins, nous ne pouvons pas l'utiliser aussi pour cette étape de sélection, car sinon nous pourrions biaiser le modèle et surapprendre.\n",
    "\n",
    "Pour comparer nos modèles __sur le jeu d'entraînement__, nous allons utiliser une __validation croisée__, encore une fois grâce au module [http://scikit-learn.org/stable/model_selection.html#model-selection](model-selection) de scikit-learn."
   ]
  },
  {
   "cell_type": "code",
   "execution_count": null,
   "id": "d1288760-952c-45f4-87bf-f3eb03dec6dc",
   "metadata": {},
   "outputs": [],
   "source": [
    "n_folds = 10\n",
    "\n",
    "# Créer un objet KFold qui permettra de cross-valider en n_folds folds\n",
    "kf = model_selection.KFold(n_splits=n_folds,  \n",
    "                           shuffle=True # mélanger les échantillons avant de créer les folds\n",
    "                          )\n",
    "\n",
    "# Utiliser kf pour partager le jeu d'entraînement en n_folds folds. \n",
    "# kf.split retourne un iterateur (consommé après une boucle).\n",
    "# Pour pouvoir se servir plusieurs fois des mêmes folds, nous transformons cet itérateur en liste d'indices :\n",
    "kf_indices = list(kf.split(X_train))"
   ]
  },
  {
   "cell_type": "markdown",
   "id": "ada5b652-320f-46f9-9bb6-bbc2f4d8d8dc",
   "metadata": {},
   "source": [
    "`kf_indices` contient 10 paires de deux vecteurs d'indices. \n",
    "\n",
    "Chacune de ces paires correspond à un fold. \n",
    "\n",
    "Le premier vecteur donne les indices des échantillons formant la partie entraînement de ce fold. Le deuxième donne les indices des échantillons formant la partie test de ce fold."
   ]
  },
  {
   "cell_type": "code",
   "execution_count": null,
   "id": "0a15759f-a54b-41fb-bbdf-3e8476d96df8",
   "metadata": {},
   "outputs": [],
   "source": [
    "for (idx, fold) in enumerate(kf_indices):\n",
    "    print(\"Le fold %d contient %d observations pour l'entraînement and %d observations pour le test\" % (idx, len(fold[0]), len(fold[1])))"
   ]
  },
  {
   "cell_type": "markdown",
   "id": "cd4930ea-ad8b-458d-996d-057735a96905",
   "metadata": {},
   "source": [
    "__Question :__ Combien de fois chaque échantillon apparaît-il dans la partie entraînement d'un fold ? Dans la partie test ? (Il n'est pas nécessaire d'écrire de code pour répondre.)"
   ]
  },
  {
   "cell_type": "markdown",
   "id": "9c15bc17-d0fe-498e-886c-6fd6bfa72f2b",
   "metadata": {
    "tags": []
   },
   "source": [
    "### Recherche en grille\n",
    "\n",
    "Nous allons commencer par définir une __grille__ de valeurs d'hyperparamètres, c'est à dire une liste de valeurs du nombre de plus proches voisins à évaluer :"
   ]
  },
  {
   "cell_type": "code",
   "execution_count": null,
   "id": "755d3a63-6321-48cf-bd23-cc96a453ee7e",
   "metadata": {},
   "outputs": [],
   "source": [
    "k_values = np.arange(3, 50, step=2)"
   ]
  },
  {
   "cell_type": "code",
   "execution_count": null,
   "id": "16931060-6aaf-48a4-8b5b-ca262afcd779",
   "metadata": {},
   "outputs": [],
   "source": [
    "k_values"
   ]
  },
  {
   "cell_type": "markdown",
   "id": "049e6182-61ae-4ea0-98dd-82d1abb3fcd0",
   "metadata": {},
   "source": [
    "__Question :__ Pourquoi sélectionner uniquement des nombres impairs de voisins ?"
   ]
  },
  {
   "cell_type": "markdown",
   "id": "36df1df9-139c-4a6a-9a60-e1450eb00c2b",
   "metadata": {},
   "source": [
    "Nous allons maintenant utiliser la classe [GridSearchCV](https://scikit-learn.org/stable/modules/generated/sklearn.model_selection.GridSearchCV.html) du module `model_selection` de scikit-learn pour déterminer la valeur optimale du nombre de plus proches voisins par recherche en grille :"
   ]
  },
  {
   "cell_type": "code",
   "execution_count": null,
   "id": "3aad7246-12b0-43c6-882c-535bc1c87ece",
   "metadata": {},
   "outputs": [],
   "source": [
    "# Instanciation d'un objet GridSearchCV\n",
    "grid = model_selection.GridSearchCV(neighbors.KNeighborsClassifier(), # prédicteur à évaluer\n",
    "                                    {'n_neighbors':k_values}, # dictionnaire de valeurs d'hyperparamètres\n",
    "                                    cv=kf_indices, # validation croisée à utiliser\n",
    "                                    scoring='f1' # métrique d'évaluation de la performance\n",
    "                                   )"
   ]
  },
  {
   "cell_type": "markdown",
   "id": "30c95457-372a-41e5-85bc-2aa68d3bdf7b",
   "metadata": {},
   "source": [
    "Nous allons aussi utiliser la [commande magique time](https://ipython.readthedocs.io/en/stable/interactive/magics.html) pour mesurer le temps de calcul d'une cellule de notre notebook."
   ]
  },
  {
   "cell_type": "code",
   "execution_count": null,
   "id": "a2f71de2-cc02-4cb7-b6a2-0dc4fc89ca0b",
   "metadata": {},
   "outputs": [],
   "source": [
    "%%time\n",
    "# Utilisation de cet objet sur les données d'entraînement (centrées-réduites)\n",
    "grid.fit(X_train_scaled, y_train)"
   ]
  },
  {
   "cell_type": "markdown",
   "id": "489569a8-d41c-4323-8366-6b2c8f30f840",
   "metadata": {},
   "source": [
    "La valeur optimale de l'hyperparamètre est donnée par :"
   ]
  },
  {
   "cell_type": "code",
   "execution_count": null,
   "id": "f22b7d3a-6680-4a7d-a642-d06f42a27786",
   "metadata": {},
   "outputs": [],
   "source": [
    "print(grid.best_params_)"
   ]
  },
  {
   "cell_type": "markdown",
   "id": "813ce718-6cd1-4a23-b2a5-dfaea1619965",
   "metadata": {},
   "source": [
    "Le code suivant permet d'afficher la performance du modèle selon la valeur de l'hyperparamètre :"
   ]
  },
  {
   "cell_type": "code",
   "execution_count": null,
   "id": "ac6a0e87-9884-4061-9920-70ca28246292",
   "metadata": {},
   "outputs": [],
   "source": [
    "mean_test_score = grid.cv_results_['mean_test_score']\n",
    "stde_test_score = grid.cv_results_['std_test_score'] / np.sqrt(n_folds) # standard error\n",
    "\n",
    "p = plt.plot(k_values, mean_test_score)\n",
    "plt.plot(k_values, (mean_test_score + stde_test_score), '--', color=p[0].get_color())\n",
    "plt.plot(k_values, (mean_test_score - stde_test_score), '--', color=p[0].get_color())\n",
    "plt.fill_between(k_values, (mean_test_score + stde_test_score), \n",
    "                 (mean_test_score - stde_test_score), alpha=0.2)\n",
    "\n",
    "best_index = np.where(k_values == grid.best_params_['n_neighbors'])[0][0]\n",
    "plt.scatter(k_values[best_index], mean_test_score[best_index])\n",
    "\n",
    "\n",
    "plt.xlabel('nombre de plus proches voisins')\n",
    "plt.ylabel('F1')\n",
    "plt.title(\"Performance (en validation croisée) le long de la grille\")"
   ]
  },
  {
   "cell_type": "markdown",
   "id": "33c494b8-9500-4296-ab1d-fdde1ba8ff99",
   "metadata": {},
   "source": [
    "### Modèle optimal de plus proches voisins"
   ]
  },
  {
   "cell_type": "code",
   "execution_count": null,
   "id": "7a6f26da-61ae-476c-84dd-a763924723c9",
   "metadata": {},
   "outputs": [],
   "source": [
    "print(\"Meilleur F1 en validation croisée : %.3f\" % grid.best_score_)"
   ]
  },
  {
   "cell_type": "markdown",
   "id": "db6130a5-b016-4256-883f-b0e2dfd7e26f",
   "metadata": {},
   "source": [
    "Le modèle entraîné sur l'intégralité des données fournies à `grid.fit` avec la (les) meilleure(s) valeur(s) d'hyperparamètre(s) est donné par `grid.best_estimator_`."
   ]
  },
  {
   "cell_type": "code",
   "execution_count": null,
   "id": "ee41864a-ec35-41a4-ae15-9455d02ab714",
   "metadata": {
    "tags": []
   },
   "outputs": [],
   "source": [
    "y_pred_knn_opt = grid.best_estimator_.predict(X_test_scaled)"
   ]
  },
  {
   "cell_type": "code",
   "execution_count": null,
   "id": "bfe0d8c1-e4c0-44fa-8291-803d26759279",
   "metadata": {},
   "outputs": [],
   "source": [
    "metrics.ConfusionMatrixDisplay.from_predictions(y_test, y_pred_knn_opt)"
   ]
  },
  {
   "cell_type": "code",
   "execution_count": null,
   "id": "d1de824d-e7f9-45bb-8eed-08037f40bdf6",
   "metadata": {},
   "outputs": [],
   "source": [
    "print(metrics.confusion_matrix(y_test, y_pred_knn_opt))"
   ]
  },
  {
   "cell_type": "markdown",
   "id": "4bd05235-ea87-4ce4-b76d-6b7263808b1b",
   "metadata": {},
   "source": [
    "Version alternative (ancienne version de scikit-learn) :"
   ]
  },
  {
   "cell_type": "code",
   "execution_count": null,
   "id": "706a0aaa-b61a-4ced-9174-6e940ff21e85",
   "metadata": {
    "tags": []
   },
   "outputs": [],
   "source": [
    "print(\"F1 du kNN (k optimal) sur le jeu de test : %.2f\" % metrics.f1_score(y_test, y_pred_knn_opt))"
   ]
  },
  {
   "cell_type": "markdown",
   "id": "869dabde-d50b-4f64-8906-6913c42697f6",
   "metadata": {},
   "source": [
    "## 5. Régression logistique régularisée"
   ]
  },
  {
   "cell_type": "markdown",
   "id": "e9123ff9-cdbc-4e04-8634-15f7e498dd79",
   "metadata": {},
   "source": [
    "### Performance d'une régression logistique non-régularisée"
   ]
  },
  {
   "cell_type": "markdown",
   "id": "4c539e89-0b66-4022-a8af-6c103b7638d2",
   "metadata": {},
   "source": [
    "Nous allons maintenant entraîner une régression __logistique__ (car nous avons un problème de classification) _sur le jeu d'entraînement_ et l'évaluer _sur le jeu de test_.\n",
    "\n",
    "Nous utilisons la classe [LogisticRegression](https://scikit-learn.org/stable/modules/generated/sklearn.linear_model.LogisticRegression.html) du module `linear_model` de scikit-learn."
   ]
  },
  {
   "cell_type": "code",
   "execution_count": null,
   "id": "459b9d4f-99ff-4ddb-ac27-72134aaab91e",
   "metadata": {},
   "outputs": [],
   "source": [
    "from sklearn import linear_model"
   ]
  },
  {
   "cell_type": "code",
   "execution_count": null,
   "id": "cce0d708-ee89-42e9-808c-3a7df5791a9f",
   "metadata": {},
   "outputs": [],
   "source": [
    "# Créer un modèle de régression linéaire \n",
    "model_rlog = linear_model.LogisticRegression(penalty='none' # modèle non régularisé pour l'instant\n",
    "                                            )\n",
    "\n",
    "# Entraîner ce modèle sur (X_train_scaled, y_train)\n",
    "model_rlog.fit(X_train_scaled, y_train)"
   ]
  },
  {
   "cell_type": "markdown",
   "id": "fb3556d5-5d50-47dd-a866-fe0d705a157e",
   "metadata": {},
   "source": [
    "Alternativement (anciennes versions de scikit-learn) :"
   ]
  },
  {
   "cell_type": "code",
   "execution_count": null,
   "id": "9fa33b76-0be5-4b3a-bbc2-1b17d6cfe343",
   "metadata": {},
   "outputs": [],
   "source": [
    "# Créer un modèle de régression linéaire \n",
    "model_rlog = linear_model.LogisticRegression(penalty='l2', C=1e6 # modèle non régularisé pour l'instant\n",
    "                                            )\n",
    "\n",
    "# Entraîner ce modèle sur (X_train_scaled, y_train)\n",
    "model_rlog.fit(X_train_scaled, y_train)"
   ]
  },
  {
   "cell_type": "code",
   "execution_count": null,
   "id": "eff556dd-1b34-4d5e-a05c-e957611fc699",
   "metadata": {},
   "outputs": [],
   "source": [
    "# Prédire les étiquettes du jeu de test\n",
    "y_pred_rlog = model_rlog.predict(X_test_scaled)"
   ]
  },
  {
   "cell_type": "code",
   "execution_count": null,
   "id": "3b8db2fa-0ab3-4458-bab7-d9d74da7fae5",
   "metadata": {},
   "outputs": [],
   "source": [
    "metrics.ConfusionMatrixDisplay.from_predictions(y_test, y_pred_rlog)"
   ]
  },
  {
   "cell_type": "markdown",
   "id": "6da3ea8c-af4f-4e1b-beac-c282b1bccfc4",
   "metadata": {},
   "source": [
    "Alternativement :"
   ]
  },
  {
   "cell_type": "code",
   "execution_count": null,
   "id": "a78d4050-adee-407f-9595-7c94f508adc5",
   "metadata": {},
   "outputs": [],
   "source": [
    "metrics.confusion_matrix(y_test, y_pred_rlog)"
   ]
  },
  {
   "cell_type": "code",
   "execution_count": null,
   "id": "6a6ffe35-2d24-4dc7-86a2-653cec38203a",
   "metadata": {
    "tags": []
   },
   "outputs": [],
   "source": [
    "print(\"F1 d'une régression logistique sur le jeu de test : %.2f\" % metrics.f1_score(y_test, y_pred_rlog))"
   ]
  },
  {
   "cell_type": "markdown",
   "id": "52c821db-fa39-455c-9550-e429e1271f41",
   "metadata": {},
   "source": [
    "__Question :__ Que pensez-vous de la qualité du modèle ?"
   ]
  },
  {
   "cell_type": "markdown",
   "id": "312747fc-7899-4929-951d-7bf15f181fb7",
   "metadata": {},
   "source": [
    "### Coefficients du modèle"
   ]
  },
  {
   "cell_type": "code",
   "execution_count": null,
   "id": "8ed971b8-e0d2-4559-add2-c19d35d2f0a9",
   "metadata": {},
   "outputs": [],
   "source": [
    "# Calculer le nombre de variables\n",
    "num_features = X_train.shape[1]\n",
    "\n",
    "# Afficher pour chaque variable son coefficient dans le modèle\n",
    "plt.scatter(range(num_features), # en abcisse : indices des variables\n",
    "            model_rlog.coef_ # en ordonnées : leur poids dans le modèle\n",
    "           )\n",
    "\n",
    "# Étiqueter les graduations de l'axe des abcsisses\n",
    "tmp = plt.xticks(range(num_features), # une marque par variable\n",
    "                 list(df.columns[:-1]),  # afficher le nom de la variable\n",
    "                 rotation=90, # tourner les étiquettes de 90 degrés\n",
    "                 fontsize=14)\n",
    "\n",
    "# Étiqueter les axes\n",
    "tmp = plt.xlabel('Variable', fontsize=14)\n",
    "tmp = plt.ylabel('Coefficient', fontsize=14)"
   ]
  },
  {
   "cell_type": "markdown",
   "id": "35134f41-cb32-40f1-ad35-251cf6635789",
   "metadata": {},
   "source": [
    "### Régularisation ridge\n",
    "\n",
    "Nous allons maintenant ajouter une régularisation l2 (ou ridge) à cette régression logistique.\n",
    "\n",
    "Ici il y a peu de variables et leurs coefficients prennent des valeurs faibles : il n'est pas certain que la régularisation soit nécessaire, mais comme ce jeu de données comporte peu de variables, nous pouvons l'utiliser pour regarder l'effet de la régularisation sur les valeurs des coefficients du modèle appris.\n",
    "\n",
    "Commençons par nous donner une grille de valeurs pour le paramètre de régularisation `C`. \n",
    "\n",
    "Attention ! Plus `C` est grand, _moins_ il y a de régularisation. "
   ]
  },
  {
   "cell_type": "code",
   "execution_count": null,
   "id": "4d5c7436-8176-4326-99bc-29710373ae54",
   "metadata": {},
   "outputs": [],
   "source": [
    "c_values = np.logspace(-3, 3, 50)"
   ]
  },
  {
   "cell_type": "markdown",
   "id": "762d192a-acb1-47e0-bf90-6a7c7b892570",
   "metadata": {},
   "source": [
    "Nous allons maintenant utiliser non pas `GridSearchCV` mais implémenter notre recherche en grille nous-mêmes, afin d'avoir accès aux valeurs des coefficients de chacun des modèles :"
   ]
  },
  {
   "cell_type": "code",
   "execution_count": null,
   "id": "e083333a-9583-4edb-9bdb-d1008a665183",
   "metadata": {},
   "outputs": [],
   "source": [
    "%%time\n",
    "\n",
    "f1_per_c = [] # pour enregistrer les valeurs du score F1 pour chacune des 50 valeurs de C\n",
    "weights_per_c = [] # pour enregistrer les coefficients associés à chaque variable,  \n",
    "                   # pour les 50 valeurs de C\n",
    "for c_val in c_values:\n",
    "    # Créer un modèle de régression logistique régularisée par le paramètre c_val\n",
    "    model_ridge = linear_model.LogisticRegression(penalty='l2', C=c_val)\n",
    "    \n",
    "    # Calculer la performance en validation croisée du modèle\n",
    "    f1 = model_selection.cross_val_score(model_ridge, # prédicteur à évaluer\n",
    "                                         X_train_scaled, y_train, # données d'entrainement\n",
    "                                         cv=kf_indices, # validation croisée à utiliser\n",
    "                                         scoring='f1' # métrique d'évaluation de la performance\n",
    "                                         )\n",
    "    f1_per_c.append(f1)\n",
    "    \n",
    "    # Entrainer le modèle sur le jeu d'entrainement total \n",
    "    model_ridge.fit(X_train_scaled, y_train)\n",
    "    \n",
    "    # Enregistrer les coefficients de régression \n",
    "    weights_per_c.append(model_ridge.coef_[0])"
   ]
  },
  {
   "cell_type": "markdown",
   "id": "97b062e6-3ff3-4edc-8d6c-0c0a9a34752e",
   "metadata": {},
   "source": [
    "### Évolution de la performance en fonction du coefficient de régularisation"
   ]
  },
  {
   "cell_type": "code",
   "execution_count": null,
   "id": "f4f4b234-4976-4dee-b763-68a2fb418ec4",
   "metadata": {},
   "outputs": [],
   "source": [
    "mean_test_score = np.mean(np.array(f1_per_c), axis=1)\n",
    "stde_test_score = np.std(np.array(f1_per_c), axis=1) / np.sqrt(n_folds) # standard error\n",
    "\n",
    "p = plt.plot(c_values, mean_test_score)\n",
    "plt.plot(c_values, (mean_test_score + stde_test_score), '--', \n",
    "         color=p[0].get_color()) # réutiliser la même couleur que précédemment au lieu d'avancer\n",
    "plt.plot(c_values, (mean_test_score - stde_test_score), '--', color=p[0].get_color())\n",
    "plt.fill_between(c_values, (mean_test_score + stde_test_score), \n",
    "                 (mean_test_score - stde_test_score), alpha=0.2)\n",
    "\n",
    "\n",
    "plt.xscale('log') # utiliser une échelle logarithmique en abcisse\n",
    "\n",
    "# Étiqueter les axes\n",
    "tmp = plt.xlabel('Valeur de C', fontsize=14)\n",
    "tmp = plt.ylabel('F1 moyen', fontsize=14)\n",
    "\n",
    "# Titre\n",
    "tmp = plt.title(\"Performance (validation croisée) de la régression logistique\", fontsize=14)"
   ]
  },
  {
   "cell_type": "markdown",
   "id": "00083243-9bf6-4eca-ac15-88259e665690",
   "metadata": {},
   "source": [
    "__Question :__ Comment l'erreur du modèle (en validation croisée) évolue-t-elle en fonction de la quantité de régularisation ?"
   ]
  },
  {
   "cell_type": "markdown",
   "id": "fc231f33-bc60-41dd-b16a-9c43ddef184c",
   "metadata": {},
   "source": [
    "### Modèle optimal de régression ridge\n",
    "\n",
    "Nous pouvons maintenant sélectionner, parmi nos 50 modèles de régression ridge, celui qui a la plus petite erreur en validation croisée :"
   ]
  },
  {
   "cell_type": "code",
   "execution_count": null,
   "id": "b5be0a4b-fef7-4015-94e1-81a07d9177ab",
   "metadata": {},
   "outputs": [],
   "source": [
    "# Trouver l'index de la valeur optimale de C\n",
    "best_C_idx = np.argmax(np.mean(f1_per_c, axis=1))\n",
    "\n",
    "# Valeur de C optimale\n",
    "c_opt = c_values[best_C_idx]\n",
    "print(\"Valeur de C optimale (regression ridge) : %.3e\" % c_opt)\n",
    "\n",
    "# MSE correspondante\n",
    "print(\"Score F1 (validation croisée) du modèle de regression logistique régularisée optimal : %.2f +/- %.2f\" % \\\n",
    "     (np.mean(np.array(f1_per_c)[best_C_idx]), # valeur moyenne\n",
    "      np.std(np.array(f1_per_c)[best_C_idx]) # écart-type\n",
    "     ))"
   ]
  },
  {
   "cell_type": "markdown",
   "id": "74c110d1-1550-4ebf-b4a3-19b8aa63a15b",
   "metadata": {},
   "source": [
    "### Évolution des coefficients de régression en fonction de la régularisation"
   ]
  },
  {
   "cell_type": "code",
   "execution_count": null,
   "id": "9f064d5b-39e0-4b3d-86d3-15b0da24d32f",
   "metadata": {},
   "outputs": [],
   "source": [
    "# Créer une figure\n",
    "fig = plt.figure(figsize=(8, 5))\n",
    "\n",
    "lines = plt.plot(c_values, \n",
    "                 weights_per_c # ordonnée = valeurs des coefficients de régression\n",
    "                ) \n",
    "plt.xscale('log') # échelle logarithmique en abcisse\n",
    "\n",
    "# Afficher de nouveau (à l'abscisse 2x1e3) les coefficients de régression obtenus sans régularisation \n",
    "for coeff in model_rlog.coef_[0]:\n",
    "    scatter([2e3], [coeff])\n",
    "\n",
    "# Marquer la valeur optimale de C d'une barre verticale\n",
    "plt.plot([c_opt, c_opt], [-0.75, 1.25], 'k--')\n",
    "    \n",
    "# Afficher la légende\n",
    "tmp = plt.legend(lines, # récupérer l'identifiant \n",
    "                 list(df.columns), # nom de chaque variable\n",
    "                 frameon=False, # pas de cadre autour de la légende\n",
    "                 loc=(1, 0),  # placer la légende à droite de l'image\n",
    "                 fontsize=14)\n",
    "\n",
    "tmp = plt.xlabel('Valeur de C', fontsize=14)\n",
    "tmp = plt.ylabel('Coefficient de régression', fontsize=14)\n",
    "\n",
    "tmp = plt.title('Régression logistique', fontsize=16)"
   ]
  },
  {
   "cell_type": "markdown",
   "id": "facd955b-63d8-4300-9f6d-6ecd877a2893",
   "metadata": {},
   "source": [
    "__Question :__ Comment les coefficients du modèle évoluent-ils en fonction de la quantité de régularisation ?"
   ]
  },
  {
   "cell_type": "markdown",
   "id": "34a84be9-0172-4d28-9c6a-5132253b0733",
   "metadata": {},
   "source": [
    "__Question :__ Ces coefficients vous semblent-ils cohérents avec ceux obtenus pour la régression logistique non-régularisée ?"
   ]
  },
  {
   "cell_type": "markdown",
   "id": "1f46178c-c12e-4af7-be57-ddc84f2cfb1d",
   "metadata": {},
   "source": [
    "## 6. Régularisation ridge sur un cas d'école"
   ]
  },
  {
   "cell_type": "markdown",
   "id": "3e706b26-fbdb-4f55-8b77-7760eb478ec6",
   "metadata": {},
   "source": [
    "Pour mieux comprendre la régularisation ridge, nous allons simuler un jeu de données non-linéaire qui prendra la forme d'une courbe sinusoïdale."
   ]
  },
  {
   "cell_type": "markdown",
   "id": "c6cad7db-0167-4c56-908c-f1a25854b8c8",
   "metadata": {},
   "source": [
    "### Simulation de données"
   ]
  },
  {
   "cell_type": "code",
   "execution_count": null,
   "id": "0ea504c9-b44d-454f-bfd5-97bb797cb782",
   "metadata": {},
   "outputs": [],
   "source": [
    "nb_samples = 30\n",
    "\n",
    "np.random.seed(13)\n",
    "\n",
    "# vrai modèle \n",
    "def true_model(X):\n",
    "    return np.cos(1.5 * np.pi * X) * 5\n",
    "\n",
    "# échantillons \"ground truth\" tirés du vrai modèle \n",
    "X_ground_truth = np.linspace(0, 1, 100).reshape(-1, 1)\n",
    "y_ground_truth = true_model(X_ground_truth)\n",
    "\n",
    "# données = observations tirées du vrai modèle puis bruitées\n",
    "X = np.sort(np.random.rand(nb_samples, 1))\n",
    "y = true_model(X)\n",
    "# ajout du bruit\n",
    "y += np.random.randn(nb_samples, 1) * 0.3\n",
    "\n",
    "print(X.shape, y.shape)"
   ]
  },
  {
   "cell_type": "code",
   "execution_count": null,
   "id": "2b5dc17d-7c45-4089-b1f5-2d7c634d7034",
   "metadata": {},
   "outputs": [],
   "source": [
    "# Dessiner le vrai modèle\n",
    "plt.plot(X_ground_truth, y_ground_truth, label=\"Vrai modèle\", linewidth=2)\n",
    "\n",
    "# Afficher les données simulées\n",
    "plt.scatter(X, y, label=\"Données simulées\", marker=\"o\")\n",
    "\n",
    "plt.xlabel(\"X\")\n",
    "plt.ylabel(\"y\")\n",
    "plt.legend(loc=\"best\")\n",
    "plt.tight_layout()"
   ]
  },
  {
   "cell_type": "markdown",
   "id": "b292416d-eb45-4faa-88b2-b1024a89febf",
   "metadata": {},
   "source": [
    "### Séparation entrainement / test "
   ]
  },
  {
   "cell_type": "code",
   "execution_count": null,
   "id": "5872356c-60cf-4707-82b6-840ebb50150e",
   "metadata": {},
   "outputs": [],
   "source": [
    "X_train, X_test, y_train, y_test = model_selection.train_test_split(X, y, test_size=0.3)\n",
    "print(X_train.shape, y_train.shape)\n",
    "print(X_test.shape, y_test.shape)"
   ]
  },
  {
   "cell_type": "markdown",
   "id": "826a4ee6-be9d-4f14-8c84-241b5f00721d",
   "metadata": {},
   "source": [
    "### Régression linéaire "
   ]
  },
  {
   "cell_type": "markdown",
   "id": "728352b8-74f4-43f6-8f37-942d91123be2",
   "metadata": {},
   "source": [
    "__Question :__ Combien de variables avons-nous dans notre problème ?"
   ]
  },
  {
   "cell_type": "markdown",
   "id": "f4363ea3-4dc8-4cf7-8a61-4fdab01c4280",
   "metadata": {},
   "source": [
    "Entrainons une régression linéaire « classique » (comme celle vue dans le Notebook 1) sur `(X_train, y_train)` et évaluons sa performance d'une part sur le jeu d'entraînement et d'autre part sur le jeu de test. "
   ]
  },
  {
   "cell_type": "markdown",
   "id": "5029dfd0-af7c-4eaa-8993-55d014eabe81",
   "metadata": {},
   "source": [
    "__Question :__ Pourquoi comparer ces deux performances ?"
   ]
  },
  {
   "cell_type": "code",
   "execution_count": null,
   "id": "4db4b7d5-a68b-4f1c-8ad2-58617d285c5f",
   "metadata": {},
   "outputs": [],
   "source": [
    "# Entrainement\n",
    "reg = linear_model.LinearRegression()\n",
    "reg.fit(X_train, y_train)"
   ]
  },
  {
   "cell_type": "markdown",
   "id": "d615689e-7bf7-4e5a-b86e-fb9a0f2c91aa",
   "metadata": {},
   "source": [
    "#### Performance"
   ]
  },
  {
   "cell_type": "code",
   "execution_count": null,
   "id": "d80b791c-a664-48b1-8831-dbb852518de1",
   "metadata": {},
   "outputs": [],
   "source": [
    "# RMSE \n",
    "print(\"RMSE d'une régression linéaire :\")\n",
    "# Sur le jeu d'entrainement\n",
    "rmse_reg_train = metrics.mean_squared_error(y_train, reg.predict(X_train), squared=False)\n",
    "print(\"\\r train: {0:0.2f}\".format(rmse_reg_train))\n",
    "# Sur le jeu de test\n",
    "rmse_reg_test = metrics.mean_squared_error(y_test, reg.predict(X_test), squared=False)\n",
    "print(\"\\r test: {0:0.2f}\".format(rmse_reg_test))"
   ]
  },
  {
   "cell_type": "markdown",
   "id": "3225a320-6ee0-4c5e-9bcd-820851ea977e",
   "metadata": {},
   "source": [
    "Nous allons maintenant afficher le modèle appris sur le graphe précédent."
   ]
  },
  {
   "cell_type": "code",
   "execution_count": null,
   "id": "59d563f6-2d44-4173-a99e-a87446bc9c6e",
   "metadata": {},
   "outputs": [],
   "source": [
    "# Dessiner le vrai modèle\n",
    "plt.plot(X_ground_truth, y_ground_truth, label=\"Vrai modèle\", linewidth=2)\n",
    "\n",
    "# Afficher le modèle appris\n",
    "y_model = reg.predict(X_ground_truth)\n",
    "plt.plot(X_ground_truth, y_model, label=\"Modèle appris\", linewidth=2)\n",
    "\n",
    "# Afficher les données simulées\n",
    "plt.scatter(X_train, y_train, label=\"Données simulées (train)\", marker=\"o\")\n",
    "plt.scatter(X_test, y_test, label=\"Données simulées (test)\", marker=\"D\")\n",
    "\n",
    "# format plot\n",
    "plt.xlabel(\"X\")\n",
    "plt.ylabel(\"y\")\n",
    "plt.title(\"Régression linéaire\")\n",
    "plt.legend(loc=\"best\")\n",
    "plt.tight_layout()"
   ]
  },
  {
   "cell_type": "markdown",
   "id": "76cfd686-9a58-41c4-8e45-5bbc011d859d",
   "metadata": {},
   "source": [
    "__Question :__ Que pensez-vous de la performance de la régression linéaire ici ?"
   ]
  },
  {
   "cell_type": "markdown",
   "id": "fa8a9eff-30a9-4e54-b5ad-9c2ad14d78bf",
   "metadata": {},
   "source": [
    "### Régression polynomiale "
   ]
  },
  {
   "cell_type": "markdown",
   "id": "4f7d8147-91ce-4bf6-8a1c-77e66f207ede",
   "metadata": {},
   "source": [
    "La régression polynomiale consiste à apprendre un modèle non-linéaire en apprenant un modèle linéaire sur un nouvel ensemble de variables, formé de monomes des variables décrivant nos données.\n",
    "\n",
    "De manière générale, pour un problème décrit par $p$ variables $(X_1, X_2, \\dots, X_p)$, une régression polynomiale de degré $d$ est une régression linéaire sur les variables $(X_1, X_2, \\dots, X_p, X_1^2, X_1 X_2, \\dots, X_p^2, \\dots, X_p^d)$. Remarquez que nous créons ainsi un grand nombre de variables, corrélées entre elles ; nous gagnons en finesse de modélisation, mais perdons en complexité du modèle, risque de surapprentissage, et fléau de la dimension.\n",
    "\n",
    "Une telle transformation est possible avec la classe `PolynomialFeatures` de `sklearn.preprocessing`.\n",
    "\n",
    "Ici, il s'agit donc de régresser une droite à partir des puissances de $X$ et non plus de $X$ uniquement : on approche le vrai modèle par un polynôme."
   ]
  },
  {
   "cell_type": "code",
   "execution_count": null,
   "id": "82207c2d-0bc8-49c3-acbe-c1523b222bdb",
   "metadata": {},
   "outputs": [],
   "source": [
    "# calcul des puissances de x, jusqu'au degré 15\n",
    "polynomial_features = preprocessing.PolynomialFeatures(degree=15)#, include_bias=False)\n",
    "\n",
    "# création des jeux de données correspondants\n",
    "X_train_poly = polynomial_features.fit_transform(X_train)\n",
    "X_test_poly = polynomial_features.transform(X_test)\n",
    "X_ground_truth_poly = polynomial_features.transform(X_ground_truth)\n",
    "\n",
    "print(X_train_poly.shape)\n",
    "print(X_test_poly.shape)\n",
    "print(X_ground_truth_poly.shape)"
   ]
  },
  {
   "cell_type": "markdown",
   "id": "0fa0b975-a62f-42ab-bff3-7b6a011085cf",
   "metadata": {},
   "source": [
    "__Question :__ Combien de variables avons-nous maintenant ?"
   ]
  },
  {
   "cell_type": "code",
   "execution_count": null,
   "id": "3339349c-57ec-4928-a1d4-2e261c199f95",
   "metadata": {},
   "outputs": [],
   "source": [
    "# Entrainement\n",
    "reg_poly = linear_model.LinearRegression()\n",
    "reg_poly.fit(X_train_poly, y_train)"
   ]
  },
  {
   "cell_type": "markdown",
   "id": "46835f20-9bd0-42d4-a958-27c90e638168",
   "metadata": {
    "tags": []
   },
   "source": [
    "#### Performance"
   ]
  },
  {
   "cell_type": "code",
   "execution_count": null,
   "id": "fc3b6ba4-6388-4b0c-b32f-61cd69924f46",
   "metadata": {},
   "outputs": [],
   "source": [
    "# RMSE \n",
    "print(\"RMSE d'une régression polynomiale :\")\n",
    "# Sur le jeu d'entrainement\n",
    "rmse_reg_poly_train = metrics.mean_squared_error(y_train, reg_poly.predict(X_train_poly), squared=False)\n",
    "print(\"\\r train: {0:0.2f}\".format(rmse_reg_poly_train))\n",
    "# Sur le jeu de test\n",
    "rmse_reg_poly_test = metrics.mean_squared_error(y_test, reg_poly.predict(X_test_poly), squared=False)\n",
    "print(\"\\r test: {0:0.2f}\".format(rmse_reg_poly_test))"
   ]
  },
  {
   "cell_type": "markdown",
   "id": "96c7283f-9372-4aa0-91f9-2eea5c9fa555",
   "metadata": {},
   "source": [
    "__Question :__ Comparez les performances du modèle sur le jeu d'entrainement et le jeu de test. Que conclure ?"
   ]
  },
  {
   "cell_type": "markdown",
   "id": "b66f053c-d30f-417c-97e4-550911a1edab",
   "metadata": {},
   "source": [
    "Nous allons maintenant afficher le modèle appris sur le graphe précédent."
   ]
  },
  {
   "cell_type": "code",
   "execution_count": null,
   "id": "ef747176-061d-4e6b-9858-5fe2f60e2bc9",
   "metadata": {},
   "outputs": [],
   "source": [
    "# Dessiner le vrai modèle\n",
    "plt.plot(X_ground_truth, y_ground_truth, label=\"Vrai modèle\", linewidth=2)\n",
    "\n",
    "# Afficher le modèle appris\n",
    "plt.plot(X_ground_truth, reg_poly.predict(X_ground_truth_poly), label=\"Modèle appris\", linewidth=2)\n",
    "\n",
    "# Afficher les données simulées\n",
    "plt.scatter(X_train, y_train, label=\"Données simulées (train)\", marker=\"o\")\n",
    "plt.scatter(X_test, y_test, label=\"Données simulées (test)\", marker=\"D\")\n",
    "\n",
    "# format plot\n",
    "plt.xlabel(\"X\")\n",
    "plt.ylabel(\"y\")\n",
    "plt.title(\"Régression polynomiale\")\n",
    "plt.legend(loc=\"best\")\n",
    "plt.tight_layout()\n",
    "plt.ylim([-6, 6])"
   ]
  },
  {
   "cell_type": "markdown",
   "id": "a7b20869-2625-4e8b-a087-48d66800c978",
   "metadata": {},
   "source": [
    "__Question :__ Que pouvez-vous conclure sur le choix de la régression polynomiale ?"
   ]
  },
  {
   "cell_type": "markdown",
   "id": "6c8c46bd-2984-4282-a1d8-be3cbb40dee3",
   "metadata": {
    "tags": []
   },
   "source": [
    "#### Coefficients du modèle"
   ]
  },
  {
   "cell_type": "code",
   "execution_count": null,
   "id": "850f6af3-8108-46aa-ae99-2ee814a255a0",
   "metadata": {},
   "outputs": [],
   "source": [
    "# Calculer le nombre de variables\n",
    "num_features = X_train_poly.shape[1]\n",
    "\n",
    "# Afficher pour chaque variable son coefficient dans le modèle\n",
    "plt.scatter(range(num_features), # en abcisse : indices des variables\n",
    "            reg_poly.coef_ # en ordonnées : leur poids dans le modèle\n",
    "           )\n",
    "\n",
    "# Étiqueter les axes\n",
    "tmp = plt.xlabel('Variable', fontsize=14)\n",
    "tmp = plt.ylabel('Coefficient', fontsize=14)\n",
    "plt.yscale(\"log\")"
   ]
  },
  {
   "cell_type": "markdown",
   "id": "9712d751-0f43-40ef-ab31-6fc536fa1979",
   "metadata": {},
   "source": [
    "__Question :__ Que remarquez-vous ? Faites bien attention à l'échelle des coefficients."
   ]
  },
  {
   "cell_type": "markdown",
   "id": "3ff1fcad-e3a1-4eb8-a135-426bf3d8d513",
   "metadata": {},
   "source": [
    "### Régression polynomiale régularisée ridge\n",
    "\n",
    "Comme la régression polynomiale surapprend, nous allons maintenant lui appliquer un terme de régularisation ridge pour essayer de compenser cet effet."
   ]
  },
  {
   "cell_type": "code",
   "execution_count": null,
   "id": "b1a02e33-4315-4579-a2bb-6a848bba9a06",
   "metadata": {},
   "outputs": [],
   "source": [
    "# Entrainement\n",
    "ridge_poly = linear_model.Ridge(alpha=0.01, random_state=13)\n",
    "ridge_poly.fit(X_train_poly, y_train)"
   ]
  },
  {
   "cell_type": "markdown",
   "id": "b1aebab2-a6de-404f-b0f2-3489d4ca2594",
   "metadata": {
    "tags": []
   },
   "source": [
    "#### Performance"
   ]
  },
  {
   "cell_type": "code",
   "execution_count": null,
   "id": "b8b357f4-68ad-4add-b7a5-24a1ed4c23f0",
   "metadata": {},
   "outputs": [],
   "source": [
    "# RMSE \n",
    "print(\"RMSE d'une régression polynomiale régularisée :\")\n",
    "# Sur le jeu d'entrainement\n",
    "rmse_ridge_poly_train = metrics.mean_squared_error(y_train, ridge_poly.predict(X_train_poly), squared=False)\n",
    "print(\"\\r train: {0:0.2f}\".format(rmse_ridge_poly_train))\n",
    "# Sur le jeu de test\n",
    "rmse_ridge_poly_test = metrics.mean_squared_error(y_test, ridge_poly.predict(X_test_poly), squared=False)\n",
    "print(\"\\r test: {0:0.2f}\".format(rmse_ridge_poly_test))"
   ]
  },
  {
   "cell_type": "markdown",
   "id": "6fbdc0e4-34e6-45ca-97ac-ef7507fd7294",
   "metadata": {},
   "source": [
    "__Question :__ Comparez les performances du modèle sur le jeu d'entrainement et le jeu de test. Que conclure ?"
   ]
  },
  {
   "cell_type": "markdown",
   "id": "78389d03-f824-4af9-9997-84c0e0c6dbc8",
   "metadata": {},
   "source": [
    "Nous allons maintenant afficher le modèle appris sur le graphe précédent."
   ]
  },
  {
   "cell_type": "code",
   "execution_count": null,
   "id": "ae1c6be9-2059-4d14-979c-76d71d0a2383",
   "metadata": {},
   "outputs": [],
   "source": [
    "# Dessiner le vrai modèle\n",
    "plt.plot(X_ground_truth, y_ground_truth, label=\"Vrai modèle\", linewidth=2)\n",
    "\n",
    "# Afficher le modèle appris\n",
    "plt.plot(X_ground_truth, ridge_poly.predict(X_ground_truth_poly), label=\"Modèle appris\", linewidth=2)\n",
    "\n",
    "# Afficher les données simulées\n",
    "plt.scatter(X_train, y_train, label=\"Données simulées (train)\", marker=\"o\")\n",
    "plt.scatter(X_test, y_test, label=\"Données simulées (test)\", marker=\"D\")\n",
    "\n",
    "# format plot\n",
    "plt.xlabel(\"X\")\n",
    "plt.ylabel(\"y\")\n",
    "plt.title(\"Régression polynomiale régularisée\")\n",
    "plt.legend(loc=\"best\")\n",
    "plt.tight_layout()"
   ]
  },
  {
   "cell_type": "markdown",
   "id": "61d1a707-3edf-404c-a951-9eaf00e2cf8c",
   "metadata": {},
   "source": [
    "__Question :__ Que pouvez-vous conclure sur le choix de la régularisation Ridge ?"
   ]
  },
  {
   "cell_type": "markdown",
   "id": "61e38b32-7433-4a74-a16b-cc659b525c95",
   "metadata": {
    "tags": []
   },
   "source": [
    "#### Coefficients du modèle"
   ]
  },
  {
   "cell_type": "code",
   "execution_count": null,
   "id": "4b14dcf1-6847-4463-a3eb-16c061d4a1e3",
   "metadata": {},
   "outputs": [],
   "source": [
    "# Calculer le nombre de variables\n",
    "num_features = X_train_poly.shape[1]\n",
    "\n",
    "# Afficher pour chaque variable son coefficient dans le modèle\n",
    "plt.scatter(range(num_features), # en abcisse : indices des variables\n",
    "            ridge_poly.coef_ # en ordonnées : leur poids dans le modèle\n",
    "           )\n",
    "\n",
    "# Étiqueter les axes\n",
    "tmp = plt.xlabel('Variable', fontsize=14)\n",
    "tmp = plt.ylabel('Coefficient', fontsize=14)"
   ]
  },
  {
   "cell_type": "markdown",
   "id": "f2ceffeb-cf3c-4994-a802-a7ce5dab1d55",
   "metadata": {},
   "source": [
    "__Question :__ Que remarquez-vous maintenant ? Quel est l'effet de la régularisation sur les coefficients du modèle ?"
   ]
  },
  {
   "cell_type": "markdown",
   "id": "90fb92ff-7f08-45d7-bfcd-46a97cfe08f7",
   "metadata": {},
   "source": [
    "### Régression polynomiale régularisée lasso"
   ]
  },
  {
   "cell_type": "code",
   "execution_count": null,
   "id": "4a6f23b8-a979-4c2b-939e-367a59f7d806",
   "metadata": {},
   "outputs": [],
   "source": [
    "# Entrainement\n",
    "lasso_poly = linear_model.Lasso(alpha=0.01, random_state=13)\n",
    "lasso_poly.fit(X_train_poly, y_train)"
   ]
  },
  {
   "cell_type": "markdown",
   "id": "95c62924-0d2a-435b-9b42-486073b6acf3",
   "metadata": {
    "tags": []
   },
   "source": [
    "#### Performance"
   ]
  },
  {
   "cell_type": "code",
   "execution_count": null,
   "id": "829a8df7-9a1a-4bb0-8752-bc2f60591a32",
   "metadata": {},
   "outputs": [],
   "source": [
    "# RMSE \n",
    "print(\"RMSE d'une régression polynomiale régularisée :\")\n",
    "# Sur le jeu d'entrainement\n",
    "rmse_lasso_poly_train = metrics.mean_squared_error(y_train, lasso_poly.predict(X_train_poly), squared=False)\n",
    "print(\"\\r train: {0:0.2f}\".format(rmse_lasso_poly_train))\n",
    "# Sur le jeu de test\n",
    "rmse_lasso_poly_test = metrics.mean_squared_error(y_test, lasso_poly.predict(X_test_poly), squared=False)\n",
    "print(\"\\r test: {0:0.2f}\".format(rmse_lasso_poly_test))"
   ]
  },
  {
   "cell_type": "markdown",
   "id": "21dc3965-c3e2-414e-bccd-4856de4944d8",
   "metadata": {},
   "source": [
    "Nous allons maintenant afficher le modèle appris sur le graphe précédent."
   ]
  },
  {
   "cell_type": "code",
   "execution_count": null,
   "id": "2d24bdd9-7bdc-4cef-b324-295cdf811f93",
   "metadata": {},
   "outputs": [],
   "source": [
    "# Dessiner le vrai modèle\n",
    "plt.plot(X_ground_truth, y_ground_truth, label=\"Vrai modèle\", linewidth=2)\n",
    "\n",
    "# Afficher le modèle appris\n",
    "plt.plot(X_ground_truth, lasso_poly.predict(X_ground_truth_poly), label=\"Modèle appris\", linewidth=2)\n",
    "\n",
    "# Afficher les données simulées\n",
    "plt.scatter(X_train, y_train, label=\"Données simulées (train)\", marker=\"o\")\n",
    "plt.scatter(X_test, y_test, label=\"Données simulées (test)\", marker=\"D\")\n",
    "\n",
    "# format plot\n",
    "plt.xlabel(\"X\")\n",
    "plt.ylabel(\"y\")\n",
    "plt.title(\"Régression polynomiale régularisée l1\")\n",
    "plt.legend(loc=\"best\")\n",
    "plt.tight_layout()"
   ]
  },
  {
   "cell_type": "markdown",
   "id": "54c3aa76-cc69-44de-9125-c1e6556309a6",
   "metadata": {
    "tags": []
   },
   "source": [
    "#### Coefficients du modèle"
   ]
  },
  {
   "cell_type": "code",
   "execution_count": null,
   "id": "14cc1dea-1c18-4396-b7f1-a1329d3f479b",
   "metadata": {},
   "outputs": [],
   "source": [
    "# Calculer le nombre de variables\n",
    "num_features = X_train_poly.shape[1]\n",
    "\n",
    "# Afficher pour chaque variable son coefficient dans le modèle\n",
    "plt.scatter(range(num_features), # en abcisse : indices des variables\n",
    "            lasso_poly.coef_ # en ordonnées : leur poids dans le modèle\n",
    "           )\n",
    "\n",
    "# Étiqueter les axes\n",
    "tmp = plt.xlabel('Variable', fontsize=14)\n",
    "tmp = plt.ylabel('Coefficient', fontsize=14)"
   ]
  }
 ],
 "metadata": {
  "kernelspec": {
   "display_name": "Python 3 (ipykernel)",
   "language": "python",
   "name": "python3"
  },
  "language_info": {
   "codemirror_mode": {
    "name": "ipython",
    "version": 3
   },
   "file_extension": ".py",
   "mimetype": "text/x-python",
   "name": "python",
   "nbconvert_exporter": "python",
   "pygments_lexer": "ipython3",
   "version": "3.9.9"
  }
 },
 "nbformat": 4,
 "nbformat_minor": 5
}
