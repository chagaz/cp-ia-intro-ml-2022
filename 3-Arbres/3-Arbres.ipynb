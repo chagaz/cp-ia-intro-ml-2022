{
 "cells": [
  {
   "cell_type": "markdown",
   "id": "fbace931-20b7-4763-93e4-5467ec3aded1",
   "metadata": {},
   "source": [
    "# Notebook 3 : Arbres et méthodes ensemblistes"
   ]
  },
  {
   "cell_type": "markdown",
   "id": "d0d477a2-f382-47c2-ac6d-ee069ac3a4c7",
   "metadata": {},
   "source": [
    "Notebook préparé par [Chloé-Agathe Azencott](http://cazencott.info).\n",
    "\n",
    "Dans ce notebook il s'agit de découvrir les arbres de décision et les méthodes ensemblistes (forêts aléatoires, boosting de gradient)."
   ]
  },
  {
   "cell_type": "code",
   "execution_count": null,
   "id": "5ab42ffe-6c29-443e-8591-c6850b7f1392",
   "metadata": {},
   "outputs": [],
   "source": [
    "# charger numpy as np, matplotlib as plt\n",
    "%pylab inline "
   ]
  },
  {
   "cell_type": "code",
   "execution_count": null,
   "id": "4bd701fa-32c7-4dca-bc5d-90f615040b44",
   "metadata": {},
   "outputs": [],
   "source": [
    "plt.rc('font', **{'size': 12}) # règle la taille de police globalement pour les plots (en pt)"
   ]
  },
  {
   "cell_type": "code",
   "execution_count": null,
   "id": "05c2e2dc-510e-4ee4-bcbc-29db65127f29",
   "metadata": {},
   "outputs": [],
   "source": [
    "import pandas as pd"
   ]
  },
  {
   "cell_type": "markdown",
   "id": "52baf876-6441-4aef-9ce5-6e170fcd2184",
   "metadata": {
    "tags": []
   },
   "source": [
    "## 1. Chargement des données"
   ]
  },
  {
   "cell_type": "markdown",
   "id": "78c88a97-0655-4e64-8c33-36eada719f80",
   "metadata": {},
   "source": [
    "Le but de ce notebook est d'utiliser la description visuelle d'un champignon pour prédire s'il est comestible ou non. \n",
    "\n",
    "Les données sont disponibles dans `data/mushrooms.csv`. Elles sont issues du jeu de données https://archive.ics.uci.edu/ml/datasets/Mushroom mais légèrement modifiées.\n",
    "\n",
    "Il contient une première ligne (header) décrivant les colonnes, puis une ligne par champignon. Les valeurs des différentes variables sont toutes représentées par des lettres ; en voici la signification :\n",
    "1. cap-shape: bell=b,conical=c,convex=x,flat=f, knobbed=k,sunken=s\n",
    "2. cap-surface: fibrous=f,grooves=g,scaly=y,smooth=s\n",
    "3. cap-color: brown=n,buff=b,cinnamon=c,gray=g,green=r, pink=p,purple=u,red=e,white=w,yellow=y\n",
    "4. bruises: bruises=t,no=f\n",
    "5. odor: almond=a,anise=l,creosote=c,fishy=y,foul=f, musty=m,none=n,pungent=p,spicy=s\n",
    "6. gill-attachment: attached=a,descending=d,free=f,notched=n\n",
    "7. gill-spacing: close=c,crowded=w,distant=d\n",
    "8. gill-size: broad=b,narrow=n\n",
    "9. gill-color: black=k,brown=n,buff=b,chocolate=h,gray=g, green=r,orange=o,pink=p,purple=u,red=e, white=w,yellow=y\n",
    "10. stalk-shape: enlarging=e,tapering=t\n",
    "11. stalk-root: bulbous=b,club=c,cup=u,equal=e, rhizomorphs=z,rooted=r,missing=?\n",
    "12. stalk-surface-above-ring: fibrous=f,scaly=y,silky=k,smooth=s\n",
    "13. stalk-surface-below-ring: fibrous=f,scaly=y,silky=k,smooth=s\n",
    "14. stalk-color-above-ring: brown=n,buff=b,cinnamon=c,gray=g,orange=o, pink=p,red=e,white=w,yellow=y\n",
    "15. stalk-color-below-ring: brown=n,buff=b,cinnamon=c,gray=g,orange=o, pink=p,red=e,white=w,yellow=y\n",
    "16. veil-type: partial=p,universal=u\n",
    "17. veil-color: brown=n,orange=o,white=w,yellow=y\n",
    "18. ring-number: none=n,one=o,two=t\n",
    "19. ring-type: cobwebby=c,evanescent=e,flaring=f,large=l, none=n,pendant=p,sheathing=s,zone=z\n",
    "20. spore-print-color: black=k,brown=n,buff=b,chocolate=h,green=r, orange=o,purple=u,white=w,yellow=y\n",
    "21. population: abundant=a,clustered=c,numerous=n, scattered=s,several=v,solitary=y\n",
    "22. habitat: grasses=g,leaves=l,meadows=m,paths=p, urban=u,waste=w,woods=d\n",
    "\n",
    "La première colomne nous informe de la classe de chaque champignon, 'e' pour comestible (edible) et 'p' pour vénéneux (poisonous)."
   ]
  },
  {
   "cell_type": "code",
   "execution_count": null,
   "id": "04fb7ab0-2c09-4057-afe1-89667e0e7459",
   "metadata": {},
   "outputs": [],
   "source": [
    "df = pd.read_csv('data/mushrooms.csv')"
   ]
  },
  {
   "cell_type": "markdown",
   "id": "a5d0908e-3bd9-4642-b95f-693ff441ad6b",
   "metadata": {},
   "source": [
    "__Alternativement :__ Si vous avez besoin de télécharger le fichier (par exemple sur colab) :"
   ]
  },
  {
   "cell_type": "code",
   "execution_count": null,
   "id": "7fc19fc9-619d-499e-b1f2-a679b51b25ff",
   "metadata": {},
   "outputs": [],
   "source": [
    "!wget https://raw.githubusercontent.com/chagaz/cp-ia-intro-ml-2022/main/3-Arbres/data/mushrooms.csv\n",
    "\n",
    "df = pd.read_csv(\"mushrooms.csv\")"
   ]
  },
  {
   "cell_type": "code",
   "execution_count": null,
   "id": "7f09b2f2-1b98-479d-9157-7240bddd8b5e",
   "metadata": {},
   "outputs": [],
   "source": [
    "df.head()"
   ]
  },
  {
   "cell_type": "markdown",
   "id": "50590fc5-9030-43fa-ac38-c75e6c18d83c",
   "metadata": {},
   "source": [
    "### Conversion des variables en valeurs numériques"
   ]
  },
  {
   "cell_type": "markdown",
   "id": "b02f2cf7-482e-4caa-be46-526f175e0bb5",
   "metadata": {},
   "source": [
    "Nos variables sont pour l'instant _catégorielles._ \n",
    "\n",
    "Par exemple, pour la variable \"forme du chapeau\" (`cap shape`), `b` correspond à un chapeau campanulé (bell cap), `c` à un chapeau conique (conical cap), `f` à un chapeau plat (flat cap), `k` à un chapeau papillé (knobbed cap), `s` à un chapeau déprimé (sunken cap), and `x` à un chapeau convexe. \n",
    "\n",
    "Pour travailler avec ces données, il nous faut convertir ces catégories en valeurs numériques. \n",
    "\n",
    "Une possibilité est de convertir chaque lettre en un nombre entre 0 et le nombre total de catégorie, grâce à [preprocessing.LabelEncoder](http://scikit-learn.org/stable/modules/generated/sklearn.preprocessing.LabelEncoder.html).\n",
    "\n",
    "Cet encodage n'est pas nécessairement idéal : un algorithme qui utilise la distance euclidienne va considérer qu'un chapeau convexe (`x` converti en 5) est plus proche d'un chapeau déprimé (`s` converti en 4) que d'un chapeau conique (`c` converti en 1), ce qui n'a pas beaucoup de sens. Cela ne pose cependant pas de problème pour les algorithmes basés sur les arbres de décision, qui traitent les catégories comme telles et non pas comme des valeurs numériques. La conversion est uniquement nécessaire pour des raisons d'implémentation.\n",
    "\n",
    "L'encodage [one-hot](http://scikit-learn.org/stable/modules/preprocessing.html#preprocessing-categorical-features) est généralement un meilleur choix. Remarquez néanmoins qu'il a l'inconvénient d'augmenter le nombre de variables, et de créer des variables corrélées. "
   ]
  },
  {
   "cell_type": "code",
   "execution_count": null,
   "id": "54442e0b-ea14-48b2-820d-56c3ca4ef8c8",
   "metadata": {},
   "outputs": [],
   "source": [
    "from sklearn import preprocessing"
   ]
  },
  {
   "cell_type": "code",
   "execution_count": null,
   "id": "717dae91-24f4-4145-964e-7eb03e10ae66",
   "metadata": {},
   "outputs": [],
   "source": [
    "label_encoder = preprocessing.LabelEncoder()\n",
    "\n",
    "for col in df.columns:\n",
    "    df[col] = label_encoder.fit_transform(df[col])"
   ]
  },
  {
   "cell_type": "markdown",
   "id": "fdffacde-cfd2-469a-ab40-ce35c013cccd",
   "metadata": {},
   "source": [
    "Nous pouvons de nouveau observer nos données :"
   ]
  },
  {
   "cell_type": "code",
   "execution_count": null,
   "id": "ca0cb3ae-931a-4558-b8d2-6c8b1afaa566",
   "metadata": {},
   "outputs": [],
   "source": [
    "df.head()"
   ]
  },
  {
   "cell_type": "markdown",
   "id": "b9b6ef3a-bf56-47ff-86af-d7dcbf89b164",
   "metadata": {
    "tags": []
   },
   "source": [
    "### Création des matrices X et y de données"
   ]
  },
  {
   "cell_type": "code",
   "execution_count": null,
   "id": "10d057af-0e1e-49ec-88c3-6ec5b60c99f0",
   "metadata": {},
   "outputs": [],
   "source": [
    "X = np.array(df.drop(columns=['class']))"
   ]
  },
  {
   "cell_type": "code",
   "execution_count": null,
   "id": "e61e2919-77bc-42fc-8d68-d8bc48490ba4",
   "metadata": {},
   "outputs": [],
   "source": [
    "y = np.array(df['class'])"
   ]
  },
  {
   "cell_type": "code",
   "execution_count": null,
   "id": "eeb007d1-5578-4b61-8af6-223547737302",
   "metadata": {},
   "outputs": [],
   "source": [
    "print(X.shape, y.shape)"
   ]
  },
  {
   "cell_type": "markdown",
   "id": "082dd58f-b8de-413b-8d00-eee85db996d1",
   "metadata": {},
   "source": [
    "__Question :__ Combien d'échantillons (examples) notre jeu de données contient-il ? Combien de variables ?"
   ]
  },
  {
   "cell_type": "markdown",
   "id": "82cd109c-e252-4478-b27d-c0dd22d4ec95",
   "metadata": {},
   "source": [
    "## 2. Cadre de sélection et évaluation"
   ]
  },
  {
   "cell_type": "markdown",
   "id": "0908679c-6413-46c1-8865-1eb4cce4cd94",
   "metadata": {},
   "source": [
    "Nous pouvons maintenant séparer nos données en un jeu d'entrainement et un jeu de test, puis fixer une séparation du jeu d'entrainement en 10 folds pour pouvoir faire des validations croisées dessus."
   ]
  },
  {
   "cell_type": "code",
   "execution_count": null,
   "id": "ee9b8741-8167-4273-9960-cf2df883fc8c",
   "metadata": {},
   "outputs": [],
   "source": [
    "from sklearn import model_selection"
   ]
  },
  {
   "cell_type": "markdown",
   "id": "f6b194ae-b9e9-45c1-9535-c491f76aa4c5",
   "metadata": {},
   "source": [
    "### Jeu d'entrainement et de test"
   ]
  },
  {
   "cell_type": "code",
   "execution_count": null,
   "id": "a224d80b-ccd4-46f6-a78c-9af39676f832",
   "metadata": {},
   "outputs": [],
   "source": [
    "X_train, X_test, y_train, y_test = \\\n",
    "    model_selection.train_test_split(X, y,\n",
    "                                    test_size=0.3, # 30% des données dans le jeu de test\n",
    "                                    random_state=42 # graine du générateur aléatoire\n",
    "                                    )"
   ]
  },
  {
   "cell_type": "markdown",
   "id": "ac9a799a-1f4b-4a3a-b192-4d2f148c390b",
   "metadata": {},
   "source": [
    "### Validation croisée"
   ]
  },
  {
   "cell_type": "code",
   "execution_count": null,
   "id": "853ce4d6-9e80-4843-82aa-b40d8d0a14ff",
   "metadata": {},
   "outputs": [],
   "source": [
    "n_folds = 10\n",
    "\n",
    "# Créer un objet KFold qui permettra de cross-valider en n_folds folds\n",
    "kf = model_selection.KFold(n_splits=n_folds,  \n",
    "                           shuffle=True # mélanger les échantillons avant de créer les folds\n",
    "                          )\n",
    "\n",
    "# Utiliser kf pour partager le jeu d'entraînement en n_folds folds. \n",
    "# kf.split retourne un iterateur (consommé après une boucle).\n",
    "# Pour pouvoir se servir plusieurs fois des mêmes folds, nous transformons cet itérateur en liste d'indices :\n",
    "kf_indices = list(kf.split(X_train))"
   ]
  },
  {
   "cell_type": "markdown",
   "id": "e7b3799f-e8f5-460b-95cd-9372e9995a7d",
   "metadata": {},
   "source": [
    "## 3. Arbre de décision"
   ]
  },
  {
   "cell_type": "markdown",
   "id": "e1c3daf3-89b3-4092-b8d0-6d65c5364f94",
   "metadata": {},
   "source": [
    "Nous allons maintenant utiliser un arbre de décision pour apprendre un classifieur sur nos données.\n",
    "\n",
    "Les arbres de décision sont implémentés dans la classe [DecisionTreeClassifier](http://scikit-learn.org/stable/modules/generated/sklearn.tree.DecisionTreeClassifier.html) du module `tree` de scikit-learn."
   ]
  },
  {
   "cell_type": "code",
   "execution_count": null,
   "id": "b21e884e-48a7-48f2-bcfb-bec6e5b5418f",
   "metadata": {},
   "outputs": [],
   "source": [
    "from sklearn import tree"
   ]
  },
  {
   "cell_type": "markdown",
   "id": "d3ce1561-f80d-4bbd-81b2-ebefb30de797",
   "metadata": {},
   "source": [
    "### Arbre de décision avec les hyperparamètres par défaut"
   ]
  },
  {
   "cell_type": "markdown",
   "id": "9623038d-b9c6-45a0-b99a-6d02d6681073",
   "metadata": {},
   "source": [
    "Déterminons le score F1 en validation croisée d'un arbre de décision dont les hyperparamètres prennent les valeurs par défaut dans scikit-learn :"
   ]
  },
  {
   "cell_type": "code",
   "execution_count": null,
   "id": "7095d85c-c9a1-4a2d-ba9c-c9abaadf486e",
   "metadata": {},
   "outputs": [],
   "source": [
    "model_tree_default = tree.DecisionTreeClassifier()"
   ]
  },
  {
   "cell_type": "code",
   "execution_count": null,
   "id": "a7ae93d4-527e-419d-b53e-9473909fdb22",
   "metadata": {},
   "outputs": [],
   "source": [
    "f1_tree_default = model_selection.cross_val_score(model_tree_default, # prédicteur à évaluer\n",
    "                                                  X_train, y_train, # données d'entrainement\n",
    "                                                  cv=kf_indices, # validation croisée à utiliser\n",
    "                                                  scoring='f1' # métrique d'évaluation de la performance\n",
    "                                                  )"
   ]
  },
  {
   "cell_type": "code",
   "execution_count": null,
   "id": "812d1353-17aa-4169-beec-285585715c33",
   "metadata": {
    "tags": []
   },
   "outputs": [],
   "source": [
    "print(\"F1 d'un abre de décision (défaut) en validation croisée : %.3f +/- %.3f\" % (np.mean(f1_tree_default), np.std(f1_tree_default)))"
   ]
  },
  {
   "cell_type": "markdown",
   "id": "c597c08b-05c2-4b67-a089-630bdb2dd331",
   "metadata": {},
   "source": [
    "__Question :__ Que pensez-vous de cette performance ?"
   ]
  },
  {
   "cell_type": "markdown",
   "id": "73613152-744d-4275-a143-5993046292e7",
   "metadata": {},
   "source": [
    "### Validation croisée de la profondeur de l'arbre de décision\n",
    "\n",
    "Par défaut (voir la doc), nous avons utilisé un arbre de décision dont la profondeur est maximale. Nous allons maintenant considérer la profondeur de l'arbre (`max_depth`) comme un hyperparamètre à optimiser par une recherche en grille. Nous reprenons et adaptons le code utilisé pour les kNN dans le Notebook 3."
   ]
  },
  {
   "cell_type": "markdown",
   "id": "a5dc27dd-7611-4b64-9424-d14e42f3a96a",
   "metadata": {
    "tags": []
   },
   "source": [
    "Commençons par définir la grille :"
   ]
  },
  {
   "cell_type": "code",
   "execution_count": null,
   "id": "58f9fc0d-b36a-4656-b734-f3a367e96b54",
   "metadata": {},
   "outputs": [],
   "source": [
    "d_values = np.arange(2, 31)"
   ]
  },
  {
   "cell_type": "markdown",
   "id": "8695da8d-a96f-412b-a4da-033d0377f16f",
   "metadata": {},
   "source": [
    "Nous pouvons maintenant utiliser [GridSearchCV](https://scikit-learn.org/stable/modules/generated/sklearn.model_selection.GridSearchCV.html)  :"
   ]
  },
  {
   "cell_type": "code",
   "execution_count": null,
   "id": "289d3777-4c2b-4da7-976d-7bbeb36ba2f7",
   "metadata": {},
   "outputs": [],
   "source": [
    "# Instanciation d'un objet GridSearchCV\n",
    "grid_tree = model_selection.GridSearchCV(tree.DecisionTreeClassifier(), # prédicteur à évaluer\n",
    "                                         {'max_depth': d_values}, # dictionnaire de valeurs d'hyperparamètres\n",
    "                                         cv=kf_indices, # validation croisée à utiliser\n",
    "                                         scoring='f1' # métrique d'évaluation de la performance\n",
    "                                         )"
   ]
  },
  {
   "cell_type": "code",
   "execution_count": null,
   "id": "d386528b-522a-44be-bf9f-82b146509a42",
   "metadata": {},
   "outputs": [],
   "source": [
    "%%time\n",
    "\n",
    "# Utilisation de cet objet sur les données d'entraînement\n",
    "grid_tree.fit(X_train, y_train)"
   ]
  },
  {
   "cell_type": "markdown",
   "id": "9040d3a7-ed73-4ccd-96d9-60c94460f446",
   "metadata": {},
   "source": [
    "La valeur optimale de l'hyperparamètre est donnée par :"
   ]
  },
  {
   "cell_type": "code",
   "execution_count": null,
   "id": "5b79f552-d52c-471c-a129-1010cb08e1e1",
   "metadata": {},
   "outputs": [],
   "source": [
    "print(grid_tree.best_params_)"
   ]
  },
  {
   "cell_type": "markdown",
   "id": "5ccc609a-0959-4731-a541-fbbd11425e79",
   "metadata": {},
   "source": [
    "Le code suivant permet d'afficher la performance du modèle selon la valeur de l'hyperparamètre :"
   ]
  },
  {
   "cell_type": "code",
   "execution_count": null,
   "id": "05c74c2d-0a6f-43c2-8875-75b4dd5237ee",
   "metadata": {},
   "outputs": [],
   "source": [
    "mean_test_score = grid_tree.cv_results_['mean_test_score']\n",
    "stde_test_score = grid_tree.cv_results_['std_test_score'] / np.sqrt(n_folds) # standard error\n",
    "\n",
    "plt.plot(d_values, mean_test_score)\n",
    "plt.plot(d_values, (mean_test_score + stde_test_score), '--', color='steelblue')\n",
    "plt.plot(d_values, (mean_test_score - stde_test_score), '--', color='steelblue')\n",
    "plt.fill_between(d_values, (mean_test_score + stde_test_score), \n",
    "                 (mean_test_score - stde_test_score), alpha=0.2)\n",
    "\n",
    "best_index = np.where(d_values == grid_tree.best_params_['max_depth'])[0][0]\n",
    "plt.scatter(d_values[best_index], mean_test_score[best_index])\n",
    "\n",
    "\n",
    "plt.xlabel('profondeur maximale')\n",
    "plt.ylabel('F1')\n",
    "plt.title(\"Performance (en validation croisée) le long de la grille\")"
   ]
  },
  {
   "cell_type": "markdown",
   "id": "72fa4d65-fe59-41b8-b847-8bd788a61e46",
   "metadata": {},
   "source": [
    "__Question :__ Que pensez-vous de cette performance ?"
   ]
  },
  {
   "cell_type": "markdown",
   "id": "984f2d1e-0dca-44bd-86be-9b6cd5f55ac5",
   "metadata": {},
   "source": [
    "### Arbre de décision optimal"
   ]
  },
  {
   "cell_type": "code",
   "execution_count": null,
   "id": "598fc3f9-5592-4843-8ea7-5e93f803d546",
   "metadata": {},
   "outputs": [],
   "source": [
    "print(\"Meilleur F1 en validation croisée : %.3f\" % grid_tree.best_score_)"
   ]
  },
  {
   "cell_type": "markdown",
   "id": "cc59b87c-66dc-45e5-ac86-3a207d1b8c25",
   "metadata": {},
   "source": [
    "On peut maintenant récupérer l'arbre de décision optimal :"
   ]
  },
  {
   "cell_type": "code",
   "execution_count": null,
   "id": "c78e5463-3ecd-468f-9ab6-26421c659eab",
   "metadata": {
    "tags": []
   },
   "outputs": [],
   "source": [
    "model_tree_best = grid_tree.best_estimator_"
   ]
  },
  {
   "cell_type": "markdown",
   "id": "603bd0dc-b3ca-42cb-9cd5-5946a3c7abe7",
   "metadata": {},
   "source": [
    "## 4. Interprétation de l'arbre de décision "
   ]
  },
  {
   "cell_type": "markdown",
   "id": "498f5b62-dc06-4fe6-8c88-43ae4d065587",
   "metadata": {
    "tags": []
   },
   "source": [
    "### Visualisation"
   ]
  },
  {
   "cell_type": "markdown",
   "id": "032c7225-8691-41aa-9d27-7a36628f4bd4",
   "metadata": {},
   "source": [
    "La méthode [plot_tree](https://scikit-learn.org/stable/modules/generated/sklearn.tree.plot_tree.html) du module `tree` de scikit-learn nous permet de visualiser l'arbre de décision optimal :"
   ]
  },
  {
   "cell_type": "code",
   "execution_count": null,
   "id": "74f40060-a73e-4082-b4c3-4b3e2183904e",
   "metadata": {},
   "outputs": [],
   "source": [
    "fig = plt.figure(figsize=(25, 20))\n",
    "tree.plot_tree(model_tree_best, fontsize=12)\n",
    "plt.show()"
   ]
  },
  {
   "cell_type": "markdown",
   "id": "644ff380-c8ae-4620-a8a1-acd91cefc78d",
   "metadata": {},
   "source": [
    "__Question :__ Le modèle appris vous parait-il interprétable ?"
   ]
  },
  {
   "cell_type": "markdown",
   "id": "5087c564-0711-4d48-8271-fbb4c5f3eecb",
   "metadata": {},
   "source": [
    "### Importance des variables\n",
    "\n",
    "Pour interpréter l'arbre de décision, nous pouvons aussi regarder l'importance de chaque variable. Elle est d'autant plus grande que la variable permet de réduire l'erreur de classification de l'arbre."
   ]
  },
  {
   "cell_type": "code",
   "execution_count": null,
   "id": "ea8c912e-db0a-4c3a-bfe7-8f6a101654f6",
   "metadata": {},
   "outputs": [],
   "source": [
    "fig = plt.figure(figsize(12, 6))\n",
    "\n",
    "num_features = X_train.shape[1]\n",
    "\n",
    "# Afficher les importances de l'arbre de décision\n",
    "plt.scatter(range(num_features), model_tree_best.feature_importances_,\n",
    "           label=\"Arbre de decision\")\n",
    "\n",
    "# Légende\n",
    "tmp = plt.legend(fontsize=14)\n",
    "\n",
    "# Axe des abcisses\n",
    "plt.xlabel('Variables', fontsize=14)\n",
    "feature_names = list(df.columns[1:])\n",
    "tmp = plt.xticks(range(num_features), feature_names, \n",
    "                 rotation=90, fontsize=14)\n",
    "\n",
    "# Axe des ordonnées\n",
    "tmp = plt.ylabel('Importance', fontsize=14)\n",
    "\n",
    "# Titre\n",
    "tmp = plt.title('Importance des variables', fontsize=16)"
   ]
  },
  {
   "cell_type": "markdown",
   "id": "1121068b-de79-4991-ac53-d6f87c45b8a1",
   "metadata": {},
   "source": [
    "### Comparaison à une régression logistique"
   ]
  },
  {
   "cell_type": "markdown",
   "id": "d948aa06-edac-4dd2-9be7-4e5174ae0001",
   "metadata": {},
   "source": [
    "Nous pouvons aussi comparer ces importances aux coefficients de régression d'une régression logistique :"
   ]
  },
  {
   "cell_type": "code",
   "execution_count": null,
   "id": "d03e56fe-f496-4052-80e0-240da2d919cb",
   "metadata": {},
   "outputs": [],
   "source": [
    "from sklearn import linear_model"
   ]
  },
  {
   "cell_type": "code",
   "execution_count": null,
   "id": "802d2859-7e92-48ab-b0d8-95fbb5c51643",
   "metadata": {},
   "outputs": [],
   "source": [
    "c_values = np.logspace(-3, 3, 50)\n",
    "\n",
    "# Centrer-réduire les données\n",
    "std_scaler = preprocessing.StandardScaler().fit(X_train)\n",
    "X_train_scaled = std_scaler.transform(X_train)\n",
    "X_test_scaled = std_scaler.transform(X_test)\n",
    "\n",
    "# Instanciation d'un objet GridSearchCV\n",
    "grid_logreg = model_selection.GridSearchCV(linear_model.LogisticRegression(penalty='l2'), # prédicteur à évaluer\n",
    "                                          {'C': c_values}, # dictionnaire de valeurs d'hyperparamètres\n",
    "                                          cv=kf_indices, # validation croisée à utiliser\n",
    "                                          scoring='f1' # métrique d'évaluation de la performance\n",
    "                                          )\n",
    "\n",
    "grid_logreg.fit(X_train_scaled, y_train)"
   ]
  },
  {
   "cell_type": "code",
   "execution_count": null,
   "id": "a193eeeb-f313-45c9-8603-ec5318dc9738",
   "metadata": {},
   "outputs": [],
   "source": [
    "print(\"Meilleur F1 en validation croisée : %.3f\" % grid_logreg.best_score_)"
   ]
  },
  {
   "cell_type": "markdown",
   "id": "5f0d4651-3ebd-479a-93de-5129e70e450d",
   "metadata": {},
   "source": [
    "__Question :__ Comparez cette performance à celle de l'arbre de décision."
   ]
  },
  {
   "cell_type": "code",
   "execution_count": null,
   "id": "2c763a1a-83ff-4fa6-9f09-a46610ac6690",
   "metadata": {},
   "outputs": [],
   "source": [
    "fig = plt.figure(figsize(12, 6))\n",
    "\n",
    "num_features = X_train.shape[1]\n",
    "\n",
    "# Ramener les importances entre 0 et 1\n",
    "tree_importances = model_tree_best.feature_importances_\n",
    "tree_importances_min = np.min(tree_importances)\n",
    "tree_importances_max = np.max(tree_importances)\n",
    "tree_importances = (tree_importances-tree_importances_min)/(tree_importances_max-tree_importances_min)\n",
    "\n",
    "# Afficher les importances de l'arbre de décision\n",
    "plt.bar(range(num_features), tree_importances,\n",
    "           label=\"Arbre de decision\", width=0.4)\n",
    "\n",
    "# Ramener les valeurs absolues des coefficients du modèle linéaire entre 0 et 1 \n",
    "logreg_coeffs = np.abs(grid_logreg.best_estimator_.coef_[0])\n",
    "logreg_coeffs_min = np.min(logreg_coeffs)\n",
    "logreg_coeffs_max = np.max(logreg_coeffs)\n",
    "logreg_coeffs = (logreg_coeffs-logreg_coeffs_min)/(logreg_coeffs_max-logreg_coeffs_min)\n",
    "\n",
    "# Afficher les importances de la regression logistique\n",
    "plt.bar((np.arange(num_features)+0.4), logreg_coeffs,\n",
    "           label=\"Régression logistique\", width=0.4)\n",
    "\n",
    "\n",
    "# Légende\n",
    "tmp = plt.legend(fontsize=14)\n",
    "\n",
    "# Axe des abcisses\n",
    "plt.xlabel('Variables', fontsize=14)\n",
    "feature_names = list(df.columns[1:])\n",
    "tmp = plt.xticks(range(num_features), feature_names, \n",
    "                 rotation=90, fontsize=14)\n",
    "\n",
    "# Axe des ordonnées\n",
    "tmp = plt.ylabel('Importance', fontsize=14)\n",
    "\n",
    "# Titre\n",
    "tmp = plt.title('Importance des variables', fontsize=16)"
   ]
  },
  {
   "cell_type": "markdown",
   "id": "7468c45d-698c-4a9f-a1c5-967914c498d3",
   "metadata": {},
   "source": [
    "__Question :__ Comment ces importances se comparent-elles ?"
   ]
  },
  {
   "cell_type": "markdown",
   "id": "fd6bb0f5-d707-416f-94e3-b09ee195cdfd",
   "metadata": {},
   "source": [
    "## 5. Forêt aléatoire\n",
    "\n",
    "Peut-on améliorer les performances de l'arbre de décision en utilisant une méthode ensembliste ? Nous allons utiliser ici une forêt aléatoire, implémentée dans la classe [RandomForestClassifier](http://scikit-learn.org/stable/modules/generated/sklearn.ensemble.RandomForestClassifier.html) du module `ensemble` de scikit-learn."
   ]
  },
  {
   "cell_type": "code",
   "execution_count": null,
   "id": "f1bdbd77-2507-42ee-a5e5-d7cc742c202f",
   "metadata": {},
   "outputs": [],
   "source": [
    "from sklearn import ensemble"
   ]
  },
  {
   "cell_type": "markdown",
   "id": "786f8648-b9e7-41eb-a70f-eb287285dd93",
   "metadata": {},
   "source": [
    "### Validation croisée du nombre d'arbres et de la profondeur maximale de chacun d'entre eux.\n",
    "\n",
    "Nous allons maintenant considérer deux hyperparamètres, la profondeur maximale de chaque arbre (`max_depth`), et le nombre d'arbres dans la forêt (`n_estimators`). "
   ]
  },
  {
   "cell_type": "markdown",
   "id": "1db56829-062e-4c41-b0c8-42954ce465d0",
   "metadata": {
    "tags": []
   },
   "source": [
    "Commençons par définir la grille :"
   ]
  },
  {
   "cell_type": "code",
   "execution_count": null,
   "id": "492cda47-1e0a-4ff7-a84d-7d6b71682c3a",
   "metadata": {},
   "outputs": [],
   "source": [
    "d_values = np.array([3, 4, 10])\n",
    "n_values = np.array([10, 20, 50, 100, 200])#, 100, 200, 500])"
   ]
  },
  {
   "cell_type": "markdown",
   "id": "eef3f7ea-d605-46c7-a590-c49b2d0fe0ef",
   "metadata": {},
   "source": [
    "Nous pouvons maintenant utiliser [GridSearchCV](https://scikit-learn.org/stable/modules/generated/sklearn.model_selection.GridSearchCV.html)  :"
   ]
  },
  {
   "cell_type": "code",
   "execution_count": null,
   "id": "7a68a657-b789-4b72-8c84-68826fbb730f",
   "metadata": {},
   "outputs": [],
   "source": [
    "# Instanciation d'un objet GridSearchCV\n",
    "grid_rf = model_selection.GridSearchCV(ensemble.RandomForestClassifier(), # prédicteur à évaluer\n",
    "                                       {'max_depth': d_values, 'n_estimators': n_values}, # dictionnaire de valeurs d'hyperparamètres\n",
    "                                       cv=kf_indices, # validation croisée à utiliser\n",
    "                                       scoring='f1' # métrique d'évaluation de la performance\n",
    "                                       )"
   ]
  },
  {
   "cell_type": "code",
   "execution_count": null,
   "id": "8f5fe6b2-9a77-4b39-914a-3db2b37da88c",
   "metadata": {},
   "outputs": [],
   "source": [
    "%%time\n",
    "\n",
    "# Utilisation de cet objet sur les données d'entraînement\n",
    "grid_rf.fit(X_train, y_train)"
   ]
  },
  {
   "cell_type": "markdown",
   "id": "9a3b6f4c-6e4c-4db6-affa-8a69bd40f906",
   "metadata": {},
   "source": [
    "La valeur optimale des hyperparamètres est donnée par :"
   ]
  },
  {
   "cell_type": "code",
   "execution_count": null,
   "id": "582eff8b-8d75-4342-bd5a-6b22c17f20cf",
   "metadata": {},
   "outputs": [],
   "source": [
    "print(grid_rf.best_params_)"
   ]
  },
  {
   "cell_type": "markdown",
   "id": "61341c2e-1f05-40f5-a45b-66531064374e",
   "metadata": {},
   "source": [
    "Et nous pouvons afficher la performance du modèle selon la valeur de chacun des deux hyperparamètres :"
   ]
  },
  {
   "cell_type": "code",
   "execution_count": null,
   "id": "63e5b894-7c9e-406e-aafd-1256279f7d0a",
   "metadata": {},
   "outputs": [],
   "source": [
    "# Réorganiser les scores en tableau 2D\n",
    "mean_test_score_array = np.reshape(grid_rf.cv_results_['mean_test_score'], (len(d_values), len(n_values)))\n",
    "std_test_score_array = np.reshape(grid_rf.cv_results_['std_test_score'], (len(d_values), len(n_values)))"
   ]
  },
  {
   "cell_type": "code",
   "execution_count": null,
   "id": "79b43305-cae0-42fd-b59e-219380a67f51",
   "metadata": {},
   "outputs": [],
   "source": [
    "for (idx, d) in enumerate(d_values):\n",
    "    mean_test_score = mean_test_score_array[idx, :]\n",
    "    stde_test_score = std_test_score_array[idx, :] / np.sqrt(n_folds) # standard error\n",
    "\n",
    "    p = plt.plot(n_values, mean_test_score, label=\"Profondeur max = %d\" % d)\n",
    "    plt.plot(n_values, (mean_test_score + stde_test_score), '--', color=p[0].get_color())\n",
    "    plt.plot(n_values, (mean_test_score - stde_test_score), '--', color=p[0].get_color())\n",
    "    plt.fill_between(n_values, (mean_test_score + stde_test_score), \n",
    "                     (mean_test_score - stde_test_score), alpha=0.2)\n",
    "    \n",
    "    # Afficher les meilleurs hyperparamètres\n",
    "    if d == grid_rf.best_params_['max_depth']:\n",
    "        best_ntree_index = np.where(n_values == grid_rf.best_params_['n_estimators'])[0][0]\n",
    "        plt.scatter(n_values[best_ntree_index], mean_test_score[best_ntree_index], \n",
    "                   marker='*', s=200, color='red')\n",
    "        \n",
    "plt.legend(loc=(1.1, 0))\n",
    "plt.xlabel(\"Nombre d'arbres\")\n",
    "plt.ylabel('F1')\n",
    "plt.title(\"Performance (en validation croisée) le long de la grille\")\n",
    "plt.xscale('log') # utiliser une échelle logarithmique en abcisse"
   ]
  },
  {
   "cell_type": "markdown",
   "id": "b8a2d4b0-725b-4f2f-a244-6f7ffaed901a",
   "metadata": {},
   "source": [
    "__Question :__ Comment la performance des forêts aléatoires se compare-t-elle aux performances précédentes ?"
   ]
  },
  {
   "cell_type": "markdown",
   "id": "62b46111-0f78-40f7-8b46-984c3313a8d0",
   "metadata": {},
   "source": [
    "### Forêt aléatoire optimale"
   ]
  },
  {
   "cell_type": "code",
   "execution_count": null,
   "id": "def2c181-00bd-445b-a194-1c2e6bed351c",
   "metadata": {},
   "outputs": [],
   "source": [
    "print(\"Meilleur F1 en validation croisée : %.3f\" % grid_rf.best_score_)"
   ]
  },
  {
   "cell_type": "markdown",
   "id": "5f92f8c8-dbce-42fd-b1f2-a355c87f2ae2",
   "metadata": {},
   "source": [
    "On peut maintenant récupérer l'arbre de décision optimal :"
   ]
  },
  {
   "cell_type": "code",
   "execution_count": null,
   "id": "67351b42-4142-422a-b382-0772971c03af",
   "metadata": {},
   "outputs": [],
   "source": [
    "model_rf_best = grid_rf.best_estimator_"
   ]
  },
  {
   "cell_type": "markdown",
   "id": "55189dd5-66e9-44b2-bdb2-edfdbf10c87e",
   "metadata": {},
   "source": [
    "### Importance des variables"
   ]
  },
  {
   "cell_type": "markdown",
   "id": "44a67c09-4758-463e-8935-cc0b7aa9e05d",
   "metadata": {},
   "source": [
    "Nous pouvons encore une fois regarder l'importance de chaque variable, pour le meilleur modèle de forêt aléatoire :"
   ]
  },
  {
   "cell_type": "code",
   "execution_count": null,
   "id": "2cde6ba2-7f56-4757-8159-5b3eb1bbec34",
   "metadata": {},
   "outputs": [],
   "source": [
    "fig = plt.figure(figsize(12, 6))\n",
    "\n",
    "num_features = X_train.shape[1]\n",
    "\n",
    "# Ramener les importances entre 0 et 1\n",
    "tree_importances = model_tree_best.feature_importances_\n",
    "tree_importances_min = np.min(tree_importances)\n",
    "tree_importances_max = np.max(tree_importances)\n",
    "tree_importances = (tree_importances-tree_importances_min)/(tree_importances_max-tree_importances_min)\n",
    "\n",
    "# Afficher les importances de l'arbre de décision\n",
    "plt.bar(range(num_features), tree_importances,\n",
    "           label=\"Arbre de décision\", width=0.3)\n",
    "\n",
    "# Ramener les valeurs absolues des coefficients du modèle linéaire entre 0 et 1 \n",
    "logreg_coeffs = np.abs(grid_logreg.best_estimator_.coef_[0])\n",
    "logreg_coeffs_min = np.min(logreg_coeffs)\n",
    "logreg_coeffs_max = np.max(logreg_coeffs)\n",
    "logreg_coeffs = (logreg_coeffs-logreg_coeffs_min)/(logreg_coeffs_max-logreg_coeffs_min)\n",
    "\n",
    "# Afficher les importances de la regression logistique\n",
    "plt.bar((np.arange(num_features)+0.3), logreg_coeffs,\n",
    "           label=\"Régression logistique\", width=0.3)\n",
    "\n",
    "# Ramener les importances entre 0 et 1\n",
    "rf_importances = model_rf_best.feature_importances_\n",
    "rf_importances_min = np.min(rf_importances)\n",
    "rf_importances_max = np.max(rf_importances)\n",
    "rf_importances = (rf_importances-rf_importances_min)/(rf_importances_max-rf_importances_min)\n",
    "\n",
    "# Afficher les importances de l'arbre de décision\n",
    "plt.bar((np.arange(num_features)+0.6),  rf_importances,\n",
    "           label=\"Forêt aléatoire\", width=0.3)\n",
    "\n",
    "\n",
    "# Légende\n",
    "tmp = plt.legend()\n",
    "\n",
    "# Axe des abcisses\n",
    "plt.xlabel('Variables')\n",
    "feature_names = list(df.columns[1:])\n",
    "tmp = plt.xticks(range(num_features), feature_names, \n",
    "                 rotation=90, fontsize=14)\n",
    "\n",
    "# Axe des ordonnées\n",
    "tmp = plt.ylabel('Importance')\n",
    "\n",
    "# Titre\n",
    "tmp = plt.title('Importance des variables')"
   ]
  },
  {
   "cell_type": "markdown",
   "id": "f4bceba7-9c34-4ebb-adb4-71ca0a651dd2",
   "metadata": {},
   "source": [
    "__Question :__ Quelles sont maintenant les variables les plus importantes ? Comment cela se compare-t-il aux modèles précédents ?"
   ]
  },
  {
   "cell_type": "markdown",
   "id": "fa126b30-d14f-4181-96a5-8238b669eea4",
   "metadata": {},
   "source": [
    "## 6. Boosting de gradient"
   ]
  },
  {
   "cell_type": "markdown",
   "id": "ff1c9cce-5ea7-4bd6-be00-0ef7f2e35c67",
   "metadata": {},
   "source": [
    "Le boosting de gradient est implémenté dans scikit-learn dans la classe [GradientBoostingClassifier](https://scikit-learn.org/stable/modules/generated/sklearn.ensemble.GradientBoostingClassifier.html?highlight=boosting#sklearn.ensemble.GradientBoostingClassifier) du module `ensemble`."
   ]
  },
  {
   "cell_type": "markdown",
   "id": "633d4c3d-4770-4cd8-9c9e-9b7628c400fb",
   "metadata": {},
   "source": [
    "### Validation croisée et sélection des hyperparamètres"
   ]
  },
  {
   "cell_type": "markdown",
   "id": "87b9e9c8-96a5-469b-b205-9f687d3fd318",
   "metadata": {},
   "source": [
    "Comme pour les forêts aléatoires, nous allons optimiser ici le nombre d'estimateurs et la profondeur des arbres."
   ]
  },
  {
   "cell_type": "code",
   "execution_count": null,
   "id": "35c298c9-287e-4d3c-bbde-35cca0375743",
   "metadata": {},
   "outputs": [],
   "source": [
    "n_values = np.array([10, 20, 50, 100, 200])"
   ]
  },
  {
   "cell_type": "code",
   "execution_count": null,
   "id": "8f4f2c6a-8ef4-4551-8c39-8e0ec2e9a04a",
   "metadata": {},
   "outputs": [],
   "source": [
    "d_values = np.array([3, 4, 7])"
   ]
  },
  {
   "cell_type": "markdown",
   "id": "033da3ac-2338-429b-ae69-331c52ed3be4",
   "metadata": {},
   "source": [
    "Nous pouvons maintenant utiliser [GridSearchCV](https://scikit-learn.org/stable/modules/generated/sklearn.model_selection.GridSearchCV.html)  :"
   ]
  },
  {
   "cell_type": "code",
   "execution_count": null,
   "id": "33648904-c453-4187-a1c2-b849e2e331ce",
   "metadata": {},
   "outputs": [],
   "source": [
    "# Instanciation d'un objet GridSearchCV\n",
    "grid_boost = model_selection.GridSearchCV(ensemble.GradientBoostingClassifier(), # prédicteur à évaluer\n",
    "                                       {'max_depth' : d_values, 'n_estimators': n_values}, # dictionnaire de valeurs d'hyperparamètres\n",
    "                                       cv=kf_indices, # validation croisée à utiliser\n",
    "                                       scoring='f1' # métrique d'évaluation de la performance\n",
    "                                       )"
   ]
  },
  {
   "cell_type": "code",
   "execution_count": null,
   "id": "8e8012db-692d-4bef-98c6-b2b5f42007a2",
   "metadata": {},
   "outputs": [],
   "source": [
    "%%time\n",
    "\n",
    "# Utilisation de cet objet sur les données d'entraînement\n",
    "grid_boost.fit(X_train, y_train)"
   ]
  },
  {
   "cell_type": "markdown",
   "id": "91801019-10fb-4a28-a017-185ecfa4f951",
   "metadata": {},
   "source": [
    "La valeur optimale des hyperparamètres est donnée par :"
   ]
  },
  {
   "cell_type": "code",
   "execution_count": null,
   "id": "9e5a5265-1f60-4251-b791-2cda8804e3ff",
   "metadata": {},
   "outputs": [],
   "source": [
    "print(grid_boost.best_params_)"
   ]
  },
  {
   "cell_type": "markdown",
   "id": "b3e0000b-1f11-4cfb-9cb8-7186cf1e3dff",
   "metadata": {},
   "source": [
    "Et nous pouvons afficher la performance du modèle selon la valeur de chacun des deux hyperparamètres :"
   ]
  },
  {
   "cell_type": "code",
   "execution_count": null,
   "id": "f9331abb-4995-4670-b23c-2509d1126ad4",
   "metadata": {},
   "outputs": [],
   "source": [
    "# Réorganiser les scores en tableau 2D\n",
    "mean_test_score_array = np.reshape(grid_boost.cv_results_['mean_test_score'], (len(d_values), len(n_values)))\n",
    "std_test_score_array = np.reshape(grid_boost.cv_results_['std_test_score'], (len(d_values), len(n_values)))"
   ]
  },
  {
   "cell_type": "code",
   "execution_count": null,
   "id": "74c25570-dbfd-4041-8b6e-ad6b6aa6786b",
   "metadata": {},
   "outputs": [],
   "source": [
    "for (idx, d) in enumerate(d_values):\n",
    "    mean_test_score = mean_test_score_array[idx, :]\n",
    "    stde_test_score = std_test_score_array[idx, :] / np.sqrt(n_folds) # standard error\n",
    "\n",
    "    p = plt.plot(n_values, mean_test_score, label=\"Profondeur max = %d\" % d)\n",
    "    plt.plot(n_values, (mean_test_score + stde_test_score), '--', color=p[0].get_color())\n",
    "    plt.plot(n_values, (mean_test_score - stde_test_score), '--', color=p[0].get_color())\n",
    "    plt.fill_between(n_values, (mean_test_score + stde_test_score), \n",
    "                     (mean_test_score - stde_test_score), alpha=0.2)\n",
    "    \n",
    "    # Afficher les meilleurs hyperparamètres\n",
    "    if d == grid_boost.best_params_['max_depth']:\n",
    "        best_ntree_index = np.where(n_values == grid_boost.best_params_['n_estimators'])[0][0]\n",
    "        plt.scatter(n_values[best_ntree_index], mean_test_score[best_ntree_index], \n",
    "                   marker='*', s=200, color='red')\n",
    "        \n",
    "plt.legend(loc=(1.1, 0))\n",
    "plt.xlabel(\"Nombre d'arbres\")\n",
    "plt.ylabel('F1')\n",
    "plt.title(\"Performance (en validation croisée) le long de la grille\")\n",
    "plt.xscale('log') # utiliser une échelle logarithmique en abcisse"
   ]
  },
  {
   "cell_type": "markdown",
   "id": "1ab85f68-0b78-4ab0-b049-9132ec9efb08",
   "metadata": {},
   "source": [
    "__Question :__ Comment la performance du boosting de gradient évolue-t-elle en fonction des valeurd d'hyperparamètre ? Comment se compare-t-elle aux performances précédentes ?"
   ]
  },
  {
   "cell_type": "markdown",
   "id": "66ed1da3-048c-4157-9e25-b0740d557b92",
   "metadata": {},
   "source": [
    "### Boosting optimal"
   ]
  },
  {
   "cell_type": "code",
   "execution_count": null,
   "id": "32ba784b-9f47-407e-a7fd-35a227a0d0f1",
   "metadata": {},
   "outputs": [],
   "source": [
    "print(\"Meilleur F1 en validation croisée : %.3f\" % grid_boost.best_score_)"
   ]
  },
  {
   "cell_type": "markdown",
   "id": "6df3093d-ca44-49c1-b4d4-4a53b0ab28a1",
   "metadata": {},
   "source": [
    "On peut maintenant récupérer l'arbre de décision optimal :"
   ]
  },
  {
   "cell_type": "code",
   "execution_count": null,
   "id": "066a2258-d834-4bc9-83ea-750c7a9e520c",
   "metadata": {},
   "outputs": [],
   "source": [
    "model_boost_best = grid_boost.best_estimator_"
   ]
  },
  {
   "cell_type": "markdown",
   "id": "fba6f456-7c49-4eea-a170-c6c11f3b67d7",
   "metadata": {},
   "source": [
    "### Importance des variables"
   ]
  },
  {
   "cell_type": "markdown",
   "id": "56f4a6c9-4805-412b-9fc6-bf55b212682f",
   "metadata": {},
   "source": [
    "Nous pouvons encore une fois regarder l'importance de chaque variable :"
   ]
  },
  {
   "cell_type": "code",
   "execution_count": null,
   "id": "bfd39fb2-5006-4ad9-95f4-060a248bad12",
   "metadata": {},
   "outputs": [],
   "source": [
    "fig = plt.figure(figsize(12, 6))\n",
    "\n",
    "num_features = X_train.shape[1]\n",
    "\n",
    "### Arbre de décision\n",
    "# Ramener les importances entre 0 et 1\n",
    "tree_importances = model_tree_best.feature_importances_\n",
    "tree_importances_min = np.min(tree_importances)\n",
    "tree_importances_max = np.max(tree_importances)\n",
    "tree_importances = (tree_importances-tree_importances_min)/(tree_importances_max-tree_importances_min)\n",
    "\n",
    "# Afficher les importances de l'arbre de décision\n",
    "plt.bar(range(num_features), tree_importances,\n",
    "           label=\"Arbre de décision\", width=0.2)\n",
    "\n",
    "### Régression logistique\n",
    "# Ramener les valeurs absolues des coefficients du modèle linéaire entre 0 et 1 \n",
    "logreg_coeffs = np.abs(grid_logreg.best_estimator_.coef_[0])\n",
    "logreg_coeffs_min = np.min(logreg_coeffs)\n",
    "logreg_coeffs_max = np.max(logreg_coeffs)\n",
    "logreg_coeffs = (logreg_coeffs-logreg_coeffs_min)/(logreg_coeffs_max-logreg_coeffs_min)\n",
    "\n",
    "# Afficher les importances de la regression logistique\n",
    "plt.bar((np.arange(num_features)+0.2), logreg_coeffs,\n",
    "           label=\"Régression logistique\", width=0.2)\n",
    "\n",
    "### Forêt aléatoire\n",
    "# Ramener les importances entre 0 et 1\n",
    "rf_importances = model_rf_best.feature_importances_\n",
    "rf_importances_min = np.min(rf_importances)\n",
    "rf_importances_max = np.max(rf_importances)\n",
    "rf_importances = (rf_importances-rf_importances_min)/(rf_importances_max-rf_importances_min)\n",
    "\n",
    "# Afficher les importances de la forêt\n",
    "plt.bar((np.arange(num_features)+0.4),  rf_importances,\n",
    "           label=\"Forêt aléatoire\", width=0.2)\n",
    "\n",
    "### Boosting\n",
    "# Ramener les importances entre 0 et 1\n",
    "boost_importances = model_boost_best.feature_importances_\n",
    "boost_importances_min = np.min(boost_importances)\n",
    "boost_importances_max = np.max(boost_importances)\n",
    "boost_importances = (boost_importances-boost_importances_min)/(boost_importances_max-boost_importances_min)\n",
    "\n",
    "# Afficher les importances du boosting\n",
    "plt.bar((np.arange(num_features)+0.6),  boost_importances,\n",
    "           label=\"Boosting\", width=0.2)\n",
    "\n",
    "# Légende\n",
    "tmp = plt.legend()\n",
    "\n",
    "# Axe des abcisses\n",
    "plt.xlabel('Variables')\n",
    "feature_names = list(df.columns[1:])\n",
    "tmp = plt.xticks(range(num_features), feature_names, \n",
    "                 rotation=90, fontsize=14)\n",
    "\n",
    "# Axe des ordonnées\n",
    "tmp = plt.ylabel('Importance')\n",
    "\n",
    "# Titre\n",
    "tmp = plt.title('Importance des variables')"
   ]
  },
  {
   "cell_type": "markdown",
   "id": "6f414492-6026-42ba-b69a-885587e57d58",
   "metadata": {},
   "source": [
    "__Question :__ Quelles sont maintenant les variables les plus importantes ? Comment cela se compare-t-il aux modèles précédents ?"
   ]
  },
  {
   "cell_type": "markdown",
   "id": "6e6ec8e1-7fd6-4fe3-9d90-f88fc38542c4",
   "metadata": {},
   "source": [
    "## 7. Modèle final"
   ]
  },
  {
   "cell_type": "markdown",
   "id": "888478f2-75ae-4ed4-9d6a-be10c2b140d9",
   "metadata": {},
   "source": [
    "__Question :__ Lequel de ces modèles choisissez vous comme le plus performant pour classifier les champignons du jeu de test ? "
   ]
  },
  {
   "cell_type": "markdown",
   "id": "fec5542b-24a2-4aa7-8f07-22e144cb872f",
   "metadata": {},
   "source": [
    "Vous allez maintenant évaluer le modèle que vous avez choisi sur le jeu de test :"
   ]
  },
  {
   "cell_type": "code",
   "execution_count": null,
   "id": "cd1d27ed-221a-4e59-a7f4-a87709af11a3",
   "metadata": {},
   "outputs": [],
   "source": [
    "my_model = model_rf_best # TODO : insérez ici le nom du modèle que vous avez choisi.\n",
    "\n",
    "# Prédire sur le jeu de test\n",
    "y_pred = my_model.predict(X_test)"
   ]
  },
  {
   "cell_type": "code",
   "execution_count": null,
   "id": "8c5efcf4-5997-48f4-b02e-6429fb14721c",
   "metadata": {},
   "outputs": [],
   "source": [
    "from sklearn import metrics"
   ]
  },
  {
   "cell_type": "code",
   "execution_count": null,
   "id": "1def4910-dee1-48bd-b189-52e55426ac5a",
   "metadata": {
    "tags": []
   },
   "outputs": [],
   "source": [
    "print(\"F1 du modèle choisir sur le jeu de test : %.3f\" % metrics.f1_score(y_test, y_pred))"
   ]
  },
  {
   "cell_type": "markdown",
   "id": "c5c8c5b3-ae08-47f1-a4b7-dc76abfd115d",
   "metadata": {},
   "source": [
    "__Question :__ Que pensez-vous de cette performance ? Y-a-t'il un risque de surapprentissage ?"
   ]
  },
  {
   "cell_type": "markdown",
   "id": "b0758319-465e-4835-a52f-3fe83e8a2b03",
   "metadata": {},
   "source": [
    "### Matrice de confusion"
   ]
  },
  {
   "cell_type": "markdown",
   "id": "d648a0e0-862b-4e1c-9fcf-998de760b42f",
   "metadata": {},
   "source": [
    "Pour mieux interpréter les résultats, on peut aussi visualiser la matrice de confusion :"
   ]
  },
  {
   "cell_type": "code",
   "execution_count": null,
   "id": "d5d91906-8025-454c-bd4c-afb2cfd78113",
   "metadata": {},
   "outputs": [],
   "source": [
    "metrics.ConfusionMatrixDisplay.from_predictions(y_test, y_pred)"
   ]
  },
  {
   "cell_type": "markdown",
   "id": "a031f9ef-1c92-4b25-b5fb-cca3c163cd6a",
   "metadata": {},
   "source": [
    "Alternativement :"
   ]
  },
  {
   "cell_type": "code",
   "execution_count": null,
   "id": "468e9630-a9fd-4553-ba72-48f24adc6161",
   "metadata": {},
   "outputs": [],
   "source": [
    "metrics.confusion_matrix(y_test, y_pred)"
   ]
  },
  {
   "cell_type": "markdown",
   "id": "a58590e5-9f0a-4a36-bcc8-57c4c9545b87",
   "metadata": {
    "tags": []
   },
   "source": [
    "__Question :__ Que pensez-vous de cette matrice de confusion ? Est-elle satisfaisante ? Rappelez-vous qu'on cherche à prédire si un champignon est comestible."
   ]
  },
  {
   "cell_type": "markdown",
   "id": "61f41c5e-2c2d-4460-8952-db344d653ee2",
   "metadata": {},
   "source": [
    "### Courbe ROC"
   ]
  },
  {
   "cell_type": "markdown",
   "id": "5cf896ca-2c95-45fd-9a6e-3844b86471f0",
   "metadata": {},
   "source": [
    "On peut aussi évaluer la performance du modèle __avant seuillage__, c'est-à-dire en utilisant les scores numériques prédits plutôt que les étiquettes binaires, grâce à une [Courbe ROC](https://scikit-learn.org/stable/modules/model_evaluation.html#roc-metrics)."
   ]
  },
  {
   "cell_type": "markdown",
   "id": "00a08c53-972b-4015-b058-de1fe6264022",
   "metadata": {},
   "source": [
    "Les scores avant seuillage d'un modèle de classification de scikit-learn sont accessibles grâce à la méthode `predict_proba`."
   ]
  },
  {
   "cell_type": "code",
   "execution_count": null,
   "id": "1005c277-34ba-4386-9674-f0742cd1b025",
   "metadata": {},
   "outputs": [],
   "source": [
    "y_pred_scores =  my_model.predict_proba(X_test)[:, 1]"
   ]
  },
  {
   "cell_type": "code",
   "execution_count": null,
   "id": "619a19d0-9b3e-4af8-bafd-0800aac7d069",
   "metadata": {},
   "outputs": [],
   "source": [
    "fpr, tpr, thresholds = metrics.roc_curve(y_test, y_pred_scores)\n",
    "roc_auc = metrics.auc(fpr, tpr)\n",
    "\n",
    "fig = plt.figure(figsize=(6, 6))\n",
    "\n",
    "plt.plot(fpr, tpr, lw=2)\n",
    "\n",
    "# diagonale\n",
    "plt.plot([0, 1], [0, 1], color='k')\n",
    "\n",
    "plt.xlim([0.0, 1.0])\n",
    "plt.ylim([0.0, 1.0])\n",
    "\n",
    "plt.xlabel('taux de faux positifs')\n",
    "plt.ylabel('taux de vrai positifs')\n",
    "plt.title(\"Courbe ROC du modèle final\")"
   ]
  },
  {
   "cell_type": "markdown",
   "id": "e892c176-f020-4da0-adf0-f6beefc88569",
   "metadata": {},
   "source": [
    "On peut aussi utiliser cette courbe pour déterminer le taux de vrai positifs correspondant à un taux de faux positifs donné, et déterminer le seuil correspondant :"
   ]
  },
  {
   "cell_type": "code",
   "execution_count": null,
   "id": "79c9a2c2-5e9c-4fe8-9b65-81d36f53ee68",
   "metadata": {},
   "outputs": [],
   "source": [
    "max_fpr = 0.01\n",
    "max_index_where_fpr_acceptable = np.where(fpr <= max_fpr)[0][-1]\n",
    "max_tpr = tpr[max_index_where_fpr_acceptable]\n",
    "print(\"Le taux de vrais positifs correspondant à un taux de faux positifs n'excédant pas %.f %% est de %.f %%\" % ((100*max_fpr), (100*max_tpr)))\n",
    "print(\"Il correspond à un seuil de %.2f sur les prédictions du modèle.\" % thresholds[max_index_where_fpr_acceptable])"
   ]
  }
 ],
 "metadata": {
  "kernelspec": {
   "display_name": "Python 3 (ipykernel)",
   "language": "python",
   "name": "python3"
  },
  "language_info": {
   "codemirror_mode": {
    "name": "ipython",
    "version": 3
   },
   "file_extension": ".py",
   "mimetype": "text/x-python",
   "name": "python",
   "nbconvert_exporter": "python",
   "pygments_lexer": "ipython3",
   "version": "3.9.9"
  }
 },
 "nbformat": 4,
 "nbformat_minor": 5
}
