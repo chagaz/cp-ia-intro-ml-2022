{
 "cells": [
  {
   "cell_type": "markdown",
   "id": "bede1732-d206-4d76-b886-2c83c413b078",
   "metadata": {
    "tags": []
   },
   "source": [
    "# Notebook 5 : Réduction de dimension"
   ]
  },
  {
   "cell_type": "markdown",
   "id": "ccedf9c6-8ff2-4071-bc85-f23d6260afd3",
   "metadata": {},
   "source": [
    "Notebook préparé par [Chloé-Agathe Azencott](http://cazencott.info).\n",
    "\n",
    "Dans ce notebook il s'agit d'explorer plusieurs techniques de réduction de dimension."
   ]
  },
  {
   "cell_type": "code",
   "execution_count": null,
   "id": "845fe170-c94a-4a95-bb41-e3ebefe49476",
   "metadata": {},
   "outputs": [],
   "source": [
    "# charger numpy as np, matplotlib as plt\n",
    "%pylab inline "
   ]
  },
  {
   "cell_type": "code",
   "execution_count": null,
   "id": "37c56a60-41ee-4e31-8178-b522e206af0a",
   "metadata": {},
   "outputs": [],
   "source": [
    "plt.rc('font', **{'size': 12}) # règle la taille de police globalement pour les plots (en pt)"
   ]
  },
  {
   "cell_type": "code",
   "execution_count": null,
   "id": "cb2363a7-ff45-409a-9c68-865d74092a35",
   "metadata": {},
   "outputs": [],
   "source": [
    "import pandas as pd"
   ]
  },
  {
   "cell_type": "markdown",
   "id": "6ddfa8bf-d15f-4ef9-935d-78cd47b245d6",
   "metadata": {
    "tags": []
   },
   "source": [
    "## 1. Analyse en composantes principales"
   ]
  },
  {
   "cell_type": "markdown",
   "id": "9f39f1f9-3ccd-4637-b6b6-1ec74ef0eb82",
   "metadata": {},
   "source": [
    "Dans cette section, nous allons effectuer une analyse en composantes principales d'un jeu de données décrivant les scores obtenus par les meilleurs athlètes ayant participé en 2004 à une épreuve de décathlon, aux Jeux Olympiques d'Athènes ou au Décastar de Talence."
   ]
  },
  {
   "cell_type": "markdown",
   "id": "4c8b74f2-eb00-4507-af7c-1d64ae4aa348",
   "metadata": {},
   "source": [
    "### Chargement des données"
   ]
  },
  {
   "cell_type": "markdown",
   "id": "584d4f82-36b7-42b9-97ea-1ac8f3c5630f",
   "metadata": {},
   "source": [
    "Les données sont contenues dans le fichier `decathlon.txt`.\n",
    "\n",
    "Le fichier contient 42 lignes et 13 colonnes.\n",
    "\n",
    "La première ligne est un en-tête qui décrit les contenus des colonnes.\n",
    "\n",
    "Les lignes suivantes décrivent les 41 athlètes.\n",
    "\n",
    "Les 10 premières colonnes contiennent les scores obtenus aux différentes épreuves.\n",
    "La 11ème colonne contient le classement.\n",
    "La 12ème colonne contient le nombre de points obtenus.\n",
    "La 13ème colonne contient une variable qualitative qui précise l'épreuve (JO ou Décastar) concernée.\n",
    "\n",
    "Nous allons examiner ces données avec la librairie `pandas`."
   ]
  },
  {
   "cell_type": "code",
   "execution_count": null,
   "id": "22f24f2a-d964-4c70-b582-a2f02238e3eb",
   "metadata": {},
   "outputs": [],
   "source": [
    "my_data = pd.read_csv('data/decathlon.txt', sep=\"\\t\")  # lire les données dans un dataframe"
   ]
  },
  {
   "cell_type": "markdown",
   "id": "a810fdde-1801-4a88-b297-6d7bd3d97c91",
   "metadata": {},
   "source": [
    "__Alternativement :__ Si vous avez besoin de télécharger le fichier (par exemple sur colab) :"
   ]
  },
  {
   "cell_type": "code",
   "execution_count": null,
   "id": "039ac287-a144-4979-95ea-834f472f6025",
   "metadata": {},
   "outputs": [],
   "source": [
    "!wget https://raw.githubusercontent.com/chagaz/cp-ia-intro-ml-2022/main/5-Reduction/data/decathlon.txt\n",
    "\n",
    "my_data = pd.read_csv('decathlon.txt', sep=\"\\t\") "
   ]
  },
  {
   "cell_type": "code",
   "execution_count": null,
   "metadata": {},
   "outputs": [],
   "source": [
    "my_data.head()"
   ]
  },
  {
   "cell_type": "markdown",
   "id": "ca1bf1e4-eae7-4f9b-83cf-84b86b522c55",
   "metadata": {},
   "source": [
    "### Visualisation"
   ]
  },
  {
   "cell_type": "markdown",
   "id": "853ef0c2-3148-4593-be3b-45e3d1c6094a",
   "metadata": {},
   "source": [
    "Une __matrice de nuages de points__ est une visualisation en k x k panneaux des relations deux à deux entre k variables :\n",
    "* sur la diagonale, l'histogramme pour chacune des variables \n",
    "* hors diagonale, les nuages de points entre deux variables (non standardisées).\n",
    "\n",
    "https://pandas.pydata.org/pandas-docs/stable/reference/api/pandas.plotting.scatter_matrix.html"
   ]
  },
  {
   "cell_type": "markdown",
   "id": "c66946c2-d078-4ba7-be6f-d80bd183c1dd",
   "metadata": {},
   "source": [
    "Par exemple :"
   ]
  },
  {
   "cell_type": "code",
   "execution_count": null,
   "id": "c6070943-ce3b-4f58-a28a-cf80b1f80df0",
   "metadata": {
    "jupyter": {
     "outputs_hidden": false
    }
   },
   "outputs": [],
   "source": [
    "from pandas.plotting import scatter_matrix\n",
    "\n",
    "scatter_matrix(my_data[['Shot.put','High.jump', '400m']], alpha=0.5, s=60,\n",
    "               figsize=(8, 8));"
   ]
  },
  {
   "cell_type": "code",
   "execution_count": null,
   "id": "be292d89-d9b6-4f8e-b671-f69ee14e629b",
   "metadata": {
    "jupyter": {
     "outputs_hidden": false
    }
   },
   "outputs": [],
   "source": [
    "from pandas.plotting import scatter_matrix\n",
    "\n",
    "scatter_matrix(my_data, alpha=0.5, s=60,\n",
    "               figsize=(18, 18));"
   ]
  },
  {
   "cell_type": "markdown",
   "id": "082ac714-bc3d-4c0c-8d88-8108c260dffc",
   "metadata": {},
   "source": [
    "Alternativement, la librairie `seaborn` permet des visualisations plus élaborées que `matplotlib`. Vous pouvez par exemple explorer les capacités de `jointplot`. \n",
    "https://seaborn.pydata.org/generated/seaborn.jointplot.html"
   ]
  },
  {
   "cell_type": "code",
   "execution_count": null,
   "id": "8542c5c8-77c6-4f9d-a980-64286b32642f",
   "metadata": {
    "jupyter": {
     "outputs_hidden": false
    }
   },
   "outputs": [],
   "source": [
    "import seaborn as sns\n",
    "sns.set_style('whitegrid')\n",
    "\n",
    "sns.jointplot(x='Shot.put', y='400m', data = my_data, \n",
    "              height=6, space=0, color='b')\n",
    "\n",
    "sns.jointplot(x='Shot.put', y='400m', data = my_data, \n",
    "              kind='reg', height=6, space=0, color='b')"
   ]
  },
  {
   "cell_type": "markdown",
   "id": "3c991131-1d99-403a-ba45-b635aff6ea3f",
   "metadata": {},
   "source": [
    "Nous allons maintenant effectuer une analyse en composantes principales des scores aux 10 épreuves."
   ]
  },
  {
   "cell_type": "markdown",
   "id": "3ea38823-6151-4a64-b4fe-8c9390932fcf",
   "metadata": {},
   "source": [
    "Commençons par extraire les données :"
   ]
  },
  {
   "cell_type": "code",
   "execution_count": null,
   "id": "c4a3c35a-99be-47d4-8f23-ed14a525bec5",
   "metadata": {},
   "outputs": [],
   "source": [
    "X = np.array(my_data.drop(columns=['Points', 'Rank', 'Competition']))\n",
    "print(X.shape)"
   ]
  },
  {
   "cell_type": "markdown",
   "id": "63ddec58-c233-4c5a-b5e5-828ca281ef62",
   "metadata": {},
   "source": [
    "### Standardisation des données"
   ]
  },
  {
   "cell_type": "code",
   "execution_count": null,
   "id": "4a7261c9-9aa0-4fcf-8a94-25431010605e",
   "metadata": {},
   "outputs": [],
   "source": [
    "from sklearn import preprocessing"
   ]
  },
  {
   "cell_type": "code",
   "execution_count": null,
   "id": "989a7723-c1d6-499b-a639-afcf48930b31",
   "metadata": {},
   "outputs": [],
   "source": [
    "std_scale = preprocessing.StandardScaler().fit(X)\n",
    "X_scaled = std_scale.transform(X)"
   ]
  },
  {
   "cell_type": "markdown",
   "id": "6f7a5e17-2613-430a-ad7f-d537cad538cc",
   "metadata": {},
   "source": [
    "### Calcul des composantes principales\n",
    "\n",
    "Les algorithmes de factorisation de matrice de `scikit-learn` sont inclus dans le module `decomposition`. Pour  l'ACP, référez-vous à : \n",
    "http://scikit-learn.org/stable/modules/generated/sklearn.decomposition.PCA.html"
   ]
  },
  {
   "cell_type": "code",
   "execution_count": null,
   "id": "a3d1d014-52f4-488d-9e89-13bc6a34bda6",
   "metadata": {},
   "outputs": [],
   "source": [
    "from sklearn import decomposition"
   ]
  },
  {
   "cell_type": "markdown",
   "id": "e5b2f934-3c2b-42cc-9632-08be2a728ea7",
   "metadata": {},
   "source": [
    "Remarque : Nous avons ici peu de variables et pouvons nous permettre de calculer toutes les PC. \n",
    "\n",
    "La plupart des algorithmes implémentés dans `scikit-learn` suivent le fonctionnement suivant : \n",
    "* on instancie un objet, correspondant à un type d'algorithme/modèle, avec ses hyperparamètres (ici le nombre de composantes)\n",
    "* on utilise la méthode `fit` pour passer les données à cet algorithme\n",
    "* les paramètres appris sont maintenant accessibles comme arguments de cet objet."
   ]
  },
  {
   "cell_type": "code",
   "execution_count": null,
   "id": "8921a8ce-8f9e-48a5-914c-6a8b813385d5",
   "metadata": {},
   "outputs": [],
   "source": [
    "# Instanciation d'un objet PCA pour 10 composantes principales\n",
    "pca = decomposition.PCA(n_components=10)"
   ]
  },
  {
   "cell_type": "code",
   "execution_count": null,
   "id": "7f8950b5-a972-4b35-afd3-1534add782ad",
   "metadata": {},
   "outputs": [],
   "source": [
    "# On passe maintenant les données standardisées à cet objet\n",
    "# C'est ici que se font les calculs\n",
    "pca.fit(X_scaled)"
   ]
  },
  {
   "cell_type": "markdown",
   "id": "b27932bf-5a2f-40a9-a419-fe2385af761b",
   "metadata": {},
   "source": [
    "### Proportion de variance expliquée par les PCs\n",
    "\n",
    "Nous allons maintenant afficher la proportion de variance expliquée par les différentes composantes. Il est accessible dans le paramètre `explained_variance_ration_` de notre objet `pca`."
   ]
  },
  {
   "cell_type": "code",
   "execution_count": null,
   "id": "ef35adc2-229a-4f38-9165-0edc216e77e1",
   "metadata": {},
   "outputs": [],
   "source": [
    "plt.plot(np.arange(1, 11), pca.explained_variance_ratio_, marker='o')\n",
    "\n",
    "plt.xlabel(\"Nombre de composantes principales\")\n",
    "plt.ylabel(\"Proportion de variance expliquée\")"
   ]
  },
  {
   "cell_type": "markdown",
   "id": "b268d4a4-2593-4fe5-b281-b1c838afdabe",
   "metadata": {},
   "source": [
    "Nous pouvons aussi afficher la proportion *cumulative* de variance expliquée"
   ]
  },
  {
   "cell_type": "code",
   "execution_count": null,
   "id": "2062db36-4909-4c29-a3fb-76020933249a",
   "metadata": {},
   "outputs": [],
   "source": [
    "np.cumsum(pca.explained_variance_ratio_)"
   ]
  },
  {
   "cell_type": "code",
   "execution_count": null,
   "id": "dee9d794-8690-4dec-a842-542b1512ce78",
   "metadata": {},
   "outputs": [],
   "source": [
    "plt.plot(np.arange(1, 11), np.cumsum(pca.explained_variance_ratio_), marker='o')\n",
    "\n",
    "plt.xlabel(\"Nombre de composantes principales\")\n",
    "plt.title(\"Proportion cumulative de variance expliquée\")"
   ]
  },
  {
   "cell_type": "markdown",
   "id": "632adfd9-9373-46d5-a966-7ad5f23339d7",
   "metadata": {},
   "source": [
    "On peut aussi calculer la proportion de variance expliquée par les 4 (par exemple) premières PC avec"
   ]
  },
  {
   "cell_type": "code",
   "execution_count": null,
   "id": "8893538e-9344-4397-ba9b-49fbdb4beba9",
   "metadata": {},
   "outputs": [],
   "source": [
    "print(\"%.2f\" % np.sum(pca.explained_variance_ratio_[:4]))"
   ]
  },
  {
   "cell_type": "markdown",
   "id": "b42f8850-0618-4da7-9fd7-af528e1a0a63",
   "metadata": {},
   "source": [
    "__Questions :__ \n",
    "* Quelle est la proportion de variance expliquée par les deux premières composantes ? \n",
    "* Combien de composantes faudrait-il utiliser pour expliquer 80% de la variance des données ?"
   ]
  },
  {
   "cell_type": "code",
   "execution_count": null,
   "id": "30fb379a-46cd-4a62-951c-b35e0de1aefa",
   "metadata": {},
   "outputs": [],
   "source": [
    "print(\"%.2f\" % np.sum(pca.explained_variance_ratio_[:2]))"
   ]
  },
  {
   "cell_type": "markdown",
   "id": "881d20c0-2f86-4703-bda7-29f498c753c4",
   "metadata": {},
   "source": [
    "### Projection des données sur les deux premières composantes principales\n",
    "\n",
    "Nous allons maintenant utiliser uniquement les deux premières composantes principales.\n",
    "\n",
    "Commençons par calculer la nouvelle représentation des données, c'est-à-dire leur projection sur ces deux PC. "
   ]
  },
  {
   "cell_type": "code",
   "execution_count": null,
   "id": "15ffbead-e875-4483-9eaf-eeae69279fac",
   "metadata": {},
   "outputs": [],
   "source": [
    "pca = decomposition.PCA(n_components=2)\n",
    "pca.fit(X_scaled)\n",
    "X_projected = pca.transform(X_scaled)\n",
    "print(X_projected.shape)"
   ]
  },
  {
   "cell_type": "markdown",
   "id": "3e3ffef8-7448-45e5-9c59-f1a26d671642",
   "metadata": {},
   "source": [
    "On peut afficher un nuage de points représentant les données selon ces deux PC."
   ]
  },
  {
   "cell_type": "code",
   "execution_count": null,
   "id": "b8d70e7e-4b45-4e6b-817f-1318a5356868",
   "metadata": {},
   "outputs": [],
   "source": [
    "fig = plt.figure(figsize=(5, 5))\n",
    "\n",
    "plt.scatter(X_projected[:, 0], X_projected[:, 1])\n",
    "\n",
    "plt.xlabel(\"PC 1\")\n",
    "plt.ylabel(\"PC 2\")"
   ]
  },
  {
   "cell_type": "markdown",
   "id": "59e85cc2-a15a-4cdc-a98a-aab89e1e679c",
   "metadata": {},
   "source": [
    "On peut maintenant colorer chaque point du nuage de points ci-dessus en fonction du classement de l'athlète qu'il représente. "
   ]
  },
  {
   "cell_type": "code",
   "execution_count": null,
   "id": "1740b2b7-6fd8-4f01-bd80-060b140ec79d",
   "metadata": {},
   "outputs": [],
   "source": [
    "fig = plt.figure(figsize=(5, 5))\n",
    "\n",
    "plt.scatter(X_projected[:, 0], X_projected[:, 1], c=my_data['Rank'])\n",
    "\n",
    "plt.xlabel(\"PC 1\")\n",
    "plt.ylabel(\"PC 2\")\n",
    "plt.colorbar(label='classement')"
   ]
  },
  {
   "cell_type": "markdown",
   "id": "0340723c-5536-4f46-9d03-d5837cb64290",
   "metadata": {},
   "source": [
    "__Question :__ Qu'en conclure sur l'interprétation de la PC1 ?"
   ]
  },
  {
   "cell_type": "markdown",
   "id": "69bcefd4-7c7a-47b8-99de-622a5f3677f7",
   "metadata": {},
   "source": [
    "### Interprétation des deux composantes principales\n",
    "Chaque composante principale est une combinaison linéaire des variables décrivant les données. Les poids de cette combinaison linéaire sont accesibles dans `pca.components_`.\n",
    "\n",
    "Nous pouvons visualiser non pas les individus, mais les 10 variables dans l'espace des 2 composantes principales."
   ]
  },
  {
   "cell_type": "code",
   "execution_count": null,
   "id": "0b7e8301-c0d1-4659-a575-d5a21a96a616",
   "metadata": {},
   "outputs": [],
   "source": [
    "pcs = pca.components_\n",
    "print(pcs[0])"
   ]
  },
  {
   "cell_type": "code",
   "execution_count": null,
   "id": "b2536ead-2eab-461e-aa2d-419ca755964b",
   "metadata": {},
   "outputs": [],
   "source": [
    "fig = plt.figure(figsize=(6, 6))\n",
    "\n",
    "plt.scatter(pcs[0], pcs[1])\n",
    "for (x_coordinate, y_coordinate, feature_name) in zip(pcs[0], pcs[1], my_data.columns[:10]):\n",
    "    plt.text(x_coordinate, y_coordinate, feature_name)                          \n",
    "    \n",
    "plt.xlabel(\"Contribution à la PC1\")\n",
    "plt.ylabel(\"Contribution à la PC2\")"
   ]
  },
  {
   "cell_type": "markdown",
   "id": "b3ee2295-7d1b-4bbf-a8b6-e1feba8e9572",
   "metadata": {},
   "source": [
    "__Question :__ Quelles variables ont des contributions très similaires aux deux composantes principales ? Qu'en déduire sur leur similarité ?"
   ]
  },
  {
   "cell_type": "markdown",
   "id": "4030e73d-240b-4d68-973f-326319a29461",
   "metadata": {},
   "source": [
    "__Question :__ Comment interpréter le signe des contributions des variables à la première composantes principales ?"
   ]
  },
  {
   "cell_type": "markdown",
   "id": "e798ccd9-3999-4f1a-9589-410e1339a271",
   "metadata": {},
   "source": [
    "## 2. Données « Olivetti »"
   ]
  },
  {
   "cell_type": "markdown",
   "id": "881d5871-572b-4b1b-bda2-7cea665b10dc",
   "metadata": {},
   "source": [
    "Nous allons maintenant utiliser la réduction de dimension pour représenter en deux dimensions un jeu de données contenant des visages. Il s'agit d'un jeu de données classique, contenant 400 photos de 64 par 64 pixels. Il s'agit de photos des visages de 40 personnes différentes (10 photos par personne), étiquetées par un numéro de classe entre 0 et 39 identifiant la personne.\n",
    "\n",
    "Nous pouvons charger ce jeu de données directement grâce à scikit-learn :"
   ]
  },
  {
   "cell_type": "code",
   "execution_count": null,
   "id": "c0550f5c-51dd-4f94-b2e4-36c1210573ee",
   "metadata": {},
   "outputs": [],
   "source": [
    "from sklearn import datasets"
   ]
  },
  {
   "cell_type": "code",
   "execution_count": null,
   "id": "7b6fbc31-2584-4437-9a4d-8fe1311ce046",
   "metadata": {},
   "outputs": [],
   "source": [
    "data = datasets.fetch_olivetti_faces()"
   ]
  },
  {
   "cell_type": "markdown",
   "id": "2590709e-395e-4304-98e3-cc3347dbf8c2",
   "metadata": {},
   "source": [
    "__Si vous n'arrivez pas à télécharger les données :__\n",
    "* Aller sur : https://github.com/CroncLee/PCA-face-recognition/blob/master/olivetti_py3.pkz\n",
    "* Télécharger le fichier (bouton Download) \n",
    "utiliser la commande\n",
    "```\n",
    "    data = datasets.fetch_olivetti_faces(data_home=\"<PATH TO DATA>\")\n",
    "```\n",
    "En remplaçant <PATH TO DATA> par le chemin vers le dossier où vous avez enregistré les données."
   ]
  },
  {
   "cell_type": "code",
   "execution_count": null,
   "id": "df7caea8-bf3e-4bc9-b310-1e24c431ef88",
   "metadata": {},
   "outputs": [],
   "source": [
    "X = data.data\n",
    "y = data.target"
   ]
  },
  {
   "cell_type": "code",
   "execution_count": null,
   "id": "1561b0df-ca4f-4dad-b016-a8060b56b3ea",
   "metadata": {},
   "outputs": [],
   "source": [
    "print(X.shape)"
   ]
  },
  {
   "cell_type": "code",
   "execution_count": null,
   "id": "31039f19-ef59-4362-84c9-b298b07a3187",
   "metadata": {},
   "outputs": [],
   "source": [
    "print(\"Les données contiennent %d classes\" % len(np.unique(y)))"
   ]
  },
  {
   "cell_type": "markdown",
   "id": "5ad91dc4-000d-44bd-9d92-99264038704d",
   "metadata": {},
   "source": [
    "Chaque image est représentée par une valeur (niveau de gris) pour chacun de ses pixels. \n",
    "\n",
    "Nous pouvons visualiser ces images à condition de réorganiser ces valeurs (= un vecteur de longueur 4096) en matrices 64x64. Par exemle ci-dessous pour l'image à l'index 23 :"
   ]
  },
  {
   "cell_type": "code",
   "execution_count": null,
   "id": "e9bce220-2953-42c1-a8d3-01cafb3a7b84",
   "metadata": {},
   "outputs": [],
   "source": [
    "plt.imshow(X[13, :].reshape((64, 64)), interpolation='nearest', cmap=plt.cm.gray)"
   ]
  },
  {
   "cell_type": "markdown",
   "id": "4b3e1819-a455-4bd2-8daf-8e83b63c994e",
   "metadata": {
    "tags": []
   },
   "source": [
    "### PCA\n",
    "\n",
    "Commençons par une analyse en composantes principales comme à la section précédente :"
   ]
  },
  {
   "cell_type": "code",
   "execution_count": null,
   "id": "0650184f-768a-4715-89f4-ed7a5752da7f",
   "metadata": {},
   "outputs": [],
   "source": [
    "pca = decomposition.PCA(n_components=2)\n",
    "X_transformed_pca = pca.fit_transform(X)"
   ]
  },
  {
   "cell_type": "markdown",
   "id": "bd62fe74-a485-40e2-98f0-f9d776eff28c",
   "metadata": {},
   "source": [
    "Chaque image est maintenant représentée par non pas 4096 variables, mais par deux variables. Nous pouvons les visualiser en nuage de point, et les colorer par classe :"
   ]
  },
  {
   "cell_type": "code",
   "execution_count": null,
   "id": "368d7a86-ec5d-45e7-9f01-8a34873aa351",
   "metadata": {},
   "outputs": [],
   "source": [
    "plt.scatter(X_transformed_pca[:, 0], X_transformed_pca[:, 1], \n",
    "            c=y)\n",
    "plt.xlabel(\"Première composante principale\")\n",
    "plt.ylabel(\"Deuxième composante principale\")"
   ]
  },
  {
   "cell_type": "markdown",
   "id": "3b11f134-b46f-4c59-96b8-10649dcd6196",
   "metadata": {},
   "source": [
    "__Question :__ les images du même visage (= de la même classe) ont-elles des représentations proches ?"
   ]
  },
  {
   "cell_type": "markdown",
   "id": "2d69b345-dd74-4b3b-a4fd-a592b45e4da4",
   "metadata": {},
   "source": [
    "Nous pouvons visualiser la contribution de chaque pixel à la première composante principale :"
   ]
  },
  {
   "cell_type": "code",
   "execution_count": null,
   "id": "6b91b43f-ccf2-4072-875c-3a3b43d97a3f",
   "metadata": {},
   "outputs": [],
   "source": [
    "plt.imshow(pca.components_[0, :].reshape((64,64)), interpolation='nearest', cmap=plt.cm.gray)"
   ]
  },
  {
   "cell_type": "markdown",
   "id": "beae5230-129a-44e9-b3f6-d58fe2f5e4e2",
   "metadata": {},
   "source": [
    "Puis la contribution de chaque pixel à la deuxième composante principale :"
   ]
  },
  {
   "cell_type": "code",
   "execution_count": null,
   "id": "3028c467-2951-4eb5-a395-6297ef689d57",
   "metadata": {},
   "outputs": [],
   "source": [
    "plt.imshow(pca.components_[1, :].reshape((64,64)), interpolation='nearest', cmap=plt.cm.gray)"
   ]
  },
  {
   "cell_type": "markdown",
   "id": "f8117bf1-f045-494f-b2a0-638953feaa2d",
   "metadata": {},
   "source": [
    "### tSNE\n",
    "\n",
    "Nous allons maintenant utiliser la même démarche, mais avec tSNE, grâce à la classe [TSNE](https://scikit-learn.org/stable/modules/generated/sklearn.manifold.TSNE.html) du module `manifold`."
   ]
  },
  {
   "cell_type": "code",
   "execution_count": null,
   "id": "8dd969ee-50f3-4db3-ab84-c674fb25e260",
   "metadata": {},
   "outputs": [],
   "source": [
    "from sklearn import manifold"
   ]
  },
  {
   "cell_type": "code",
   "execution_count": null,
   "id": "7c800a35-10ee-4ea3-b5de-d574b9e1c48c",
   "metadata": {},
   "outputs": [],
   "source": [
    "tsne = manifold.TSNE(n_components=2, init='random', learning_rate='auto')"
   ]
  },
  {
   "cell_type": "code",
   "execution_count": null,
   "id": "18f02991-e87d-4bc8-9de1-e0e68d14e0ea",
   "metadata": {},
   "outputs": [],
   "source": [
    "%%time \n",
    "X_transformed = tsne.fit_transform(X)"
   ]
  },
  {
   "cell_type": "code",
   "execution_count": null,
   "id": "3871915c-2b71-4ca5-ad93-303da0dcbcee",
   "metadata": {},
   "outputs": [],
   "source": [
    "plt.scatter(X_transformed[:, 0], X_transformed[:, 1], \n",
    "            c=y)\n",
    "plt.xlabel(\"Première composante tSNE\")\n",
    "plt.ylabel(\"Deuxième composante tSNE\")"
   ]
  },
  {
   "cell_type": "markdown",
   "id": "03701a65-bb3c-4ede-a054-86a91f12bd03",
   "metadata": {},
   "source": [
    "#### Influence du paramètre de perplexité "
   ]
  },
  {
   "cell_type": "code",
   "execution_count": null,
   "id": "68c571e9-c1fa-4d77-bcc0-bf715495342b",
   "metadata": {},
   "outputs": [],
   "source": [
    "tsne = manifold.TSNE(n_components=2, init='random', learning_rate='auto', perplexity=1)"
   ]
  },
  {
   "cell_type": "code",
   "execution_count": null,
   "id": "ee6be162-12c9-408f-b0a4-f271af8464d4",
   "metadata": {},
   "outputs": [],
   "source": [
    "%%time \n",
    "X_transformed = tsne.fit_transform(X)"
   ]
  },
  {
   "cell_type": "code",
   "execution_count": null,
   "id": "6c350a46-978d-419f-8d72-0dec9e32afd8",
   "metadata": {},
   "outputs": [],
   "source": [
    "plt.scatter(X_transformed[:, 0], X_transformed[:, 1], \n",
    "            c=y)\n",
    "plt.xlabel(\"Première composante tSNE\")\n",
    "plt.ylabel(\"Deuxième composante tSNE\")"
   ]
  },
  {
   "cell_type": "code",
   "execution_count": null,
   "id": "0c72aef6-ecbb-471c-b680-8469c02130fb",
   "metadata": {},
   "outputs": [],
   "source": [
    "tsne = manifold.TSNE(n_components=2, init='random', learning_rate='auto', perplexity=100)"
   ]
  },
  {
   "cell_type": "code",
   "execution_count": null,
   "id": "b4769f1f-a25a-4d8f-bbe3-cf61cec6cefc",
   "metadata": {},
   "outputs": [],
   "source": [
    "%%time \n",
    "X_transformed = tsne.fit_transform(X)"
   ]
  },
  {
   "cell_type": "code",
   "execution_count": null,
   "id": "67b65964-aa0d-43dc-b68a-53d85c951f2c",
   "metadata": {},
   "outputs": [],
   "source": [
    "plt.scatter(X_transformed[:, 0], X_transformed[:, 1], \n",
    "            c=y)\n",
    "plt.xlabel(\"Première composante tSNE\")\n",
    "plt.ylabel(\"Deuxième composante tSNE\")"
   ]
  }
 ],
 "metadata": {
  "kernelspec": {
   "display_name": "Python 3 (ipykernel)",
   "language": "python",
   "name": "python3"
  },
  "language_info": {
   "codemirror_mode": {
    "name": "ipython",
    "version": 3
   },
   "file_extension": ".py",
   "mimetype": "text/x-python",
   "name": "python",
   "nbconvert_exporter": "python",
   "pygments_lexer": "ipython3",
   "version": "3.9.9"
  }
 },
 "nbformat": 4,
 "nbformat_minor": 5
}
