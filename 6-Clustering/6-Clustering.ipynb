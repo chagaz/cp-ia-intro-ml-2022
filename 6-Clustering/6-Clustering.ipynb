{
 "cells": [
  {
   "cell_type": "markdown",
   "id": "c351ed16-1ca6-453f-94c8-ee419445fc7b",
   "metadata": {
    "tags": []
   },
   "source": [
    "# Notebook 6 : Clustering"
   ]
  },
  {
   "cell_type": "markdown",
   "id": "24618503-ee64-4349-8f01-b29fd89b8018",
   "metadata": {},
   "source": [
    "Notebook préparé par [Chloé-Agathe Azencott](http://cazencott.info) avec l'aide d'[Arthur Imbert](https://github.com/Henley13).\n",
    "\n",
    "Dans ce notebook il s'agit d'explorer plusieurs techniques de clustering."
   ]
  },
  {
   "cell_type": "code",
   "execution_count": null,
   "id": "a2b3fb29-8628-4a01-a0e5-f433bdea37fc",
   "metadata": {},
   "outputs": [],
   "source": [
    "# charger numpy as np, matplotlib as plt\n",
    "%pylab inline "
   ]
  },
  {
   "cell_type": "code",
   "execution_count": null,
   "id": "d8b3054d-c341-48ef-874e-75848b76c7c8",
   "metadata": {},
   "outputs": [],
   "source": [
    "plt.rc('font', **{'size': 12}) # règle la taille de police globalement pour les plots (en pt)"
   ]
  },
  {
   "cell_type": "code",
   "execution_count": null,
   "id": "1e65eeeb-8548-45de-8305-c35f47eda6c8",
   "metadata": {},
   "outputs": [],
   "source": [
    "import pandas as pd"
   ]
  },
  {
   "cell_type": "markdown",
   "id": "b08159c1-96a9-4bd6-bd1b-65a896942937",
   "metadata": {},
   "source": [
    "## 1. Cercles imbriqués"
   ]
  },
  {
   "cell_type": "markdown",
   "id": "517ba08f-22b4-4890-9f1d-9de52a8e5de6",
   "metadata": {},
   "source": [
    "Générons un jeu de données en deux dimensions formé de deux cercles imbriqués :"
   ]
  },
  {
   "cell_type": "code",
   "execution_count": null,
   "id": "9c46579d-c671-4f5f-a361-f544b81c4c4f",
   "metadata": {},
   "outputs": [],
   "source": [
    "from sklearn import datasets"
   ]
  },
  {
   "cell_type": "code",
   "execution_count": null,
   "id": "acb719cb-2422-4de9-b434-41a78cde1449",
   "metadata": {},
   "outputs": [],
   "source": [
    "# nombre de points\n",
    "n_samples = 1500\n",
    "\n",
    "# set random seed\n",
    "np.random.seed(37)\n",
    "\n",
    "circles_X, circles_labels = datasets.make_circles(n_samples=n_samples, factor=.5, noise=.05)"
   ]
  },
  {
   "cell_type": "markdown",
   "id": "b6f8f69e-c99e-4fca-a08c-83a2abbc9601",
   "metadata": {},
   "source": [
    "Visualisons ces données :"
   ]
  },
  {
   "cell_type": "code",
   "execution_count": null,
   "id": "0d2d25cb-3939-4fe4-896f-34d1bffe3db6",
   "metadata": {},
   "outputs": [],
   "source": [
    "fig = plt.figure(figsize=(5, 5))\n",
    "plt.scatter(circles_X[:, 0], circles_X[:, 1], c=circles_labels)"
   ]
  },
  {
   "cell_type": "markdown",
   "id": "31d503ce-d061-4217-a63d-8d2856b43e64",
   "metadata": {},
   "source": [
    "Supposons maintenant ne pas disposer des étiquettes. Quels algorithmes de clustering permettent de trouver deux clusters, correspondant chacun à un des cercles ?"
   ]
  },
  {
   "cell_type": "markdown",
   "id": "c84eeff2-81d8-43c4-b7d8-70f4bcbd72b7",
   "metadata": {},
   "source": [
    "### Algorithme des k-moyennes"
   ]
  },
  {
   "cell_type": "markdown",
   "id": "d62b7c93-d05d-4580-90d7-d0ccc98cee84",
   "metadata": {},
   "source": [
    "L'objectif de l'algorithme k-means est retrouver $K$ clusters (et leur centroïde $\\mu_k$) de manière à **minimiser la variance intra-cluster** :\n",
    "\n",
    "\\begin{align}\n",
    "V = \\sum_{k = 1}^{K} \\sum_{x \\in C_k} \\frac{1}{|C_k|} (\\|x - \\mu_k\\|^2)\n",
    "\\end{align}\n",
    "\n",
    "Documentation : https://scikit-learn.org/stable/modules/generated/sklearn.cluster.KMeans.html"
   ]
  },
  {
   "cell_type": "code",
   "execution_count": null,
   "id": "fa4ecf9a-4756-4e5d-a429-d355faf088c6",
   "metadata": {},
   "outputs": [],
   "source": [
    "from sklearn import cluster"
   ]
  },
  {
   "cell_type": "code",
   "execution_count": null,
   "id": "09253851-40f8-4f20-9f5b-f47d7f0aa9af",
   "metadata": {},
   "outputs": [],
   "source": [
    "# initialisation d'un k-means avec k=2\n",
    "kmeans = cluster.KMeans(n_clusters=2)\n",
    "\n",
    "# application aux données \n",
    "kmeans.fit(circles_X)"
   ]
  },
  {
   "cell_type": "markdown",
   "id": "109f8c88-ff41-490e-add4-1a3bae61e9db",
   "metadata": {},
   "source": [
    "L'attribut `.labels_` contient, pour chaque observation, le numéro du cluster auquel cette observation est assignée."
   ]
  },
  {
   "cell_type": "code",
   "execution_count": null,
   "id": "f296bf15-d138-4a7c-8c9b-ea4e8ea3a91c",
   "metadata": {},
   "outputs": [],
   "source": [
    "kmeans.labels_"
   ]
  },
  {
   "cell_type": "code",
   "execution_count": null,
   "id": "cd0faf38-c497-4164-a5af-c0401d7f2336",
   "metadata": {},
   "outputs": [],
   "source": [
    "fig = plt.figure(figsize=(5, 5))\n",
    "plt.scatter(circles_X[:, 0], circles_X[:, 1], c=kmeans.labels_)\n",
    "plt.title(\"Clustering K-means (K=2)\")"
   ]
  },
  {
   "cell_type": "markdown",
   "id": "dddf6bdc-ce05-443d-8d59-41b1ce3455d3",
   "metadata": {},
   "source": [
    "#### Trouver K avec le coefficient de silhouette"
   ]
  },
  {
   "cell_type": "markdown",
   "id": "adf0bc1d-3dc3-4f5c-b2da-6e245857a536",
   "metadata": {},
   "source": [
    "Le coefficient (ou score) de silhouette permet de **comparer les distances moyennes intra- et inter-cluster** :\n",
    "\n",
    "\\begin{align}\n",
    "\\text{score} = \\frac{b - a}{\\max(a, b)}\n",
    "\\end{align}\n",
    "\n",
    "avec $a$ la distance moyenne intra-cluster et $b$ la distance d'un point au cluster étranger le plus proche. Le score se calcule par observation (avec une valeur entre -1 et 1) puis la moyenne de ce score permet d'évaluer le clustering du nuage de point dans son ensemble.\n",
    "\n",
    "Documentation : https://scikit-learn.org/stable/modules/generated/sklearn.metrics.silhouette_score.html#sklearn.metrics.silhouette_score"
   ]
  },
  {
   "cell_type": "code",
   "execution_count": null,
   "id": "9c9ae03f-4387-4df7-b922-61d33b2c17b3",
   "metadata": {},
   "outputs": [],
   "source": [
    "from sklearn import metrics"
   ]
  },
  {
   "cell_type": "code",
   "execution_count": null,
   "id": "657ae2ab-3e81-4a3f-8b30-e642e32d0d7c",
   "metadata": {},
   "outputs": [],
   "source": [
    "print(\"Coefficient de silhouette pour le k-means (k=2) : %.2f\" % metrics.silhouette_score(circles_X, kmeans.labels_))"
   ]
  },
  {
   "cell_type": "code",
   "execution_count": null,
   "id": "fa00ff3b-e30e-4045-9b43-28c7eed94286",
   "metadata": {},
   "outputs": [],
   "source": [
    "silhouettes = []\n",
    "k_values = range(2, 9)\n",
    "for kval in k_values:\n",
    "    kmeans_k = cluster.KMeans(n_clusters=kval)\n",
    "    kmeans_k.fit(circles_X)\n",
    "    silhouettes.append(metrics.silhouette_score(circles_X, kmeans_k.labels_))"
   ]
  },
  {
   "cell_type": "code",
   "execution_count": null,
   "id": "9423788d-586e-4aa7-956d-ce06eef4ad72",
   "metadata": {},
   "outputs": [],
   "source": [
    "plt.plot(k_values, silhouettes)\n",
    "\n",
    "plt.xlabel(\"K\")\n",
    "plt.ylabel(\"silhouette\")\n",
    "\n",
    "print(\"Coefficient de silhouette du KMeans en fonction de K\")"
   ]
  },
  {
   "cell_type": "code",
   "execution_count": null,
   "id": "5e86cd11-42ab-472b-afb6-916cf4c12b68",
   "metadata": {},
   "outputs": [],
   "source": [
    "best_silhouette = np.max(silhouettes)\n",
    "print(\"Coefficient de silhouette optimal : %.2f\" % best_silhouette)\n",
    "best_K = k_values[silhouettes.index(best_silhouette)]\n",
    "print(\"K correspondant : %.2f\" % best_K)"
   ]
  },
  {
   "cell_type": "code",
   "execution_count": null,
   "id": "6c2b3212-8cf6-452f-b416-4e40abbd4b34",
   "metadata": {},
   "outputs": [],
   "source": [
    "kmeans_k = cluster.KMeans(n_clusters=best_K)\n",
    "kmeans_k.fit(circles_X)\n",
    "\n",
    "fig = plt.figure(figsize=(5, 5))\n",
    "plt.scatter(circles_X[:, 0], circles_X[:, 1], c=kmeans_k.labels_)\n",
    "plt.title(\"Clustering K-means (K=%d)\" % best_K)"
   ]
  },
  {
   "cell_type": "markdown",
   "id": "5d42cfdf-648e-45fe-9cc1-5ac163a1dfd2",
   "metadata": {
    "tags": []
   },
   "source": [
    "### DBSCAN (Clustering par densité)"
   ]
  },
  {
   "cell_type": "markdown",
   "id": "1616b9b4-d241-4b42-bf4d-760be2c57b80",
   "metadata": {},
   "source": [
    "L'algorithme DBSCAN (Density-Based Spatial Clustering of Applications with Noise) fonctionne en deux temps :\n",
    "- Toutes les observations suffisamment proches sont connectées entre elles.\n",
    "- Les observations avec un nombre minimal de voisins connectés sont considérées comme des *core samples*, à partir desquelles les clusters sont étendues. **Toutes les observations suffisamment proche d'un *core sample* appartiennent au même cluster que celui-ci**. \n",
    "\n",
    "Documentation : https://scikit-learn.org/stable/modules/generated/sklearn.cluster.DBSCAN.html"
   ]
  },
  {
   "cell_type": "code",
   "execution_count": null,
   "id": "f21b8238-a1aa-4ccc-94c8-8c4e30d44d54",
   "metadata": {},
   "outputs": [],
   "source": [
    "# initialisation d'un clustering DBSCAN\n",
    "dbscan = cluster.DBSCAN(eps=0.2, min_samples=2)\n",
    "\n",
    "# application aux données \n",
    "dbscan.fit(circles_X)"
   ]
  },
  {
   "cell_type": "code",
   "execution_count": null,
   "id": "63f79b6e-3eb8-4645-afd3-e6c2b47ef193",
   "metadata": {},
   "outputs": [],
   "source": [
    "np.unique(dbscan.labels_)"
   ]
  },
  {
   "cell_type": "markdown",
   "id": "4c23cf6f-81c9-455c-9cd3-41ad09ea7463",
   "metadata": {},
   "source": [
    "L'attribut `.labels_` contient, pour chaque observation, le numéro du cluster auquel cette observation est assignée."
   ]
  },
  {
   "cell_type": "code",
   "execution_count": null,
   "id": "a6e9ca4d-e99d-4c7c-b11b-056edd347195",
   "metadata": {},
   "outputs": [],
   "source": [
    "fig = plt.figure(figsize=(5, 5))\n",
    "plt.scatter(circles_X[:, 0], circles_X[:, 1], c=dbscan.labels_)\n",
    "plt.title(\"Clustering DBSCAN (eps=0.2)\")"
   ]
  },
  {
   "cell_type": "markdown",
   "id": "56a4c3cd-1d6e-4d66-b4d0-fb45635f139e",
   "metadata": {},
   "source": [
    "#### Rôle du paramètre de taille de voisinage (`eps`)"
   ]
  },
  {
   "cell_type": "markdown",
   "id": "084ee086-d7b7-40a9-b584-24230585c832",
   "metadata": {},
   "source": [
    "Si `eps` est trop petit :"
   ]
  },
  {
   "cell_type": "code",
   "execution_count": null,
   "id": "e9ec845f-635c-460a-b0dd-1745a2994a3e",
   "metadata": {},
   "outputs": [],
   "source": [
    "# initialisation d'un clustering DBSCAN\n",
    "dbscan_005 = cluster.DBSCAN(eps=0.05, min_samples=2)\n",
    "\n",
    "# application aux données \n",
    "dbscan_005.fit(circles_X)"
   ]
  },
  {
   "cell_type": "code",
   "execution_count": null,
   "id": "5d1c035d-9323-4908-9e7b-ca9f2302e29f",
   "metadata": {},
   "outputs": [],
   "source": [
    "np.unique(dbscan_005.labels_)"
   ]
  },
  {
   "cell_type": "markdown",
   "id": "f5424251-080d-4483-bcd1-945bddbf3102",
   "metadata": {},
   "source": [
    "L'attribut `.labels_` contient, pour chaque observation, le numéro du cluster auquel cette observation est assignée."
   ]
  },
  {
   "cell_type": "code",
   "execution_count": null,
   "id": "6a3298df-3fdb-4b87-9ce2-758d75758348",
   "metadata": {},
   "outputs": [],
   "source": [
    "fig = plt.figure(figsize=(5, 5))\n",
    "\n",
    "outliers = np.where(dbscan_005.labels_ == -1)[0]\n",
    "plt.scatter(circles_X[outliers, 0], circles_X[outliers, 1], marker='*', color='red')\n",
    "\n",
    "non_outliers = np.where(dbscan_005.labels_ != -1)[0]\n",
    "plt.scatter(circles_X[non_outliers, 0], circles_X[non_outliers, 1], c=dbscan_005.labels_[non_outliers])\n",
    "plt.title(\"Clustering DBSCAN (eps=0.05)\")"
   ]
  },
  {
   "cell_type": "markdown",
   "id": "d4d505c2-9863-4e12-99ab-fcdba6474b4f",
   "metadata": {},
   "source": [
    "Si `eps` est trop grand :"
   ]
  },
  {
   "cell_type": "code",
   "execution_count": null,
   "id": "40d82804-a808-4109-87d9-cacf1f4d5e61",
   "metadata": {},
   "outputs": [],
   "source": [
    "# initialisation d'un clustering DBSCAN\n",
    "dbscan_2 = cluster.DBSCAN(eps=2., min_samples=2)\n",
    "\n",
    "# application aux données \n",
    "dbscan_2.fit(circles_X)"
   ]
  },
  {
   "cell_type": "code",
   "execution_count": null,
   "id": "6e22d43f-e973-4414-a104-3bd5f97c40e3",
   "metadata": {},
   "outputs": [],
   "source": [
    "np.unique(dbscan_2.labels_)"
   ]
  },
  {
   "cell_type": "code",
   "execution_count": null,
   "id": "115f9216-1523-430a-a695-6375946f1a31",
   "metadata": {},
   "outputs": [],
   "source": [
    "fig = plt.figure(figsize=(5, 5))\n",
    "plt.scatter(circles_X[:, 0], circles_X[:, 1], c=dbscan_2.labels_)\n",
    "plt.title(\"Clustering DBSCAN (eps=2.)\")"
   ]
  },
  {
   "cell_type": "markdown",
   "id": "9980dd80-842e-4f8a-91f3-e94e48b0fa89",
   "metadata": {
    "tags": []
   },
   "source": [
    "#### Trouver eps avec le coefficient de silhouette"
   ]
  },
  {
   "cell_type": "code",
   "execution_count": null,
   "id": "652c0b3f-7edb-436c-a9a0-511354237a0d",
   "metadata": {},
   "outputs": [],
   "source": [
    "print(\"Coefficient de silhouette pour DBSCAN (eps=0.2) : %.2f\" % metrics.silhouette_score(circles_X, dbscan.labels_))"
   ]
  },
  {
   "cell_type": "code",
   "execution_count": null,
   "id": "426b2419-b17d-48fa-a2ba-0716f252c8dd",
   "metadata": {},
   "outputs": [],
   "source": [
    "eps_values = np.logspace(-3, 1, 40)\n",
    "silhouettes = []\n",
    "\n",
    "for eps in eps_values:\n",
    "    dbscan_eps = cluster.DBSCAN(eps=eps, min_samples=2)\n",
    "    dbscan_eps.fit(circles_X)\n",
    "    if len(unique(dbscan_eps.labels_)) > 1: # nécessaire pour calculer le coeff de silhouette\n",
    "        silhouettes.append(metrics.silhouette_score(circles_X, dbscan_eps.labels_))\n",
    "    else:\n",
    "        silhouettes.append(-1)"
   ]
  },
  {
   "cell_type": "code",
   "execution_count": null,
   "id": "a11f7db9-a67d-4851-b675-5f32e3310ca2",
   "metadata": {},
   "outputs": [],
   "source": [
    "plt.plot(eps_values, silhouettes)\n",
    "plt.xscale(\"log\")\n",
    "plt.xlabel(\"eps (échelle log)\")\n",
    "plt.ylabel(\"silhouette\")"
   ]
  },
  {
   "cell_type": "code",
   "execution_count": null,
   "id": "b1a93919-4b14-45b3-857f-f486042d6b6a",
   "metadata": {},
   "outputs": [],
   "source": [
    "best_silhouette = np.max(silhouettes)\n",
    "print(\"Coefficient de silhouette optimal : %.2f\" % best_silhouette)\n",
    "print(\"Eps correspondant : %.2f\" % eps_values[silhouettes.index(best_silhouette)])"
   ]
  },
  {
   "cell_type": "markdown",
   "id": "c501a894-f6ef-4241-be0e-df41281e9a9e",
   "metadata": {},
   "source": [
    "### Index de Rand ajusté"
   ]
  },
  {
   "cell_type": "markdown",
   "id": "a4e0d83e-999d-4f29-8b9e-142d7312b02f",
   "metadata": {},
   "source": [
    "L'index de Rand ajusté permet de **comparer un résultat de clustering avec des étiquettes**. Pour chaque paire d'observations nous regardons si elles se situent dans le même cluster ou non, dans le clustering prédit et réel. L'index prend des valeurs entre 0 (clustering aléatoire) et 1 (clustering parfait).\n",
    "\n",
    "Documentation : https://scikit-learn.org/stable/modules/generated/sklearn.metrics.adjusted_rand_score.html"
   ]
  },
  {
   "cell_type": "markdown",
   "id": "b3ed0923-da3e-45b0-9306-93443abbe6cd",
   "metadata": {},
   "source": [
    "__Question :__ Pourquoi ne pas utiliser une métrique d'évaluation de modèle de classification ici ?"
   ]
  },
  {
   "cell_type": "code",
   "execution_count": null,
   "id": "b2d46735-3875-4ae7-bbfd-12b5cb0cd4c1",
   "metadata": {},
   "outputs": [],
   "source": [
    "print(\"Index de Rand ajusté du K-means (K=2) : %.2f\" % metrics.adjusted_rand_score(circles_labels, kmeans.labels_))"
   ]
  },
  {
   "cell_type": "code",
   "execution_count": null,
   "id": "f7d0df46-30e5-42a5-971d-16b42fd3ded8",
   "metadata": {},
   "outputs": [],
   "source": [
    "print(\"Index de Rand ajusté de dbscan (eps=0.2) : %.2f\" % metrics.adjusted_rand_score(circles_labels, dbscan.labels_))"
   ]
  },
  {
   "cell_type": "markdown",
   "id": "8a4ffb84-0dea-4af4-a758-1ea1dd5fe384",
   "metadata": {},
   "source": [
    "## 2. Manchots"
   ]
  },
  {
   "cell_type": "markdown",
   "id": "1314e251-2f49-4796-944f-537340224e26",
   "metadata": {},
   "source": [
    "On reprend ici les données utilisées dans le notebook 4"
   ]
  },
  {
   "cell_type": "code",
   "execution_count": null,
   "id": "3207a1ea-1518-40b3-b871-7e6c0ea7a434",
   "metadata": {},
   "outputs": [],
   "source": [
    "palmerpenguins = pd.read_csv(\"data/penguins_data.csv\")"
   ]
  },
  {
   "cell_type": "markdown",
   "id": "c00174e8-7378-420a-b597-8ef720924004",
   "metadata": {},
   "source": [
    "__Alternativement :__ Si vous avez besoin de télécharger le fichier (par exemple sur colab) :"
   ]
  },
  {
   "cell_type": "code",
   "execution_count": null,
   "id": "d4b1a104-2f88-4b72-b2a9-cd4076474c4f",
   "metadata": {},
   "outputs": [],
   "source": [
    "!wget https://raw.githubusercontent.com/chagaz/cp-ia-intro-ml-2022/main/4-SVM/data/penguins_data.csv\n",
    "\n",
    "palmerpenguins = pd.read_csv(\"penguins_data.csv\")"
   ]
  },
  {
   "cell_type": "code",
   "execution_count": null,
   "id": "504b0cf5-7dc9-48c3-9d26-a1b311778830",
   "metadata": {},
   "outputs": [],
   "source": [
    "palmerpenguins = palmerpenguins[palmerpenguins['bill_depth_mm'].notna()]\n",
    "palmerpenguins = palmerpenguins.reset_index()"
   ]
  },
  {
   "cell_type": "code",
   "execution_count": null,
   "id": "75aab04b-e59d-438d-bb07-adfff684abf5",
   "metadata": {},
   "outputs": [],
   "source": [
    "penguins_X = np.array(palmerpenguins[[\"bill_length_mm\", \"body_mass_g\"]])"
   ]
  },
  {
   "cell_type": "code",
   "execution_count": null,
   "id": "9839790f-2f11-493c-a2c5-ca5dadd96ea6",
   "metadata": {},
   "outputs": [],
   "source": [
    "from sklearn import preprocessing"
   ]
  },
  {
   "cell_type": "code",
   "execution_count": null,
   "id": "f4649b85-5878-4c7a-97d9-0fc1cc598c58",
   "metadata": {},
   "outputs": [],
   "source": [
    "# standardisation (centrer-réduire)\n",
    "penguins_X = preprocessing.StandardScaler().fit_transform(penguins_X)"
   ]
  },
  {
   "cell_type": "code",
   "execution_count": null,
   "id": "304dbfdc-0153-407e-acc1-104fc2681ded",
   "metadata": {},
   "outputs": [],
   "source": [
    "species_names, species_int = np.unique(palmerpenguins.species, return_inverse=True)\n",
    "penguins_labels = species_int"
   ]
  },
  {
   "cell_type": "code",
   "execution_count": null,
   "id": "2bb39412-1ab5-4ec9-a694-5d97f40e8ae7",
   "metadata": {},
   "outputs": [],
   "source": [
    "plt.scatter(penguins_X[:, 0], penguins_X[:, 1], c=penguins_labels)\n",
    "plt.xlabel(\"bill_length_mm (centrée-réduite)\")\n",
    "plt.ylabel(\"body_mass_g (centrée-réduite)\")"
   ]
  },
  {
   "cell_type": "markdown",
   "id": "f76906b6-3b9b-468f-998b-f15246394a64",
   "metadata": {},
   "source": [
    "### KMeans"
   ]
  },
  {
   "cell_type": "code",
   "execution_count": null,
   "id": "4af92766-8f40-4735-933b-b927a0cc6a45",
   "metadata": {},
   "outputs": [],
   "source": [
    "# initialisation d'un k-means avec k=3\n",
    "kmeans = cluster.KMeans(n_clusters=3)\n",
    "\n",
    "# application aux données \n",
    "kmeans.fit(penguins_X)"
   ]
  },
  {
   "cell_type": "code",
   "execution_count": null,
   "id": "f637d839-f038-4d61-a54d-7baf040ec82a",
   "metadata": {},
   "outputs": [],
   "source": [
    "#plt.scatter(penguins_X[:, 0], penguins_X[:, 1], c=penguins_labels, marker='o')\n",
    "plt.scatter(penguins_X[:, 0], penguins_X[:, 1], c=kmeans.labels_, marker='*')\n",
    "\n",
    "\n",
    "plt.xlabel(\"bill_length_mm (centrée-réduite)\")\n",
    "plt.ylabel(\"body_mass_g (centrée-réduite)\")"
   ]
  },
  {
   "cell_type": "code",
   "execution_count": null,
   "id": "6cff0967-fc11-4e61-83da-c36e4f4d40f7",
   "metadata": {},
   "outputs": [],
   "source": [
    "print(\"Coefficient de silhouette pour le k-means (k=3) : %.2f\" % metrics.silhouette_score(penguins_X, kmeans.labels_))"
   ]
  },
  {
   "cell_type": "code",
   "execution_count": null,
   "id": "3b0e9091-30c6-4414-8437-02b77c1ad0d4",
   "metadata": {},
   "outputs": [],
   "source": [
    "print(\"Index de Rand ajusté du K-means (K=3) : %.2f\" % metrics.adjusted_rand_score(penguins_labels, kmeans.labels_))"
   ]
  },
  {
   "cell_type": "markdown",
   "id": "ac70d9e6-7fa0-40d1-bb53-edbcbeafca0a",
   "metadata": {},
   "source": [
    "### DBSCAN"
   ]
  },
  {
   "cell_type": "code",
   "execution_count": null,
   "id": "b3c4877d-2e2b-40e0-9b53-83e6c9bd4415",
   "metadata": {},
   "outputs": [],
   "source": [
    "eps_values = np.logspace(-3, 1, 40)\n",
    "silhouettes = []\n",
    "\n",
    "for eps in eps_values:\n",
    "    dbscan_eps = cluster.DBSCAN(eps=eps, min_samples=2)\n",
    "    dbscan_eps.fit(penguins_X)\n",
    "    if len(unique(dbscan_eps.labels_)) > 1: # nécessaire pour calculer le coeff de silhouette\n",
    "        silhouettes.append(metrics.silhouette_score(penguins_X, dbscan_eps.labels_))\n",
    "    else:\n",
    "        silhouettes.append(-1)"
   ]
  },
  {
   "cell_type": "code",
   "execution_count": null,
   "id": "5aa8e3fd-3c4b-4aa9-9f15-0f8e04eab9b5",
   "metadata": {},
   "outputs": [],
   "source": [
    "plt.plot(eps_values, silhouettes)\n",
    "plt.xscale(\"log\")\n",
    "plt.xlabel(\"eps (échelle log)\")\n",
    "plt.ylabel(\"silhouette\")"
   ]
  },
  {
   "cell_type": "code",
   "execution_count": null,
   "id": "f641aa7a-f414-4328-b777-5bddd4baef47",
   "metadata": {},
   "outputs": [],
   "source": [
    "best_silhouette = np.max(silhouettes)\n",
    "print(\"Coefficient de silhouette optimal : %.2f\" % best_silhouette)\n",
    "best_eps = eps_values[silhouettes.index(best_silhouette)]\n",
    "print(\"Eps correspondant : %.2f\" % best_eps)"
   ]
  },
  {
   "cell_type": "code",
   "execution_count": null,
   "id": "f95d5e9d-add9-4fe8-ba65-64af975959ff",
   "metadata": {},
   "outputs": [],
   "source": [
    "dbscan_opt = cluster.DBSCAN(eps=best_eps, min_samples=2)\n",
    "dbscan_opt.fit(penguins_X)"
   ]
  },
  {
   "cell_type": "code",
   "execution_count": null,
   "id": "c903b278-a7a9-44e6-8dcd-0e7387af2a80",
   "metadata": {},
   "outputs": [],
   "source": [
    "np.unique(dbscan_opt.labels_)"
   ]
  },
  {
   "cell_type": "code",
   "execution_count": null,
   "id": "fc14b2a1-0b85-484a-998f-67866e0f9e70",
   "metadata": {},
   "outputs": [],
   "source": [
    "print(\"Index de Rand ajusté de DBSCAN : %.2f\" % metrics.adjusted_rand_score(penguins_labels, dbscan_opt.labels_))"
   ]
  },
  {
   "cell_type": "code",
   "execution_count": null,
   "id": "01c03099-1254-4764-bd76-1bf2775f666f",
   "metadata": {},
   "outputs": [],
   "source": [
    "#plt.scatter(penguins_X[:, 0], penguins_X[:, 1], c=penguins_labels, marker='o')\n",
    "plt.scatter(penguins_X[:, 0], penguins_X[:, 1], c=dbscan_opt.labels_, marker='*')\n",
    "\n",
    "\n",
    "plt.xlabel(\"bill_length_mm (centrée-réduite)\")\n",
    "plt.ylabel(\"body_mass_g (centrée-réduite)\")"
   ]
  },
  {
   "cell_type": "markdown",
   "id": "5182812e-e711-4bde-b29e-7fc80aaba8f1",
   "metadata": {},
   "source": [
    "### Modèle de mélange gaussien "
   ]
  },
  {
   "cell_type": "markdown",
   "id": "f3f1c826-e5e4-4d05-b39f-3179b81e5dd0",
   "metadata": {},
   "source": [
    "Le modèle de mélange de gaussiennes cherche à **optimiser les paramètres d'un nombre fini de gaussiennes** aux données. \n",
    "\n",
    "Documentation : https://scikit-learn.org/stable/modules/generated/sklearn.mixture.GaussianMixture.html"
   ]
  },
  {
   "cell_type": "code",
   "execution_count": null,
   "id": "4d280311-6b16-4331-8f0a-3b47b5a82003",
   "metadata": {},
   "outputs": [],
   "source": [
    "from sklearn import mixture"
   ]
  },
  {
   "cell_type": "code",
   "execution_count": null,
   "id": "a4b4cd0c-c304-4c9f-9900-8a0d1f404744",
   "metadata": {},
   "outputs": [],
   "source": [
    "# initialisation d'un k-means avec k=3\n",
    "gmm = mixture.GaussianMixture(n_components=3)\n",
    "\n",
    "# application aux données \n",
    "gmm.fit(penguins_X)\n",
    "\n",
    "# prédiction des clusters\n",
    "gmm_labels = gmm.predict(penguins_X)"
   ]
  },
  {
   "cell_type": "code",
   "execution_count": null,
   "id": "b6b55dba-20d3-4ddd-8084-9e7297ecd743",
   "metadata": {},
   "outputs": [],
   "source": [
    "#plt.scatter(penguins_X[:, 0], penguins_X[:, 1], c=penguins_labels, marker='o')\n",
    "plt.scatter(penguins_X[:, 0], penguins_X[:, 1], c=gmm_labels, marker='*')\n",
    "\n",
    "\n",
    "plt.xlabel(\"bill_length_mm (centrée-réduite)\")\n",
    "plt.ylabel(\"body_mass_g (centrée-réduite)\")"
   ]
  },
  {
   "cell_type": "code",
   "execution_count": null,
   "id": "0c2f8122-6fbd-490e-a377-f1525d4da333",
   "metadata": {},
   "outputs": [],
   "source": [
    "print(\"Coefficient de silhouette pour le GMM (k=3) : %.2f\" % metrics.silhouette_score(penguins_X, gmm_labels))"
   ]
  },
  {
   "cell_type": "code",
   "execution_count": null,
   "id": "fbe532f3-5962-427c-b98c-c48dce2b8cd4",
   "metadata": {},
   "outputs": [],
   "source": [
    "print(\"Index de Rand ajusté du GMM (K=3) : %.2f\" % metrics.adjusted_rand_score(penguins_labels, gmm_labels))"
   ]
  }
 ],
 "metadata": {
  "kernelspec": {
   "display_name": "Python 3 (ipykernel)",
   "language": "python",
   "name": "python3"
  },
  "language_info": {
   "codemirror_mode": {
    "name": "ipython",
    "version": 3
   },
   "file_extension": ".py",
   "mimetype": "text/x-python",
   "name": "python",
   "nbconvert_exporter": "python",
   "pygments_lexer": "ipython3",
   "version": "3.9.9"
  }
 },
 "nbformat": 4,
 "nbformat_minor": 5
}
